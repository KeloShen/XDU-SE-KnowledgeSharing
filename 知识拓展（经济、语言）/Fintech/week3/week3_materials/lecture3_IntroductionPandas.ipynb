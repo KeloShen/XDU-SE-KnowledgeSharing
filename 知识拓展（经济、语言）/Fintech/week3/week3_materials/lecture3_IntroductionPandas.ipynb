{
 "cells": [
  {
   "cell_type": "markdown",
   "metadata": {
    "tags": [],
    "zanadu": {}
   },
   "source": [
    "# **INTRODUCTION TO `pandas`**\n",
    "---\n",
    " <br>\n",
    " \n",
    "- Copyright (c) Lukas Gonon, 2024. All rights reserved\n",
    "\n",
    "- Author: Lukas Gonon <l.gonon@imperial.ac.uk>\n",
    "\n",
    "- Platform: Tested on Windows 10 with Python 3.9"
   ]
  },
  {
   "cell_type": "markdown",
   "metadata": {},
   "source": [
    " **Origins**\n",
    " \n",
    " `pandas` was originally developed by [Wes McKinney](https://wesmckinney.com) while at AQR Capital in 2007-2010."
   ]
  },
  {
   "cell_type": "markdown",
   "metadata": {
    "zanadu": {}
   },
   "source": [
    "# Introduction to DataFrames"
   ]
  },
  {
   "cell_type": "code",
   "execution_count": 48,
   "metadata": {
    "zanadu": {
     "code_type": ""
    }
   },
   "outputs": [],
   "source": [
    "import numpy as np\n",
    "import pandas as pd\n",
    "import matplotlib.pylab as plt\n",
    "%matplotlib inline"
   ]
  },
  {
   "cell_type": "markdown",
   "metadata": {
    "zanadu": {}
   },
   "source": [
    "## Create a Dataframe with dates"
   ]
  },
  {
   "cell_type": "markdown",
   "metadata": {
    "zanadu": {}
   },
   "source": [
    "We start by creating series of Gaussian distributed values."
   ]
  },
  {
   "cell_type": "code",
   "execution_count": 49,
   "metadata": {},
   "outputs": [],
   "source": [
    "N = 10000 ## size of the dataframe"
   ]
  },
  {
   "cell_type": "code",
   "execution_count": 50,
   "metadata": {
    "zanadu": {
     "code_type": ""
    }
   },
   "outputs": [],
   "source": [
    "xx = np.random.standard_normal((N, 5))\n",
    "df = pd.DataFrame(xx)"
   ]
  },
  {
   "cell_type": "code",
   "execution_count": 51,
   "metadata": {},
   "outputs": [
    {
     "data": {
      "image/png": "[encoded data removed]",
      "text/plain": [
       "<Figure size 640x480 with 1 Axes>"
      ]
     },
     "metadata": {},
     "output_type": "display_data"
    }
   ],
   "source": [
    "gfg = np.random.standard_normal(100000) \n",
    "  \n",
    "plt.hist(gfg, bins = 100, density = True) \n",
    "plt.show()"
   ]
  },
  {
   "cell_type": "code",
   "execution_count": 52,
   "metadata": {},
   "outputs": [
    {
     "data": {
      "text/plain": [
       "(100000,)"
      ]
     },
     "execution_count": 52,
     "metadata": {},
     "output_type": "execute_result"
    }
   ],
   "source": [
    "gfg.shape"
   ]
  },
  {
   "cell_type": "code",
   "execution_count": 53,
   "metadata": {},
   "outputs": [
    {
     "data": {
      "text/plain": [
       "numpy.ndarray"
      ]
     },
     "execution_count": 53,
     "metadata": {},
     "output_type": "execute_result"
    }
   ],
   "source": [
    "type(xx)"
   ]
  },
  {
   "cell_type": "code",
   "execution_count": 54,
   "metadata": {},
   "outputs": [
    {
     "data": {
      "text/plain": [
       "pandas.core.frame.DataFrame"
      ]
     },
     "execution_count": 54,
     "metadata": {},
     "output_type": "execute_result"
    }
   ],
   "source": [
    "type(df)"
   ]
  },
  {
   "cell_type": "code",
   "execution_count": 55,
   "metadata": {
    "tags": []
   },
   "outputs": [
    {
     "data": {
      "text/html": [
       "<div>\n",
       "<style scoped>\n",
       "    .dataframe tbody tr th:only-of-type {\n",
       "        vertical-align: middle;\n",
       "    }\n",
       "\n",
       "    .dataframe tbody tr th {\n",
       "        vertical-align: top;\n",
       "    }\n",
       "\n",
       "    .dataframe thead th {\n",
       "        text-align: right;\n",
       "    }\n",
       "</style>\n",
       "<table border=\"1\" class=\"dataframe\">\n",
       "  <thead>\n",
       "    <tr style=\"text-align: right;\">\n",
       "      <th></th>\n",
       "      <th>0</th>\n",
       "      <th>1</th>\n",
       "      <th>2</th>\n",
       "      <th>3</th>\n",
       "      <th>4</th>\n",
       "    </tr>\n",
       "  </thead>\n",
       "  <tbody>\n",
       "    <tr>\n",
       "      <th>0</th>\n",
       "      <td>0.866025</td>\n",
       "      <td>0.925336</td>\n",
       "      <td>-0.114947</td>\n",
       "      <td>-1.708910</td>\n",
       "      <td>1.222564</td>\n",
       "    </tr>\n",
       "    <tr>\n",
       "      <th>1</th>\n",
       "      <td>0.258199</td>\n",
       "      <td>0.705033</td>\n",
       "      <td>-0.150114</td>\n",
       "      <td>0.009903</td>\n",
       "      <td>-0.265726</td>\n",
       "    </tr>\n",
       "    <tr>\n",
       "      <th>2</th>\n",
       "      <td>-0.243725</td>\n",
       "      <td>-1.430789</td>\n",
       "      <td>-0.050171</td>\n",
       "      <td>0.407021</td>\n",
       "      <td>1.175152</td>\n",
       "    </tr>\n",
       "    <tr>\n",
       "      <th>3</th>\n",
       "      <td>-1.455638</td>\n",
       "      <td>-0.269427</td>\n",
       "      <td>-0.680992</td>\n",
       "      <td>-0.393823</td>\n",
       "      <td>-0.153909</td>\n",
       "    </tr>\n",
       "    <tr>\n",
       "      <th>4</th>\n",
       "      <td>-0.910345</td>\n",
       "      <td>-0.420740</td>\n",
       "      <td>1.625086</td>\n",
       "      <td>1.732408</td>\n",
       "      <td>0.384801</td>\n",
       "    </tr>\n",
       "  </tbody>\n",
       "</table>\n",
       "</div>"
      ],
      "text/plain": [
       "          0         1         2         3         4\n",
       "0  0.866025  0.925336 -0.114947 -1.708910  1.222564\n",
       "1  0.258199  0.705033 -0.150114  0.009903 -0.265726\n",
       "2 -0.243725 -1.430789 -0.050171  0.407021  1.175152\n",
       "3 -1.455638 -0.269427 -0.680992 -0.393823 -0.153909\n",
       "4 -0.910345 -0.420740  1.625086  1.732408  0.384801"
      ]
     },
     "execution_count": 55,
     "metadata": {},
     "output_type": "execute_result"
    }
   ],
   "source": [
    "df.head() ## Print the top five rows"
   ]
  },
  {
   "cell_type": "code",
   "execution_count": 56,
   "metadata": {
    "zanadu": {
     "code_type": ""
    }
   },
   "outputs": [
    {
     "data": {
      "text/html": [
       "<div>\n",
       "<style scoped>\n",
       "    .dataframe tbody tr th:only-of-type {\n",
       "        vertical-align: middle;\n",
       "    }\n",
       "\n",
       "    .dataframe tbody tr th {\n",
       "        vertical-align: top;\n",
       "    }\n",
       "\n",
       "    .dataframe thead th {\n",
       "        text-align: right;\n",
       "    }\n",
       "</style>\n",
       "<table border=\"1\" class=\"dataframe\">\n",
       "  <thead>\n",
       "    <tr style=\"text-align: right;\">\n",
       "      <th></th>\n",
       "      <th>0</th>\n",
       "      <th>1</th>\n",
       "      <th>2</th>\n",
       "      <th>3</th>\n",
       "      <th>4</th>\n",
       "    </tr>\n",
       "  </thead>\n",
       "  <tbody>\n",
       "    <tr>\n",
       "      <th>9995</th>\n",
       "      <td>-0.116930</td>\n",
       "      <td>0.652332</td>\n",
       "      <td>-1.348522</td>\n",
       "      <td>-0.708024</td>\n",
       "      <td>1.588975</td>\n",
       "    </tr>\n",
       "    <tr>\n",
       "      <th>9996</th>\n",
       "      <td>-0.003774</td>\n",
       "      <td>0.303499</td>\n",
       "      <td>0.517194</td>\n",
       "      <td>-0.931835</td>\n",
       "      <td>0.107440</td>\n",
       "    </tr>\n",
       "    <tr>\n",
       "      <th>9997</th>\n",
       "      <td>-0.642405</td>\n",
       "      <td>2.075321</td>\n",
       "      <td>0.947850</td>\n",
       "      <td>-1.249773</td>\n",
       "      <td>0.088603</td>\n",
       "    </tr>\n",
       "    <tr>\n",
       "      <th>9998</th>\n",
       "      <td>0.787233</td>\n",
       "      <td>0.329961</td>\n",
       "      <td>1.308956</td>\n",
       "      <td>0.888550</td>\n",
       "      <td>0.086753</td>\n",
       "    </tr>\n",
       "    <tr>\n",
       "      <th>9999</th>\n",
       "      <td>-0.111954</td>\n",
       "      <td>-0.778405</td>\n",
       "      <td>-0.415627</td>\n",
       "      <td>-0.294097</td>\n",
       "      <td>0.129484</td>\n",
       "    </tr>\n",
       "  </tbody>\n",
       "</table>\n",
       "</div>"
      ],
      "text/plain": [
       "             0         1         2         3         4\n",
       "9995 -0.116930  0.652332 -1.348522 -0.708024  1.588975\n",
       "9996 -0.003774  0.303499  0.517194 -0.931835  0.107440\n",
       "9997 -0.642405  2.075321  0.947850 -1.249773  0.088603\n",
       "9998  0.787233  0.329961  1.308956  0.888550  0.086753\n",
       "9999 -0.111954 -0.778405 -0.415627 -0.294097  0.129484"
      ]
     },
     "execution_count": 56,
     "metadata": {},
     "output_type": "execute_result"
    }
   ],
   "source": [
    "df.tail() ## Print the bottom five rows"
   ]
  },
  {
   "cell_type": "code",
   "execution_count": 57,
   "metadata": {},
   "outputs": [
    {
     "data": {
      "text/html": [
       "<div>\n",
       "<style scoped>\n",
       "    .dataframe tbody tr th:only-of-type {\n",
       "        vertical-align: middle;\n",
       "    }\n",
       "\n",
       "    .dataframe tbody tr th {\n",
       "        vertical-align: top;\n",
       "    }\n",
       "\n",
       "    .dataframe thead th {\n",
       "        text-align: right;\n",
       "    }\n",
       "</style>\n",
       "<table border=\"1\" class=\"dataframe\">\n",
       "  <thead>\n",
       "    <tr style=\"text-align: right;\">\n",
       "      <th></th>\n",
       "      <th>Series 1</th>\n",
       "      <th>Series 2</th>\n",
       "      <th>Series 3</th>\n",
       "      <th>Series 4</th>\n",
       "      <th>Series 5</th>\n",
       "    </tr>\n",
       "  </thead>\n",
       "  <tbody>\n",
       "    <tr>\n",
       "      <th>0</th>\n",
       "      <td>0.866025</td>\n",
       "      <td>0.925336</td>\n",
       "      <td>-0.114947</td>\n",
       "      <td>-1.708910</td>\n",
       "      <td>1.222564</td>\n",
       "    </tr>\n",
       "    <tr>\n",
       "      <th>1</th>\n",
       "      <td>0.258199</td>\n",
       "      <td>0.705033</td>\n",
       "      <td>-0.150114</td>\n",
       "      <td>0.009903</td>\n",
       "      <td>-0.265726</td>\n",
       "    </tr>\n",
       "    <tr>\n",
       "      <th>2</th>\n",
       "      <td>-0.243725</td>\n",
       "      <td>-1.430789</td>\n",
       "      <td>-0.050171</td>\n",
       "      <td>0.407021</td>\n",
       "      <td>1.175152</td>\n",
       "    </tr>\n",
       "    <tr>\n",
       "      <th>3</th>\n",
       "      <td>-1.455638</td>\n",
       "      <td>-0.269427</td>\n",
       "      <td>-0.680992</td>\n",
       "      <td>-0.393823</td>\n",
       "      <td>-0.153909</td>\n",
       "    </tr>\n",
       "    <tr>\n",
       "      <th>4</th>\n",
       "      <td>-0.910345</td>\n",
       "      <td>-0.420740</td>\n",
       "      <td>1.625086</td>\n",
       "      <td>1.732408</td>\n",
       "      <td>0.384801</td>\n",
       "    </tr>\n",
       "  </tbody>\n",
       "</table>\n",
       "</div>"
      ],
      "text/plain": [
       "   Series 1  Series 2  Series 3  Series 4  Series 5\n",
       "0  0.866025  0.925336 -0.114947 -1.708910  1.222564\n",
       "1  0.258199  0.705033 -0.150114  0.009903 -0.265726\n",
       "2 -0.243725 -1.430789 -0.050171  0.407021  1.175152\n",
       "3 -1.455638 -0.269427 -0.680992 -0.393823 -0.153909\n",
       "4 -0.910345 -0.420740  1.625086  1.732408  0.384801"
      ]
     },
     "execution_count": 57,
     "metadata": {},
     "output_type": "execute_result"
    }
   ],
   "source": [
    "df.columns = [\"Series 1\", \"Series 2\", \"Series 3\", \"Series 4\", \"Series 5\"]\n",
    "## Or more concisely:\n",
    "#df.columns = [\"Series %s\" % i  for i in range(1,6)]\n",
    "df.head()"
   ]
  },
  {
   "cell_type": "markdown",
   "metadata": {
    "zanadu": {}
   },
   "source": [
    "Note that the index (first column on the left) has no real meaning here. \n",
    "However, in practice, thinking of each of the columns as a time series, it may represent dates. \n",
    "We re-index the whole dataframe with this in mind."
   ]
  },
  {
   "cell_type": "markdown",
   "metadata": {},
   "source": [
    "#### Specifying a start date"
   ]
  },
  {
   "cell_type": "code",
   "execution_count": 58,
   "metadata": {
    "zanadu": {
     "code_type": ""
    }
   },
   "outputs": [
    {
     "name": "stdout",
     "output_type": "stream",
     "text": [
      "Start date:  2018-01-01\n"
     ]
    }
   ],
   "source": [
    "startYear = '2018'\n",
    "startMonth = '01'\n",
    "startDay = '01'\n",
    "startDate = startYear + \"-\" + startMonth + \"-\" + startDay ## string concatenation\n",
    "print(\"Start date: \", startDate)"
   ]
  },
  {
   "cell_type": "code",
   "execution_count": 59,
   "metadata": {},
   "outputs": [
    {
     "data": {
      "text/html": [
       "<div>\n",
       "<style scoped>\n",
       "    .dataframe tbody tr th:only-of-type {\n",
       "        vertical-align: middle;\n",
       "    }\n",
       "\n",
       "    .dataframe tbody tr th {\n",
       "        vertical-align: top;\n",
       "    }\n",
       "\n",
       "    .dataframe thead th {\n",
       "        text-align: right;\n",
       "    }\n",
       "</style>\n",
       "<table border=\"1\" class=\"dataframe\">\n",
       "  <thead>\n",
       "    <tr style=\"text-align: right;\">\n",
       "      <th></th>\n",
       "      <th>Series 1</th>\n",
       "      <th>Series 2</th>\n",
       "      <th>Series 3</th>\n",
       "      <th>Series 4</th>\n",
       "      <th>Series 5</th>\n",
       "    </tr>\n",
       "    <tr>\n",
       "      <th>Date</th>\n",
       "      <th></th>\n",
       "      <th></th>\n",
       "      <th></th>\n",
       "      <th></th>\n",
       "      <th></th>\n",
       "    </tr>\n",
       "  </thead>\n",
       "  <tbody>\n",
       "    <tr>\n",
       "      <th>2018-01-01</th>\n",
       "      <td>0.866025</td>\n",
       "      <td>0.925336</td>\n",
       "      <td>-0.114947</td>\n",
       "      <td>-1.708910</td>\n",
       "      <td>1.222564</td>\n",
       "    </tr>\n",
       "    <tr>\n",
       "      <th>2018-01-02</th>\n",
       "      <td>0.258199</td>\n",
       "      <td>0.705033</td>\n",
       "      <td>-0.150114</td>\n",
       "      <td>0.009903</td>\n",
       "      <td>-0.265726</td>\n",
       "    </tr>\n",
       "    <tr>\n",
       "      <th>2018-01-03</th>\n",
       "      <td>-0.243725</td>\n",
       "      <td>-1.430789</td>\n",
       "      <td>-0.050171</td>\n",
       "      <td>0.407021</td>\n",
       "      <td>1.175152</td>\n",
       "    </tr>\n",
       "    <tr>\n",
       "      <th>2018-01-04</th>\n",
       "      <td>-1.455638</td>\n",
       "      <td>-0.269427</td>\n",
       "      <td>-0.680992</td>\n",
       "      <td>-0.393823</td>\n",
       "      <td>-0.153909</td>\n",
       "    </tr>\n",
       "    <tr>\n",
       "      <th>2018-01-05</th>\n",
       "      <td>-0.910345</td>\n",
       "      <td>-0.420740</td>\n",
       "      <td>1.625086</td>\n",
       "      <td>1.732408</td>\n",
       "      <td>0.384801</td>\n",
       "    </tr>\n",
       "  </tbody>\n",
       "</table>\n",
       "</div>"
      ],
      "text/plain": [
       "            Series 1  Series 2  Series 3  Series 4  Series 5\n",
       "Date                                                        \n",
       "2018-01-01  0.866025  0.925336 -0.114947 -1.708910  1.222564\n",
       "2018-01-02  0.258199  0.705033 -0.150114  0.009903 -0.265726\n",
       "2018-01-03 -0.243725 -1.430789 -0.050171  0.407021  1.175152\n",
       "2018-01-04 -1.455638 -0.269427 -0.680992 -0.393823 -0.153909\n",
       "2018-01-05 -0.910345 -0.420740  1.625086  1.732408  0.384801"
      ]
     },
     "execution_count": 59,
     "metadata": {},
     "output_type": "execute_result"
    }
   ],
   "source": [
    "dates = pd.date_range(startDate, periods=N, freq=\"D\")\n",
    "df.index = dates\n",
    "df.index.name = 'Date'\n",
    "df.head()"
   ]
  },
  {
   "cell_type": "markdown",
   "metadata": {
    "zanadu": {}
   },
   "source": [
    "## Basic dataframe manipulations"
   ]
  },
  {
   "cell_type": "code",
   "execution_count": 60,
   "metadata": {},
   "outputs": [
    {
     "data": {
      "text/plain": [
       "Index(['Series 1', 'Series 2', 'Series 3', 'Series 4', 'Series 5'], dtype='object')"
      ]
     },
     "execution_count": 60,
     "metadata": {},
     "output_type": "execute_result"
    }
   ],
   "source": [
    "df.keys()"
   ]
  },
  {
   "cell_type": "markdown",
   "metadata": {},
   "source": [
    "An Index is a `pandas` class for an immutable sequence, which is the basis for axes."
   ]
  },
  {
   "cell_type": "code",
   "execution_count": 61,
   "metadata": {
    "zanadu": {
     "code_type": ""
    }
   },
   "outputs": [
    {
     "name": "stdout",
     "output_type": "stream",
     "text": [
      "Names of columns: ['Series 1', 'Series 2', 'Series 3', 'Series 4', 'Series 5']\n"
     ]
    }
   ],
   "source": [
    "print('Names of columns:', [d for d in df.keys().values])\n",
    "## similarly df.columns"
   ]
  },
  {
   "cell_type": "markdown",
   "metadata": {},
   "source": [
    "Overview of the data"
   ]
  },
  {
   "cell_type": "code",
   "execution_count": 62,
   "metadata": {},
   "outputs": [
    {
     "name": "stdout",
     "output_type": "stream",
     "text": [
      "<class 'pandas.core.frame.DataFrame'>\n",
      "DatetimeIndex: 10000 entries, 2018-01-01 to 2045-05-18\n",
      "Freq: D\n",
      "Data columns (total 5 columns):\n",
      " #   Column    Non-Null Count  Dtype  \n",
      "---  ------    --------------  -----  \n",
      " 0   Series 1  10000 non-null  float64\n",
      " 1   Series 2  10000 non-null  float64\n",
      " 2   Series 3  10000 non-null  float64\n",
      " 3   Series 4  10000 non-null  float64\n",
      " 4   Series 5  10000 non-null  float64\n",
      "dtypes: float64(5)\n",
      "memory usage: 468.8 KB\n"
     ]
    }
   ],
   "source": [
    "df.info()"
   ]
  },
  {
   "cell_type": "markdown",
   "metadata": {},
   "source": [
    "Basic statistics"
   ]
  },
  {
   "cell_type": "code",
   "execution_count": 63,
   "metadata": {},
   "outputs": [
    {
     "data": {
      "text/html": [
       "<div>\n",
       "<style scoped>\n",
       "    .dataframe tbody tr th:only-of-type {\n",
       "        vertical-align: middle;\n",
       "    }\n",
       "\n",
       "    .dataframe tbody tr th {\n",
       "        vertical-align: top;\n",
       "    }\n",
       "\n",
       "    .dataframe thead th {\n",
       "        text-align: right;\n",
       "    }\n",
       "</style>\n",
       "<table border=\"1\" class=\"dataframe\">\n",
       "  <thead>\n",
       "    <tr style=\"text-align: right;\">\n",
       "      <th></th>\n",
       "      <th>Series 1</th>\n",
       "      <th>Series 2</th>\n",
       "      <th>Series 3</th>\n",
       "      <th>Series 4</th>\n",
       "      <th>Series 5</th>\n",
       "    </tr>\n",
       "  </thead>\n",
       "  <tbody>\n",
       "    <tr>\n",
       "      <th>count</th>\n",
       "      <td>10000.000000</td>\n",
       "      <td>10000.000000</td>\n",
       "      <td>10000.000000</td>\n",
       "      <td>10000.000000</td>\n",
       "      <td>10000.000000</td>\n",
       "    </tr>\n",
       "    <tr>\n",
       "      <th>mean</th>\n",
       "      <td>0.015124</td>\n",
       "      <td>-0.005116</td>\n",
       "      <td>0.017874</td>\n",
       "      <td>-0.004129</td>\n",
       "      <td>-0.001161</td>\n",
       "    </tr>\n",
       "    <tr>\n",
       "      <th>std</th>\n",
       "      <td>1.005925</td>\n",
       "      <td>0.995086</td>\n",
       "      <td>1.004485</td>\n",
       "      <td>1.001426</td>\n",
       "      <td>0.995712</td>\n",
       "    </tr>\n",
       "    <tr>\n",
       "      <th>min</th>\n",
       "      <td>-3.912949</td>\n",
       "      <td>-3.630109</td>\n",
       "      <td>-3.788950</td>\n",
       "      <td>-3.809916</td>\n",
       "      <td>-3.576636</td>\n",
       "    </tr>\n",
       "    <tr>\n",
       "      <th>25%</th>\n",
       "      <td>-0.663859</td>\n",
       "      <td>-0.679933</td>\n",
       "      <td>-0.655908</td>\n",
       "      <td>-0.670665</td>\n",
       "      <td>-0.678915</td>\n",
       "    </tr>\n",
       "    <tr>\n",
       "      <th>50%</th>\n",
       "      <td>0.010674</td>\n",
       "      <td>-0.005605</td>\n",
       "      <td>0.009479</td>\n",
       "      <td>-0.011959</td>\n",
       "      <td>0.004716</td>\n",
       "    </tr>\n",
       "    <tr>\n",
       "      <th>75%</th>\n",
       "      <td>0.697244</td>\n",
       "      <td>0.668970</td>\n",
       "      <td>0.706923</td>\n",
       "      <td>0.673785</td>\n",
       "      <td>0.676028</td>\n",
       "    </tr>\n",
       "    <tr>\n",
       "      <th>max</th>\n",
       "      <td>3.537137</td>\n",
       "      <td>4.027948</td>\n",
       "      <td>3.815473</td>\n",
       "      <td>3.674372</td>\n",
       "      <td>3.743161</td>\n",
       "    </tr>\n",
       "  </tbody>\n",
       "</table>\n",
       "</div>"
      ],
      "text/plain": [
       "           Series 1      Series 2      Series 3      Series 4      Series 5\n",
       "count  10000.000000  10000.000000  10000.000000  10000.000000  10000.000000\n",
       "mean       0.015124     -0.005116      0.017874     -0.004129     -0.001161\n",
       "std        1.005925      0.995086      1.004485      1.001426      0.995712\n",
       "min       -3.912949     -3.630109     -3.788950     -3.809916     -3.576636\n",
       "25%       -0.663859     -0.679933     -0.655908     -0.670665     -0.678915\n",
       "50%        0.010674     -0.005605      0.009479     -0.011959      0.004716\n",
       "75%        0.697244      0.668970      0.706923      0.673785      0.676028\n",
       "max        3.537137      4.027948      3.815473      3.674372      3.743161"
      ]
     },
     "execution_count": 63,
     "metadata": {},
     "output_type": "execute_result"
    }
   ],
   "source": [
    "df.describe()"
   ]
  },
  {
   "cell_type": "markdown",
   "metadata": {
    "tags": []
   },
   "source": [
    "## Accessing elements from a dataframe\n",
    "\n",
    "A  DataFrame may be indexed like an array, specifying the row and column number using .iloc (index location).\n",
    "The location can be called either by the index number or by its name."
   ]
  },
  {
   "cell_type": "code",
   "execution_count": 64,
   "metadata": {
    "zanadu": {
     "code_type": ""
    }
   },
   "outputs": [
    {
     "data": {
      "text/html": [
       "<div>\n",
       "<style scoped>\n",
       "    .dataframe tbody tr th:only-of-type {\n",
       "        vertical-align: middle;\n",
       "    }\n",
       "\n",
       "    .dataframe tbody tr th {\n",
       "        vertical-align: top;\n",
       "    }\n",
       "\n",
       "    .dataframe thead th {\n",
       "        text-align: right;\n",
       "    }\n",
       "</style>\n",
       "<table border=\"1\" class=\"dataframe\">\n",
       "  <thead>\n",
       "    <tr style=\"text-align: right;\">\n",
       "      <th></th>\n",
       "      <th>Series 1</th>\n",
       "      <th>Series 2</th>\n",
       "      <th>Series 3</th>\n",
       "      <th>Series 4</th>\n",
       "      <th>Series 5</th>\n",
       "    </tr>\n",
       "    <tr>\n",
       "      <th>Date</th>\n",
       "      <th></th>\n",
       "      <th></th>\n",
       "      <th></th>\n",
       "      <th></th>\n",
       "      <th></th>\n",
       "    </tr>\n",
       "  </thead>\n",
       "  <tbody>\n",
       "    <tr>\n",
       "      <th>2018-01-01</th>\n",
       "      <td>0.866025</td>\n",
       "      <td>0.925336</td>\n",
       "      <td>-0.114947</td>\n",
       "      <td>-1.708910</td>\n",
       "      <td>1.222564</td>\n",
       "    </tr>\n",
       "    <tr>\n",
       "      <th>2018-01-02</th>\n",
       "      <td>0.258199</td>\n",
       "      <td>0.705033</td>\n",
       "      <td>-0.150114</td>\n",
       "      <td>0.009903</td>\n",
       "      <td>-0.265726</td>\n",
       "    </tr>\n",
       "    <tr>\n",
       "      <th>2018-01-03</th>\n",
       "      <td>-0.243725</td>\n",
       "      <td>-1.430789</td>\n",
       "      <td>-0.050171</td>\n",
       "      <td>0.407021</td>\n",
       "      <td>1.175152</td>\n",
       "    </tr>\n",
       "    <tr>\n",
       "      <th>2018-01-04</th>\n",
       "      <td>-1.455638</td>\n",
       "      <td>-0.269427</td>\n",
       "      <td>-0.680992</td>\n",
       "      <td>-0.393823</td>\n",
       "      <td>-0.153909</td>\n",
       "    </tr>\n",
       "    <tr>\n",
       "      <th>2018-01-05</th>\n",
       "      <td>-0.910345</td>\n",
       "      <td>-0.420740</td>\n",
       "      <td>1.625086</td>\n",
       "      <td>1.732408</td>\n",
       "      <td>0.384801</td>\n",
       "    </tr>\n",
       "  </tbody>\n",
       "</table>\n",
       "</div>"
      ],
      "text/plain": [
       "            Series 1  Series 2  Series 3  Series 4  Series 5\n",
       "Date                                                        \n",
       "2018-01-01  0.866025  0.925336 -0.114947 -1.708910  1.222564\n",
       "2018-01-02  0.258199  0.705033 -0.150114  0.009903 -0.265726\n",
       "2018-01-03 -0.243725 -1.430789 -0.050171  0.407021  1.175152\n",
       "2018-01-04 -1.455638 -0.269427 -0.680992 -0.393823 -0.153909\n",
       "2018-01-05 -0.910345 -0.420740  1.625086  1.732408  0.384801"
      ]
     },
     "execution_count": 64,
     "metadata": {},
     "output_type": "execute_result"
    }
   ],
   "source": [
    "df.head()"
   ]
  },
  {
   "cell_type": "code",
   "execution_count": 65,
   "metadata": {
    "zanadu": {
     "code_type": ""
    }
   },
   "outputs": [
    {
     "name": "stdout",
     "output_type": "stream",
     "text": [
      "First row, second column:  0.9253355623729559  or  0.9253355623729559\n"
     ]
    }
   ],
   "source": [
    "print(\"First row, second column: \", df.iloc[0, 1], \" or \", df.loc[startDate, 'Series 2'])"
   ]
  },
  {
   "cell_type": "code",
   "execution_count": 66,
   "metadata": {},
   "outputs": [
    {
     "name": "stdout",
     "output_type": "stream",
     "text": [
      "Series 1   -0.243725\n",
      "Series 2   -1.430789\n",
      "Series 3   -0.050171\n",
      "Series 4    0.407021\n",
      "Series 5    1.175152\n",
      "Name: 2018-01-03 00:00:00, dtype: float64\n",
      "Type:  <class 'pandas.core.series.Series'>\n"
     ]
    }
   ],
   "source": [
    "myRow = df.iloc[2,:]\n",
    "print(myRow)\n",
    "print(\"Type: \", type(myRow))"
   ]
  },
  {
   "cell_type": "markdown",
   "metadata": {},
   "source": [
    "Equivalently:"
   ]
  },
  {
   "cell_type": "code",
   "execution_count": 67,
   "metadata": {},
   "outputs": [
    {
     "name": "stdout",
     "output_type": "stream",
     "text": [
      "Series 1   -0.243725\n",
      "Series 2   -1.430789\n",
      "Series 3   -0.050171\n",
      "Series 4    0.407021\n",
      "Series 5    1.175152\n",
      "Name: 2018-01-03 00:00:00, dtype: float64 <class 'pandas.core.series.Series'>\n"
     ]
    }
   ],
   "source": [
    "myRow = df.loc['2018-01-03']\n",
    "print(myRow, type(myRow))"
   ]
  },
  {
   "cell_type": "code",
   "execution_count": 68,
   "metadata": {},
   "outputs": [
    {
     "name": "stdout",
     "output_type": "stream",
     "text": [
      "Accessing elements by slicing over columns: \n",
      "Series 2    0.925336\n",
      "Series 3   -0.114947\n",
      "Name: 2018-01-01 00:00:00, dtype: float64\n",
      "<class 'pandas.core.series.Series'>\n"
     ]
    }
   ],
   "source": [
    "print(\"Accessing elements by slicing over columns: \")\n",
    "print(df.iloc[0, 1:3])\n",
    "print(type(df.iloc[0, 1:3]))"
   ]
  },
  {
   "cell_type": "code",
   "execution_count": 69,
   "metadata": {},
   "outputs": [
    {
     "name": "stdout",
     "output_type": "stream",
     "text": [
      "Accessing elements by slicing over rows: \n",
      "Date\n",
      "2018-01-11   -1.417901\n",
      "2018-01-12   -0.884851\n",
      "2018-01-13    1.207460\n",
      "2018-01-14    1.092270\n",
      "Freq: D, Name: Series 2, dtype: float64\n",
      "<class 'pandas.core.series.Series'>\n"
     ]
    }
   ],
   "source": [
    "print(\"Accessing elements by slicing over rows: \")\n",
    "print(df.iloc[10:14, 1])\n",
    "print(type(df.iloc[10:14, 1]))"
   ]
  },
  {
   "cell_type": "code",
   "execution_count": 70,
   "metadata": {},
   "outputs": [
    {
     "name": "stdout",
     "output_type": "stream",
     "text": [
      "Accessing elements by slicing over boths: \n",
      "            Series 2  Series 3\n",
      "Date                          \n",
      "2018-01-11 -1.417901  1.647689\n",
      "2018-01-12 -0.884851 -0.669435\n",
      "2018-01-13  1.207460 -0.248425\n",
      "2018-01-14  1.092270 -0.894121\n",
      "<class 'pandas.core.frame.DataFrame'>\n"
     ]
    }
   ],
   "source": [
    "print(\"Accessing elements by slicing over boths: \")\n",
    "print(df.iloc[10:14, 1:3])\n",
    "print(type(df.iloc[10:14, 1:3]))"
   ]
  },
  {
   "cell_type": "markdown",
   "metadata": {},
   "source": [
    "Question: What are the types of the following objects:\n",
    "- df.iloc[2]\n",
    "- df.iloc[2].values\n",
    "- [d for d in df.iloc[2]]"
   ]
  },
  {
   "cell_type": "code",
   "execution_count": 71,
   "metadata": {
    "tags": []
   },
   "outputs": [
    {
     "name": "stdout",
     "output_type": "stream",
     "text": [
      "<class 'pandas.core.series.Series'>\n",
      "<class 'numpy.ndarray'>\n",
      "<class 'list'>\n"
     ]
    }
   ],
   "source": [
    "print(type(df.iloc[2]))\n",
    "print(type(df.iloc[2].values))\n",
    "print(type([d for d in df.iloc[2]]))"
   ]
  },
  {
   "cell_type": "code",
   "execution_count": 72,
   "metadata": {},
   "outputs": [
    {
     "name": "stdout",
     "output_type": "stream",
     "text": [
      "Series 1    0.258199\n",
      "Series 2    0.705033\n",
      "Series 3   -0.150114\n",
      "Series 4    0.009903\n",
      "Series 5   -0.265726\n",
      "Name: 2018-01-02 00:00:00, dtype: float64\n"
     ]
    }
   ],
   "source": [
    "print(df.iloc[1])"
   ]
  },
  {
   "cell_type": "markdown",
   "metadata": {},
   "source": [
    "### `.at` and `.iat`\n",
    "\n",
    "These two commands are very similar to `.loc` and `.iloc`, and are actually faster, but slicing is not permitted."
   ]
  },
  {
   "cell_type": "code",
   "execution_count": 73,
   "metadata": {},
   "outputs": [
    {
     "name": "stdout",
     "output_type": "stream",
     "text": [
      "32.8 µs ± 604 ns per loop (mean ± std. dev. of 7 runs, 10000 loops each)\n",
      "28.6 µs ± 171 ns per loop (mean ± std. dev. of 7 runs, 10000 loops each)\n"
     ]
    }
   ],
   "source": [
    "%timeit df.iloc[10, 2]\n",
    "%timeit df.iat[10, 2]"
   ]
  },
  {
   "cell_type": "code",
   "execution_count": 74,
   "metadata": {},
   "outputs": [
    {
     "name": "stdout",
     "output_type": "stream",
     "text": [
      "Error, you need to use the function 'iloc'\n",
      " Series 3    1.647689\n",
      "Series 4   -0.769282\n",
      "Name: 2018-01-11 00:00:00, dtype: float64\n"
     ]
    }
   ],
   "source": [
    "try:\n",
    "    df.iat[10, 2:4]\n",
    "except :\n",
    "    print(\"Error, you need to use the function 'iloc'\\n\",df.iloc[10,2:4])\n"
   ]
  },
  {
   "cell_type": "markdown",
   "metadata": {},
   "source": [
    "### Extract elements with conditions"
   ]
  },
  {
   "cell_type": "code",
   "execution_count": 75,
   "metadata": {
    "zanadu": {
     "code_type": ""
    }
   },
   "outputs": [
    {
     "data": {
      "text/html": [
       "<div>\n",
       "<style scoped>\n",
       "    .dataframe tbody tr th:only-of-type {\n",
       "        vertical-align: middle;\n",
       "    }\n",
       "\n",
       "    .dataframe tbody tr th {\n",
       "        vertical-align: top;\n",
       "    }\n",
       "\n",
       "    .dataframe thead th {\n",
       "        text-align: right;\n",
       "    }\n",
       "</style>\n",
       "<table border=\"1\" class=\"dataframe\">\n",
       "  <thead>\n",
       "    <tr style=\"text-align: right;\">\n",
       "      <th></th>\n",
       "      <th>Series 1</th>\n",
       "      <th>Series 2</th>\n",
       "      <th>Series 3</th>\n",
       "      <th>Series 4</th>\n",
       "      <th>Series 5</th>\n",
       "    </tr>\n",
       "    <tr>\n",
       "      <th>Date</th>\n",
       "      <th></th>\n",
       "      <th></th>\n",
       "      <th></th>\n",
       "      <th></th>\n",
       "      <th></th>\n",
       "    </tr>\n",
       "  </thead>\n",
       "  <tbody>\n",
       "    <tr>\n",
       "      <th>2028-06-22</th>\n",
       "      <td>-0.966717</td>\n",
       "      <td>3.466200</td>\n",
       "      <td>0.048213</td>\n",
       "      <td>0.108555</td>\n",
       "      <td>1.806710</td>\n",
       "    </tr>\n",
       "    <tr>\n",
       "      <th>2030-06-19</th>\n",
       "      <td>-1.879723</td>\n",
       "      <td>4.027948</td>\n",
       "      <td>-0.089568</td>\n",
       "      <td>-1.600754</td>\n",
       "      <td>-0.411104</td>\n",
       "    </tr>\n",
       "    <tr>\n",
       "      <th>2036-09-03</th>\n",
       "      <td>-0.282010</td>\n",
       "      <td>3.524751</td>\n",
       "      <td>1.912818</td>\n",
       "      <td>0.255497</td>\n",
       "      <td>-0.941894</td>\n",
       "    </tr>\n",
       "  </tbody>\n",
       "</table>\n",
       "</div>"
      ],
      "text/plain": [
       "            Series 1  Series 2  Series 3  Series 4  Series 5\n",
       "Date                                                        \n",
       "2028-06-22 -0.966717  3.466200  0.048213  0.108555  1.806710\n",
       "2030-06-19 -1.879723  4.027948 -0.089568 -1.600754 -0.411104\n",
       "2036-09-03 -0.282010  3.524751  1.912818  0.255497 -0.941894"
      ]
     },
     "execution_count": 75,
     "metadata": {},
     "output_type": "execute_result"
    }
   ],
   "source": [
    "mySeriesName = \"Series 2\"\n",
    "df[df[mySeriesName] > 3.4]"
   ]
  },
  {
   "cell_type": "markdown",
   "metadata": {},
   "source": [
    "Note that the series `df` has not been modified. Only a copy has been printed!!"
   ]
  },
  {
   "cell_type": "code",
   "execution_count": 76,
   "metadata": {
    "zanadu": {
     "code_type": ""
    }
   },
   "outputs": [
    {
     "data": {
      "text/plain": [
       "Date\n",
       "2028-06-22    3.466200\n",
       "2030-06-19    4.027948\n",
       "2036-09-03    3.524751\n",
       "Name: Series 2, dtype: float64"
      ]
     },
     "execution_count": 76,
     "metadata": {},
     "output_type": "execute_result"
    }
   ],
   "source": [
    "mySeries =  df[mySeriesName][df[mySeriesName] > 3.4]\n",
    "mySeries"
   ]
  },
  {
   "cell_type": "markdown",
   "metadata": {
    "zanadu": {}
   },
   "source": [
    "We can return the series only as a list:"
   ]
  },
  {
   "cell_type": "code",
   "execution_count": 77,
   "metadata": {},
   "outputs": [
    {
     "name": "stdout",
     "output_type": "stream",
     "text": [
      "[3.4662004  4.02794802 3.52475122]\n"
     ]
    }
   ],
   "source": [
    "print(mySeries.values)"
   ]
  },
  {
   "cell_type": "markdown",
   "metadata": {},
   "source": [
    "### User-defined functions"
   ]
  },
  {
   "cell_type": "code",
   "execution_count": 78,
   "metadata": {},
   "outputs": [
    {
     "data": {
      "text/html": [
       "<div>\n",
       "<style scoped>\n",
       "    .dataframe tbody tr th:only-of-type {\n",
       "        vertical-align: middle;\n",
       "    }\n",
       "\n",
       "    .dataframe tbody tr th {\n",
       "        vertical-align: top;\n",
       "    }\n",
       "\n",
       "    .dataframe thead th {\n",
       "        text-align: right;\n",
       "    }\n",
       "</style>\n",
       "<table border=\"1\" class=\"dataframe\">\n",
       "  <thead>\n",
       "    <tr style=\"text-align: right;\">\n",
       "      <th></th>\n",
       "      <th>Series 1</th>\n",
       "      <th>Series 2</th>\n",
       "      <th>Series 3</th>\n",
       "      <th>Series 4</th>\n",
       "      <th>Series 5</th>\n",
       "    </tr>\n",
       "    <tr>\n",
       "      <th>Date</th>\n",
       "      <th></th>\n",
       "      <th></th>\n",
       "      <th></th>\n",
       "      <th></th>\n",
       "      <th></th>\n",
       "    </tr>\n",
       "  </thead>\n",
       "  <tbody>\n",
       "    <tr>\n",
       "      <th>2018-01-01</th>\n",
       "      <td>0.866025</td>\n",
       "      <td>0.925336</td>\n",
       "      <td>-0.114947</td>\n",
       "      <td>-1.708910</td>\n",
       "      <td>1.222564</td>\n",
       "    </tr>\n",
       "    <tr>\n",
       "      <th>2018-01-02</th>\n",
       "      <td>0.258199</td>\n",
       "      <td>0.705033</td>\n",
       "      <td>-0.150114</td>\n",
       "      <td>0.009903</td>\n",
       "      <td>-0.265726</td>\n",
       "    </tr>\n",
       "    <tr>\n",
       "      <th>2018-01-03</th>\n",
       "      <td>-0.243725</td>\n",
       "      <td>-1.430789</td>\n",
       "      <td>-0.050171</td>\n",
       "      <td>0.407021</td>\n",
       "      <td>1.175152</td>\n",
       "    </tr>\n",
       "    <tr>\n",
       "      <th>2018-01-04</th>\n",
       "      <td>-1.455638</td>\n",
       "      <td>-0.269427</td>\n",
       "      <td>-0.680992</td>\n",
       "      <td>-0.393823</td>\n",
       "      <td>-0.153909</td>\n",
       "    </tr>\n",
       "    <tr>\n",
       "      <th>2018-01-05</th>\n",
       "      <td>-0.910345</td>\n",
       "      <td>-0.420740</td>\n",
       "      <td>1.625086</td>\n",
       "      <td>1.732408</td>\n",
       "      <td>0.384801</td>\n",
       "    </tr>\n",
       "  </tbody>\n",
       "</table>\n",
       "</div>"
      ],
      "text/plain": [
       "            Series 1  Series 2  Series 3  Series 4  Series 5\n",
       "Date                                                        \n",
       "2018-01-01  0.866025  0.925336 -0.114947 -1.708910  1.222564\n",
       "2018-01-02  0.258199  0.705033 -0.150114  0.009903 -0.265726\n",
       "2018-01-03 -0.243725 -1.430789 -0.050171  0.407021  1.175152\n",
       "2018-01-04 -1.455638 -0.269427 -0.680992 -0.393823 -0.153909\n",
       "2018-01-05 -0.910345 -0.420740  1.625086  1.732408  0.384801"
      ]
     },
     "execution_count": 78,
     "metadata": {},
     "output_type": "execute_result"
    }
   ],
   "source": [
    "df = df\n",
    "df.head()"
   ]
  },
  {
   "cell_type": "markdown",
   "metadata": {},
   "source": [
    "Here, the original dataframe has been modified!"
   ]
  },
  {
   "cell_type": "code",
   "execution_count": 79,
   "metadata": {},
   "outputs": [
    {
     "data": {
      "text/html": [
       "<div>\n",
       "<style scoped>\n",
       "    .dataframe tbody tr th:only-of-type {\n",
       "        vertical-align: middle;\n",
       "    }\n",
       "\n",
       "    .dataframe tbody tr th {\n",
       "        vertical-align: top;\n",
       "    }\n",
       "\n",
       "    .dataframe thead th {\n",
       "        text-align: right;\n",
       "    }\n",
       "</style>\n",
       "<table border=\"1\" class=\"dataframe\">\n",
       "  <thead>\n",
       "    <tr style=\"text-align: right;\">\n",
       "      <th></th>\n",
       "      <th>Series 1</th>\n",
       "      <th>Series 2</th>\n",
       "      <th>Series 3</th>\n",
       "      <th>Series 4</th>\n",
       "      <th>Series 5</th>\n",
       "    </tr>\n",
       "    <tr>\n",
       "      <th>Date</th>\n",
       "      <th></th>\n",
       "      <th></th>\n",
       "      <th></th>\n",
       "      <th></th>\n",
       "      <th></th>\n",
       "    </tr>\n",
       "  </thead>\n",
       "  <tbody>\n",
       "    <tr>\n",
       "      <th>2018-01-01</th>\n",
       "      <td>0.866025</td>\n",
       "      <td>10.925336</td>\n",
       "      <td>-0.114947</td>\n",
       "      <td>-1.708910</td>\n",
       "      <td>1.222564</td>\n",
       "    </tr>\n",
       "    <tr>\n",
       "      <th>2018-01-02</th>\n",
       "      <td>0.258199</td>\n",
       "      <td>10.705033</td>\n",
       "      <td>-0.150114</td>\n",
       "      <td>0.009903</td>\n",
       "      <td>-0.265726</td>\n",
       "    </tr>\n",
       "    <tr>\n",
       "      <th>2018-01-03</th>\n",
       "      <td>-0.243725</td>\n",
       "      <td>8.569211</td>\n",
       "      <td>-0.050171</td>\n",
       "      <td>0.407021</td>\n",
       "      <td>1.175152</td>\n",
       "    </tr>\n",
       "    <tr>\n",
       "      <th>2018-01-04</th>\n",
       "      <td>-1.455638</td>\n",
       "      <td>9.730573</td>\n",
       "      <td>-0.680992</td>\n",
       "      <td>-0.393823</td>\n",
       "      <td>-0.153909</td>\n",
       "    </tr>\n",
       "    <tr>\n",
       "      <th>2018-01-05</th>\n",
       "      <td>-0.910345</td>\n",
       "      <td>9.579260</td>\n",
       "      <td>1.625086</td>\n",
       "      <td>1.732408</td>\n",
       "      <td>0.384801</td>\n",
       "    </tr>\n",
       "  </tbody>\n",
       "</table>\n",
       "</div>"
      ],
      "text/plain": [
       "            Series 1   Series 2  Series 3  Series 4  Series 5\n",
       "Date                                                         \n",
       "2018-01-01  0.866025  10.925336 -0.114947 -1.708910  1.222564\n",
       "2018-01-02  0.258199  10.705033 -0.150114  0.009903 -0.265726\n",
       "2018-01-03 -0.243725   8.569211 -0.050171  0.407021  1.175152\n",
       "2018-01-04 -1.455638   9.730573 -0.680992 -0.393823 -0.153909\n",
       "2018-01-05 -0.910345   9.579260  1.625086  1.732408  0.384801"
      ]
     },
     "execution_count": 79,
     "metadata": {},
     "output_type": "execute_result"
    }
   ],
   "source": [
    "def myFunction(x, param):\n",
    "    return x + param\n",
    "\n",
    "df[mySeriesName] = df[mySeriesName].apply(myFunction, args=(10,))\n",
    "df.head()"
   ]
  },
  {
   "cell_type": "markdown",
   "metadata": {
    "zanadu": {}
   },
   "source": [
    "## Numpy on dataframe"
   ]
  },
  {
   "cell_type": "markdown",
   "metadata": {
    "zanadu": {}
   },
   "source": [
    "This is where the power of the DataFrame comes into the picture, namely that operations need to be performed element by element, \n",
    "but apply to a whole series (column) at once."
   ]
  },
  {
   "cell_type": "code",
   "execution_count": 80,
   "metadata": {},
   "outputs": [
    {
     "name": "stdout",
     "output_type": "stream",
     "text": [
      "Series index1\n"
     ]
    }
   ],
   "source": [
    "myIndex = input(\"Series index\")"
   ]
  },
  {
   "cell_type": "code",
   "execution_count": 81,
   "metadata": {
    "zanadu": {
     "code_type": ""
    }
   },
   "outputs": [
    {
     "name": "stdout",
     "output_type": "stream",
     "text": [
      "Maximum on the first Series: 3.5371367687919846\n",
      "Date (index) where this maximum is attained: 2334\n",
      "Date where this maximum is attained: 2024-05-23 00:00:00 2024-05-23 00:00:00\n",
      "Mean of the first series: 0.015124009041799858\n"
     ]
    }
   ],
   "source": [
    "ser = 'Series ' + myIndex\n",
    "print('Maximum on the first Series:', df[ser].max())\n",
    "print('Date (index) where this maximum is attained:', df[ser].argmax()) ## deprecated\n",
    "print('Date where this maximum is attained:', df[ser].idxmax(), df.index[df[ser].argmax()])\n",
    "print('Mean of the first series:', df[ser].mean())"
   ]
  },
  {
   "cell_type": "markdown",
   "metadata": {
    "zanadu": {}
   },
   "source": [
    "We can also obtain general results about the whole dataframe / each series in the dataframe:"
   ]
  },
  {
   "cell_type": "code",
   "execution_count": 82,
   "metadata": {
    "zanadu": {
     "code_type": ""
    }
   },
   "outputs": [
    {
     "data": {
      "text/plain": [
       "Series 1    0.015124\n",
       "Series 2    9.994884\n",
       "Series 3    0.017874\n",
       "Series 4   -0.004129\n",
       "Series 5   -0.001161\n",
       "dtype: float64"
      ]
     },
     "execution_count": 82,
     "metadata": {},
     "output_type": "execute_result"
    }
   ],
   "source": [
    "df.mean()"
   ]
  },
  {
   "cell_type": "markdown",
   "metadata": {
    "zanadu": {}
   },
   "source": [
    "## Plotting Dataframes"
   ]
  },
  {
   "cell_type": "markdown",
   "metadata": {
    "zanadu": {}
   },
   "source": [
    "##### Plot all the time series"
   ]
  },
  {
   "cell_type": "code",
   "execution_count": 83,
   "metadata": {
    "zanadu": {
     "code_type": ""
    }
   },
   "outputs": [
    {
     "data": {
      "image/png": "[encoded data removed]",
      "text/plain": [
       "<Figure size 640x480 with 1 Axes>"
      ]
     },
     "metadata": {},
     "output_type": "display_data"
    }
   ],
   "source": [
    "df.plot();"
   ]
  },
  {
   "cell_type": "markdown",
   "metadata": {},
   "source": [
    "**WHAT IS WRONG ABOUT THE PLOT?**"
   ]
  },
  {
   "cell_type": "markdown",
   "metadata": {
    "zanadu": {}
   },
   "source": [
    "##### Plot one column at a time"
   ]
  },
  {
   "cell_type": "code",
   "execution_count": 84,
   "metadata": {
    "zanadu": {
     "code_type": ""
    }
   },
   "outputs": [
    {
     "data": {
      "image/png": "[encoded data removed]",
      "text/plain": [
       "<Figure size 640x480 with 1 Axes>"
      ]
     },
     "metadata": {},
     "output_type": "display_data"
    }
   ],
   "source": [
    "df[ser].plot(legend=ser);"
   ]
  },
  {
   "cell_type": "markdown",
   "metadata": {
    "zanadu": {}
   },
   "source": [
    "##### Changing the type of plots"
   ]
  },
  {
   "cell_type": "code",
   "execution_count": 85,
   "metadata": {
    "zanadu": {
     "code_type": ""
    }
   },
   "outputs": [
    {
     "data": {
      "image/png": "[encoded data removed]",
      "text/plain": [
       "<Figure size 640x480 with 1 Axes>"
      ]
     },
     "metadata": {},
     "output_type": "display_data"
    }
   ],
   "source": [
    "datePlot = '2018-01-03'\n",
    "df.loc[datePlot].plot(kind='bar', title=datePlot); ## for one particular day"
   ]
  },
  {
   "cell_type": "markdown",
   "metadata": {
    "zanadu": {}
   },
   "source": [
    "## Sorting DataFrames"
   ]
  },
  {
   "cell_type": "code",
   "execution_count": 90,
   "metadata": {
    "zanadu": {
     "code_type": ""
    }
   },
   "outputs": [
    {
     "name": "stdout",
     "output_type": "stream",
     "text": [
      "Data sorted by Series 1\n"
     ]
    },
    {
     "ename": "KeyError",
     "evalue": "'Series 1'",
     "output_type": "error",
     "traceback": [
      "\u001b[0;31m---------------------------------------------------------------------------\u001b[0m",
      "\u001b[0;31mKeyError\u001b[0m                                  Traceback (most recent call last)",
      "\u001b[0;32m/var/folders/ly/3n9d71nx23qdhf4_l8q2bjcw0000gn/T/ipykernel_19552/534442257.py\u001b[0m in \u001b[0;36m<module>\u001b[0;34m\u001b[0m\n\u001b[1;32m      1\u001b[0m \u001b[0mprint\u001b[0m\u001b[0;34m(\u001b[0m\u001b[0;34m'Data sorted by '\u001b[0m \u001b[0;34m+\u001b[0m \u001b[0mser\u001b[0m\u001b[0;34m)\u001b[0m\u001b[0;34m\u001b[0m\u001b[0;34m\u001b[0m\u001b[0m\n\u001b[0;32m----> 2\u001b[0;31m \u001b[0mdf\u001b[0m\u001b[0;34m.\u001b[0m\u001b[0msort_values\u001b[0m\u001b[0;34m(\u001b[0m\u001b[0mby\u001b[0m\u001b[0;34m=\u001b[0m\u001b[0mser\u001b[0m\u001b[0;34m)\u001b[0m\u001b[0;34m.\u001b[0m\u001b[0mhead\u001b[0m\u001b[0;34m(\u001b[0m\u001b[0;34m)\u001b[0m\u001b[0;34m\u001b[0m\u001b[0;34m\u001b[0m\u001b[0m\n\u001b[0m",
      "\u001b[0;32m~/opt/anaconda3/lib/python3.9/site-packages/pandas/core/frame.py\u001b[0m in \u001b[0;36msort_values\u001b[0;34m(self, by, axis, ascending, inplace, kind, na_position, ignore_index, key)\u001b[0m\n\u001b[1;32m   5453\u001b[0m \u001b[0;34m\u001b[0m\u001b[0m\n\u001b[1;32m   5454\u001b[0m             \u001b[0mby\u001b[0m \u001b[0;34m=\u001b[0m \u001b[0mby\u001b[0m\u001b[0;34m[\u001b[0m\u001b[0;36m0\u001b[0m\u001b[0;34m]\u001b[0m\u001b[0;34m\u001b[0m\u001b[0;34m\u001b[0m\u001b[0m\n\u001b[0;32m-> 5455\u001b[0;31m             \u001b[0mk\u001b[0m \u001b[0;34m=\u001b[0m \u001b[0mself\u001b[0m\u001b[0;34m.\u001b[0m\u001b[0m_get_label_or_level_values\u001b[0m\u001b[0;34m(\u001b[0m\u001b[0mby\u001b[0m\u001b[0;34m,\u001b[0m \u001b[0maxis\u001b[0m\u001b[0;34m=\u001b[0m\u001b[0maxis\u001b[0m\u001b[0;34m)\u001b[0m\u001b[0;34m\u001b[0m\u001b[0;34m\u001b[0m\u001b[0m\n\u001b[0m\u001b[1;32m   5456\u001b[0m \u001b[0;34m\u001b[0m\u001b[0m\n\u001b[1;32m   5457\u001b[0m             \u001b[0;31m# need to rewrap column in Series to apply key function\u001b[0m\u001b[0;34m\u001b[0m\u001b[0;34m\u001b[0m\u001b[0m\n",
      "\u001b[0;32m~/opt/anaconda3/lib/python3.9/site-packages/pandas/core/generic.py\u001b[0m in \u001b[0;36m_get_label_or_level_values\u001b[0;34m(self, key, axis)\u001b[0m\n\u001b[1;32m   1682\u001b[0m             \u001b[0mvalues\u001b[0m \u001b[0;34m=\u001b[0m \u001b[0mself\u001b[0m\u001b[0;34m.\u001b[0m\u001b[0maxes\u001b[0m\u001b[0;34m[\u001b[0m\u001b[0maxis\u001b[0m\u001b[0;34m]\u001b[0m\u001b[0;34m.\u001b[0m\u001b[0mget_level_values\u001b[0m\u001b[0;34m(\u001b[0m\u001b[0mkey\u001b[0m\u001b[0;34m)\u001b[0m\u001b[0;34m.\u001b[0m\u001b[0m_values\u001b[0m\u001b[0;34m\u001b[0m\u001b[0;34m\u001b[0m\u001b[0m\n\u001b[1;32m   1683\u001b[0m         \u001b[0;32melse\u001b[0m\u001b[0;34m:\u001b[0m\u001b[0;34m\u001b[0m\u001b[0;34m\u001b[0m\u001b[0m\n\u001b[0;32m-> 1684\u001b[0;31m             \u001b[0;32mraise\u001b[0m \u001b[0mKeyError\u001b[0m\u001b[0;34m(\u001b[0m\u001b[0mkey\u001b[0m\u001b[0;34m)\u001b[0m\u001b[0;34m\u001b[0m\u001b[0;34m\u001b[0m\u001b[0m\n\u001b[0m\u001b[1;32m   1685\u001b[0m \u001b[0;34m\u001b[0m\u001b[0m\n\u001b[1;32m   1686\u001b[0m         \u001b[0;31m# Check for duplicates\u001b[0m\u001b[0;34m\u001b[0m\u001b[0;34m\u001b[0m\u001b[0m\n",
      "\u001b[0;31mKeyError\u001b[0m: 'Series 1'"
     ]
    }
   ],
   "source": [
    "print('Data sorted by ' + ser)\n",
    "df.sort_values(by=ser).head()"
   ]
  },
  {
   "cell_type": "markdown",
   "metadata": {},
   "source": [
    "*WARNING: the dataframe df itself has remained unchanged though...*"
   ]
  },
  {
   "cell_type": "code",
   "execution_count": 87,
   "metadata": {},
   "outputs": [
    {
     "data": {
      "text/html": [
       "<div>\n",
       "<style scoped>\n",
       "    .dataframe tbody tr th:only-of-type {\n",
       "        vertical-align: middle;\n",
       "    }\n",
       "\n",
       "    .dataframe tbody tr th {\n",
       "        vertical-align: top;\n",
       "    }\n",
       "\n",
       "    .dataframe thead th {\n",
       "        text-align: right;\n",
       "    }\n",
       "</style>\n",
       "<table border=\"1\" class=\"dataframe\">\n",
       "  <thead>\n",
       "    <tr style=\"text-align: right;\">\n",
       "      <th></th>\n",
       "      <th>Series 1</th>\n",
       "      <th>Series 2</th>\n",
       "      <th>Series 3</th>\n",
       "      <th>Series 4</th>\n",
       "      <th>Series 5</th>\n",
       "    </tr>\n",
       "    <tr>\n",
       "      <th>Date</th>\n",
       "      <th></th>\n",
       "      <th></th>\n",
       "      <th></th>\n",
       "      <th></th>\n",
       "      <th></th>\n",
       "    </tr>\n",
       "  </thead>\n",
       "  <tbody>\n",
       "    <tr>\n",
       "      <th>2018-01-01</th>\n",
       "      <td>0.866025</td>\n",
       "      <td>10.925336</td>\n",
       "      <td>-0.114947</td>\n",
       "      <td>-1.708910</td>\n",
       "      <td>1.222564</td>\n",
       "    </tr>\n",
       "    <tr>\n",
       "      <th>2018-01-02</th>\n",
       "      <td>0.258199</td>\n",
       "      <td>10.705033</td>\n",
       "      <td>-0.150114</td>\n",
       "      <td>0.009903</td>\n",
       "      <td>-0.265726</td>\n",
       "    </tr>\n",
       "    <tr>\n",
       "      <th>2018-01-03</th>\n",
       "      <td>-0.243725</td>\n",
       "      <td>8.569211</td>\n",
       "      <td>-0.050171</td>\n",
       "      <td>0.407021</td>\n",
       "      <td>1.175152</td>\n",
       "    </tr>\n",
       "    <tr>\n",
       "      <th>2018-01-04</th>\n",
       "      <td>-1.455638</td>\n",
       "      <td>9.730573</td>\n",
       "      <td>-0.680992</td>\n",
       "      <td>-0.393823</td>\n",
       "      <td>-0.153909</td>\n",
       "    </tr>\n",
       "    <tr>\n",
       "      <th>2018-01-05</th>\n",
       "      <td>-0.910345</td>\n",
       "      <td>9.579260</td>\n",
       "      <td>1.625086</td>\n",
       "      <td>1.732408</td>\n",
       "      <td>0.384801</td>\n",
       "    </tr>\n",
       "  </tbody>\n",
       "</table>\n",
       "</div>"
      ],
      "text/plain": [
       "            Series 1   Series 2  Series 3  Series 4  Series 5\n",
       "Date                                                         \n",
       "2018-01-01  0.866025  10.925336 -0.114947 -1.708910  1.222564\n",
       "2018-01-02  0.258199  10.705033 -0.150114  0.009903 -0.265726\n",
       "2018-01-03 -0.243725   8.569211 -0.050171  0.407021  1.175152\n",
       "2018-01-04 -1.455638   9.730573 -0.680992 -0.393823 -0.153909\n",
       "2018-01-05 -0.910345   9.579260  1.625086  1.732408  0.384801"
      ]
     },
     "execution_count": 87,
     "metadata": {},
     "output_type": "execute_result"
    }
   ],
   "source": [
    "df.head()"
   ]
  },
  {
   "cell_type": "markdown",
   "metadata": {
    "zanadu": {}
   },
   "source": [
    "## Renaming columns"
   ]
  },
  {
   "cell_type": "code",
   "execution_count": 91,
   "metadata": {
    "zanadu": {
     "code_type": ""
    }
   },
   "outputs": [
    {
     "data": {
      "text/html": [
       "<div>\n",
       "<style scoped>\n",
       "    .dataframe tbody tr th:only-of-type {\n",
       "        vertical-align: middle;\n",
       "    }\n",
       "\n",
       "    .dataframe tbody tr th {\n",
       "        vertical-align: top;\n",
       "    }\n",
       "\n",
       "    .dataframe thead th {\n",
       "        text-align: right;\n",
       "    }\n",
       "</style>\n",
       "<table border=\"1\" class=\"dataframe\">\n",
       "  <thead>\n",
       "    <tr style=\"text-align: right;\">\n",
       "      <th></th>\n",
       "      <th>SPX</th>\n",
       "      <th>DAX</th>\n",
       "      <th>GOOGL</th>\n",
       "      <th>AAPL</th>\n",
       "      <th>VIX</th>\n",
       "    </tr>\n",
       "    <tr>\n",
       "      <th>Date</th>\n",
       "      <th></th>\n",
       "      <th></th>\n",
       "      <th></th>\n",
       "      <th></th>\n",
       "      <th></th>\n",
       "    </tr>\n",
       "  </thead>\n",
       "  <tbody>\n",
       "    <tr>\n",
       "      <th>2018-01-01</th>\n",
       "      <td>0.866025</td>\n",
       "      <td>10.925336</td>\n",
       "      <td>-0.114947</td>\n",
       "      <td>-1.708910</td>\n",
       "      <td>1.222564</td>\n",
       "    </tr>\n",
       "    <tr>\n",
       "      <th>2018-01-02</th>\n",
       "      <td>0.258199</td>\n",
       "      <td>10.705033</td>\n",
       "      <td>-0.150114</td>\n",
       "      <td>0.009903</td>\n",
       "      <td>-0.265726</td>\n",
       "    </tr>\n",
       "    <tr>\n",
       "      <th>2018-01-03</th>\n",
       "      <td>-0.243725</td>\n",
       "      <td>8.569211</td>\n",
       "      <td>-0.050171</td>\n",
       "      <td>0.407021</td>\n",
       "      <td>1.175152</td>\n",
       "    </tr>\n",
       "    <tr>\n",
       "      <th>2018-01-04</th>\n",
       "      <td>-1.455638</td>\n",
       "      <td>9.730573</td>\n",
       "      <td>-0.680992</td>\n",
       "      <td>-0.393823</td>\n",
       "      <td>-0.153909</td>\n",
       "    </tr>\n",
       "    <tr>\n",
       "      <th>2018-01-05</th>\n",
       "      <td>-0.910345</td>\n",
       "      <td>9.579260</td>\n",
       "      <td>1.625086</td>\n",
       "      <td>1.732408</td>\n",
       "      <td>0.384801</td>\n",
       "    </tr>\n",
       "  </tbody>\n",
       "</table>\n",
       "</div>"
      ],
      "text/plain": [
       "                 SPX        DAX     GOOGL      AAPL       VIX\n",
       "Date                                                         \n",
       "2018-01-01  0.866025  10.925336 -0.114947 -1.708910  1.222564\n",
       "2018-01-02  0.258199  10.705033 -0.150114  0.009903 -0.265726\n",
       "2018-01-03 -0.243725   8.569211 -0.050171  0.407021  1.175152\n",
       "2018-01-04 -1.455638   9.730573 -0.680992 -0.393823 -0.153909\n",
       "2018-01-05 -0.910345   9.579260  1.625086  1.732408  0.384801"
      ]
     },
     "execution_count": 91,
     "metadata": {},
     "output_type": "execute_result"
    }
   ],
   "source": [
    "df.rename(columns={'Series 1': 'SPX', \n",
    "                   'Series 2': 'DAX', \n",
    "                   'Series 3': 'GOOGL', \n",
    "                   'Series 4': 'AAPL', \n",
    "                   'Series 5': 'VIX'}, inplace=True)\n",
    "df.head()"
   ]
  },
  {
   "cell_type": "markdown",
   "metadata": {
    "tags": []
   },
   "source": [
    "### A note on copies on slices...."
   ]
  },
  {
   "cell_type": "code",
   "execution_count": 92,
   "metadata": {},
   "outputs": [
    {
     "data": {
      "text/html": [
       "<div>\n",
       "<style scoped>\n",
       "    .dataframe tbody tr th:only-of-type {\n",
       "        vertical-align: middle;\n",
       "    }\n",
       "\n",
       "    .dataframe tbody tr th {\n",
       "        vertical-align: top;\n",
       "    }\n",
       "\n",
       "    .dataframe thead th {\n",
       "        text-align: right;\n",
       "    }\n",
       "</style>\n",
       "<table border=\"1\" class=\"dataframe\">\n",
       "  <thead>\n",
       "    <tr style=\"text-align: right;\">\n",
       "      <th></th>\n",
       "      <th>SPX</th>\n",
       "      <th>DAX</th>\n",
       "      <th>GOOGL</th>\n",
       "      <th>AAPL</th>\n",
       "      <th>VIX</th>\n",
       "    </tr>\n",
       "    <tr>\n",
       "      <th>Date</th>\n",
       "      <th></th>\n",
       "      <th></th>\n",
       "      <th></th>\n",
       "      <th></th>\n",
       "      <th></th>\n",
       "    </tr>\n",
       "  </thead>\n",
       "  <tbody>\n",
       "    <tr>\n",
       "      <th>2018-01-01</th>\n",
       "      <td>0.866025</td>\n",
       "      <td>10.925336</td>\n",
       "      <td>-0.114947</td>\n",
       "      <td>-1.708910</td>\n",
       "      <td>1.222564</td>\n",
       "    </tr>\n",
       "    <tr>\n",
       "      <th>2018-01-02</th>\n",
       "      <td>0.258199</td>\n",
       "      <td>10.705033</td>\n",
       "      <td>-0.150114</td>\n",
       "      <td>0.009903</td>\n",
       "      <td>-0.265726</td>\n",
       "    </tr>\n",
       "    <tr>\n",
       "      <th>2018-01-03</th>\n",
       "      <td>-0.243725</td>\n",
       "      <td>8.569211</td>\n",
       "      <td>-0.050171</td>\n",
       "      <td>0.407021</td>\n",
       "      <td>1.175152</td>\n",
       "    </tr>\n",
       "    <tr>\n",
       "      <th>2018-01-04</th>\n",
       "      <td>-1.455638</td>\n",
       "      <td>9.730573</td>\n",
       "      <td>-0.680992</td>\n",
       "      <td>-0.393823</td>\n",
       "      <td>-0.153909</td>\n",
       "    </tr>\n",
       "    <tr>\n",
       "      <th>2018-01-05</th>\n",
       "      <td>-0.910345</td>\n",
       "      <td>9.579260</td>\n",
       "      <td>1.625086</td>\n",
       "      <td>1.732408</td>\n",
       "      <td>0.384801</td>\n",
       "    </tr>\n",
       "  </tbody>\n",
       "</table>\n",
       "</div>"
      ],
      "text/plain": [
       "                 SPX        DAX     GOOGL      AAPL       VIX\n",
       "Date                                                         \n",
       "2018-01-01  0.866025  10.925336 -0.114947 -1.708910  1.222564\n",
       "2018-01-02  0.258199  10.705033 -0.150114  0.009903 -0.265726\n",
       "2018-01-03 -0.243725   8.569211 -0.050171  0.407021  1.175152\n",
       "2018-01-04 -1.455638   9.730573 -0.680992 -0.393823 -0.153909\n",
       "2018-01-05 -0.910345   9.579260  1.625086  1.732408  0.384801"
      ]
     },
     "execution_count": 92,
     "metadata": {},
     "output_type": "execute_result"
    }
   ],
   "source": [
    "df.head()"
   ]
  },
  {
   "cell_type": "code",
   "execution_count": 93,
   "metadata": {},
   "outputs": [
    {
     "data": {
      "text/plain": [
       "0.2581990717464044"
      ]
     },
     "execution_count": 93,
     "metadata": {},
     "output_type": "execute_result"
    }
   ],
   "source": [
    "val = df.iloc[1,0]\n",
    "val"
   ]
  },
  {
   "cell_type": "code",
   "execution_count": 94,
   "metadata": {},
   "outputs": [
    {
     "name": "stderr",
     "output_type": "stream",
     "text": [
      "/var/folders/ly/3n9d71nx23qdhf4_l8q2bjcw0000gn/T/ipykernel_19552/3746132791.py:1: SettingWithCopyWarning: \n",
      "A value is trying to be set on a copy of a slice from a DataFrame.\n",
      "Try using .loc[row_indexer,col_indexer] = value instead\n",
      "\n",
      "See the caveats in the documentation: https://pandas.pydata.org/pandas-docs/stable/user_guide/indexing.html#returning-a-view-versus-a-copy\n",
      "  df[df[\"SPX\"] == val][\"DAX\"] = 0.\n"
     ]
    },
    {
     "data": {
      "text/html": [
       "<div>\n",
       "<style scoped>\n",
       "    .dataframe tbody tr th:only-of-type {\n",
       "        vertical-align: middle;\n",
       "    }\n",
       "\n",
       "    .dataframe tbody tr th {\n",
       "        vertical-align: top;\n",
       "    }\n",
       "\n",
       "    .dataframe thead th {\n",
       "        text-align: right;\n",
       "    }\n",
       "</style>\n",
       "<table border=\"1\" class=\"dataframe\">\n",
       "  <thead>\n",
       "    <tr style=\"text-align: right;\">\n",
       "      <th></th>\n",
       "      <th>SPX</th>\n",
       "      <th>DAX</th>\n",
       "      <th>GOOGL</th>\n",
       "      <th>AAPL</th>\n",
       "      <th>VIX</th>\n",
       "    </tr>\n",
       "    <tr>\n",
       "      <th>Date</th>\n",
       "      <th></th>\n",
       "      <th></th>\n",
       "      <th></th>\n",
       "      <th></th>\n",
       "      <th></th>\n",
       "    </tr>\n",
       "  </thead>\n",
       "  <tbody>\n",
       "    <tr>\n",
       "      <th>2018-01-01</th>\n",
       "      <td>0.866025</td>\n",
       "      <td>10.925336</td>\n",
       "      <td>-0.114947</td>\n",
       "      <td>-1.708910</td>\n",
       "      <td>1.222564</td>\n",
       "    </tr>\n",
       "    <tr>\n",
       "      <th>2018-01-02</th>\n",
       "      <td>0.258199</td>\n",
       "      <td>10.705033</td>\n",
       "      <td>-0.150114</td>\n",
       "      <td>0.009903</td>\n",
       "      <td>-0.265726</td>\n",
       "    </tr>\n",
       "    <tr>\n",
       "      <th>2018-01-03</th>\n",
       "      <td>-0.243725</td>\n",
       "      <td>8.569211</td>\n",
       "      <td>-0.050171</td>\n",
       "      <td>0.407021</td>\n",
       "      <td>1.175152</td>\n",
       "    </tr>\n",
       "    <tr>\n",
       "      <th>2018-01-04</th>\n",
       "      <td>-1.455638</td>\n",
       "      <td>9.730573</td>\n",
       "      <td>-0.680992</td>\n",
       "      <td>-0.393823</td>\n",
       "      <td>-0.153909</td>\n",
       "    </tr>\n",
       "    <tr>\n",
       "      <th>2018-01-05</th>\n",
       "      <td>-0.910345</td>\n",
       "      <td>9.579260</td>\n",
       "      <td>1.625086</td>\n",
       "      <td>1.732408</td>\n",
       "      <td>0.384801</td>\n",
       "    </tr>\n",
       "    <tr>\n",
       "      <th>...</th>\n",
       "      <td>...</td>\n",
       "      <td>...</td>\n",
       "      <td>...</td>\n",
       "      <td>...</td>\n",
       "      <td>...</td>\n",
       "    </tr>\n",
       "    <tr>\n",
       "      <th>2045-05-14</th>\n",
       "      <td>-0.116930</td>\n",
       "      <td>10.652332</td>\n",
       "      <td>-1.348522</td>\n",
       "      <td>-0.708024</td>\n",
       "      <td>1.588975</td>\n",
       "    </tr>\n",
       "    <tr>\n",
       "      <th>2045-05-15</th>\n",
       "      <td>-0.003774</td>\n",
       "      <td>10.303499</td>\n",
       "      <td>0.517194</td>\n",
       "      <td>-0.931835</td>\n",
       "      <td>0.107440</td>\n",
       "    </tr>\n",
       "    <tr>\n",
       "      <th>2045-05-16</th>\n",
       "      <td>-0.642405</td>\n",
       "      <td>12.075321</td>\n",
       "      <td>0.947850</td>\n",
       "      <td>-1.249773</td>\n",
       "      <td>0.088603</td>\n",
       "    </tr>\n",
       "    <tr>\n",
       "      <th>2045-05-17</th>\n",
       "      <td>0.787233</td>\n",
       "      <td>10.329961</td>\n",
       "      <td>1.308956</td>\n",
       "      <td>0.888550</td>\n",
       "      <td>0.086753</td>\n",
       "    </tr>\n",
       "    <tr>\n",
       "      <th>2045-05-18</th>\n",
       "      <td>-0.111954</td>\n",
       "      <td>9.221595</td>\n",
       "      <td>-0.415627</td>\n",
       "      <td>-0.294097</td>\n",
       "      <td>0.129484</td>\n",
       "    </tr>\n",
       "  </tbody>\n",
       "</table>\n",
       "<p>10000 rows × 5 columns</p>\n",
       "</div>"
      ],
      "text/plain": [
       "                 SPX        DAX     GOOGL      AAPL       VIX\n",
       "Date                                                         \n",
       "2018-01-01  0.866025  10.925336 -0.114947 -1.708910  1.222564\n",
       "2018-01-02  0.258199  10.705033 -0.150114  0.009903 -0.265726\n",
       "2018-01-03 -0.243725   8.569211 -0.050171  0.407021  1.175152\n",
       "2018-01-04 -1.455638   9.730573 -0.680992 -0.393823 -0.153909\n",
       "2018-01-05 -0.910345   9.579260  1.625086  1.732408  0.384801\n",
       "...              ...        ...       ...       ...       ...\n",
       "2045-05-14 -0.116930  10.652332 -1.348522 -0.708024  1.588975\n",
       "2045-05-15 -0.003774  10.303499  0.517194 -0.931835  0.107440\n",
       "2045-05-16 -0.642405  12.075321  0.947850 -1.249773  0.088603\n",
       "2045-05-17  0.787233  10.329961  1.308956  0.888550  0.086753\n",
       "2045-05-18 -0.111954   9.221595 -0.415627 -0.294097  0.129484\n",
       "\n",
       "[10000 rows x 5 columns]"
      ]
     },
     "execution_count": 94,
     "metadata": {},
     "output_type": "execute_result"
    }
   ],
   "source": [
    "df[df[\"SPX\"] == val][\"DAX\"] = 0.\n",
    "df"
   ]
  },
  {
   "cell_type": "code",
   "execution_count": 45,
   "metadata": {},
   "outputs": [
    {
     "data": {
      "text/html": [
       "<div>\n",
       "<style scoped>\n",
       "    .dataframe tbody tr th:only-of-type {\n",
       "        vertical-align: middle;\n",
       "    }\n",
       "\n",
       "    .dataframe tbody tr th {\n",
       "        vertical-align: top;\n",
       "    }\n",
       "\n",
       "    .dataframe thead th {\n",
       "        text-align: right;\n",
       "    }\n",
       "</style>\n",
       "<table border=\"1\" class=\"dataframe\">\n",
       "  <thead>\n",
       "    <tr style=\"text-align: right;\">\n",
       "      <th></th>\n",
       "      <th>SPX</th>\n",
       "      <th>DAX</th>\n",
       "      <th>GOOGL</th>\n",
       "      <th>AAPL</th>\n",
       "      <th>VIX</th>\n",
       "    </tr>\n",
       "    <tr>\n",
       "      <th>Date</th>\n",
       "      <th></th>\n",
       "      <th></th>\n",
       "      <th></th>\n",
       "      <th></th>\n",
       "      <th></th>\n",
       "    </tr>\n",
       "  </thead>\n",
       "  <tbody>\n",
       "    <tr>\n",
       "      <th>2018-01-01</th>\n",
       "      <td>0.049660</td>\n",
       "      <td>11.941187</td>\n",
       "      <td>0.802981</td>\n",
       "      <td>0.235741</td>\n",
       "      <td>1.144242</td>\n",
       "    </tr>\n",
       "    <tr>\n",
       "      <th>2018-01-02</th>\n",
       "      <td>0.457116</td>\n",
       "      <td>0.000000</td>\n",
       "      <td>1.414712</td>\n",
       "      <td>0.425312</td>\n",
       "      <td>0.750950</td>\n",
       "    </tr>\n",
       "    <tr>\n",
       "      <th>2018-01-03</th>\n",
       "      <td>0.240782</td>\n",
       "      <td>8.278694</td>\n",
       "      <td>-0.004673</td>\n",
       "      <td>-0.493800</td>\n",
       "      <td>1.471815</td>\n",
       "    </tr>\n",
       "    <tr>\n",
       "      <th>2018-01-04</th>\n",
       "      <td>1.325882</td>\n",
       "      <td>10.033274</td>\n",
       "      <td>-1.603097</td>\n",
       "      <td>0.083922</td>\n",
       "      <td>1.912226</td>\n",
       "    </tr>\n",
       "    <tr>\n",
       "      <th>2018-01-05</th>\n",
       "      <td>0.305973</td>\n",
       "      <td>10.763426</td>\n",
       "      <td>1.405838</td>\n",
       "      <td>-0.341296</td>\n",
       "      <td>1.961838</td>\n",
       "    </tr>\n",
       "    <tr>\n",
       "      <th>...</th>\n",
       "      <td>...</td>\n",
       "      <td>...</td>\n",
       "      <td>...</td>\n",
       "      <td>...</td>\n",
       "      <td>...</td>\n",
       "    </tr>\n",
       "    <tr>\n",
       "      <th>2045-05-14</th>\n",
       "      <td>-0.232333</td>\n",
       "      <td>11.059426</td>\n",
       "      <td>-0.232738</td>\n",
       "      <td>-1.035954</td>\n",
       "      <td>-0.559243</td>\n",
       "    </tr>\n",
       "    <tr>\n",
       "      <th>2045-05-15</th>\n",
       "      <td>-0.485683</td>\n",
       "      <td>9.777695</td>\n",
       "      <td>-0.697275</td>\n",
       "      <td>1.350898</td>\n",
       "      <td>-0.268245</td>\n",
       "    </tr>\n",
       "    <tr>\n",
       "      <th>2045-05-16</th>\n",
       "      <td>0.359143</td>\n",
       "      <td>11.660160</td>\n",
       "      <td>0.713920</td>\n",
       "      <td>-0.296892</td>\n",
       "      <td>-0.494753</td>\n",
       "    </tr>\n",
       "    <tr>\n",
       "      <th>2045-05-17</th>\n",
       "      <td>-0.185826</td>\n",
       "      <td>9.379676</td>\n",
       "      <td>-0.343503</td>\n",
       "      <td>-1.265097</td>\n",
       "      <td>0.864310</td>\n",
       "    </tr>\n",
       "    <tr>\n",
       "      <th>2045-05-18</th>\n",
       "      <td>-0.388677</td>\n",
       "      <td>10.470872</td>\n",
       "      <td>-0.818624</td>\n",
       "      <td>1.883309</td>\n",
       "      <td>1.372039</td>\n",
       "    </tr>\n",
       "  </tbody>\n",
       "</table>\n",
       "<p>10000 rows × 5 columns</p>\n",
       "</div>"
      ],
      "text/plain": [
       "                 SPX        DAX     GOOGL      AAPL       VIX\n",
       "Date                                                         \n",
       "2018-01-01  0.049660  11.941187  0.802981  0.235741  1.144242\n",
       "2018-01-02  0.457116   0.000000  1.414712  0.425312  0.750950\n",
       "2018-01-03  0.240782   8.278694 -0.004673 -0.493800  1.471815\n",
       "2018-01-04  1.325882  10.033274 -1.603097  0.083922  1.912226\n",
       "2018-01-05  0.305973  10.763426  1.405838 -0.341296  1.961838\n",
       "...              ...        ...       ...       ...       ...\n",
       "2045-05-14 -0.232333  11.059426 -0.232738 -1.035954 -0.559243\n",
       "2045-05-15 -0.485683   9.777695 -0.697275  1.350898 -0.268245\n",
       "2045-05-16  0.359143  11.660160  0.713920 -0.296892 -0.494753\n",
       "2045-05-17 -0.185826   9.379676 -0.343503 -1.265097  0.864310\n",
       "2045-05-18 -0.388677  10.470872 -0.818624  1.883309  1.372039\n",
       "\n",
       "[10000 rows x 5 columns]"
      ]
     },
     "execution_count": 45,
     "metadata": {},
     "output_type": "execute_result"
    }
   ],
   "source": [
    "df.loc[df[\"SPX\"] == val, \"DAX\"] = 0.\n",
    "df"
   ]
  },
  {
   "cell_type": "markdown",
   "metadata": {
    "zanadu": {}
   },
   "source": [
    "# Working with real data"
   ]
  },
  {
   "cell_type": "markdown",
   "metadata": {
    "zanadu": {}
   },
   "source": [
    "## Financial data from Yahoo Finance"
   ]
  },
  {
   "cell_type": "code",
   "execution_count": 98,
   "metadata": {
    "tags": [],
    "zanadu": {
     "code_type": ""
    }
   },
   "outputs": [],
   "source": [
    "import pandas as pd\n",
    "pd.core.common.is_list_like = pd.api.types.is_list_like\n",
    "#import pandas_datareader as web\n",
    "#from pandas_datareader import data as pdr\n",
    "from datetime import datetime\n",
    "import matplotlib.pylab as plt"
   ]
  },
  {
   "cell_type": "code",
   "execution_count": 154,
   "metadata": {
    "tags": []
   },
   "outputs": [
    {
     "data": {
      "text/html": [
       "<div>\n",
       "<style scoped>\n",
       "    .dataframe tbody tr th:only-of-type {\n",
       "        vertical-align: middle;\n",
       "    }\n",
       "\n",
       "    .dataframe tbody tr th {\n",
       "        vertical-align: top;\n",
       "    }\n",
       "\n",
       "    .dataframe thead th {\n",
       "        text-align: right;\n",
       "    }\n",
       "</style>\n",
       "<table border=\"1\" class=\"dataframe\">\n",
       "  <thead>\n",
       "    <tr style=\"text-align: right;\">\n",
       "      <th></th>\n",
       "      <th>Date</th>\n",
       "      <th>High</th>\n",
       "      <th>Low</th>\n",
       "      <th>Open</th>\n",
       "      <th>Close</th>\n",
       "      <th>Volume</th>\n",
       "      <th>Adj Close</th>\n",
       "    </tr>\n",
       "  </thead>\n",
       "  <tbody>\n",
       "    <tr>\n",
       "      <th>0</th>\n",
       "      <td>2000-01-03</td>\n",
       "      <td>4.017857</td>\n",
       "      <td>3.631696</td>\n",
       "      <td>3.745536</td>\n",
       "      <td>3.997768</td>\n",
       "      <td>133949200.0</td>\n",
       "      <td>2.677157</td>\n",
       "    </tr>\n",
       "    <tr>\n",
       "      <th>1</th>\n",
       "      <td>2000-01-04</td>\n",
       "      <td>3.950893</td>\n",
       "      <td>3.613839</td>\n",
       "      <td>3.866071</td>\n",
       "      <td>3.660714</td>\n",
       "      <td>128094400.0</td>\n",
       "      <td>2.451444</td>\n",
       "    </tr>\n",
       "    <tr>\n",
       "      <th>2</th>\n",
       "      <td>2000-01-05</td>\n",
       "      <td>3.948661</td>\n",
       "      <td>3.678571</td>\n",
       "      <td>3.705357</td>\n",
       "      <td>3.714286</td>\n",
       "      <td>194580400.0</td>\n",
       "      <td>2.487319</td>\n",
       "    </tr>\n",
       "    <tr>\n",
       "      <th>3</th>\n",
       "      <td>2000-01-06</td>\n",
       "      <td>3.821429</td>\n",
       "      <td>3.392857</td>\n",
       "      <td>3.790179</td>\n",
       "      <td>3.392857</td>\n",
       "      <td>191993200.0</td>\n",
       "      <td>2.272070</td>\n",
       "    </tr>\n",
       "    <tr>\n",
       "      <th>4</th>\n",
       "      <td>2000-01-07</td>\n",
       "      <td>3.607143</td>\n",
       "      <td>3.410714</td>\n",
       "      <td>3.446429</td>\n",
       "      <td>3.553571</td>\n",
       "      <td>115183600.0</td>\n",
       "      <td>2.379695</td>\n",
       "    </tr>\n",
       "  </tbody>\n",
       "</table>\n",
       "</div>"
      ],
      "text/plain": [
       "         Date      High       Low      Open     Close       Volume  Adj Close\n",
       "0  2000-01-03  4.017857  3.631696  3.745536  3.997768  133949200.0   2.677157\n",
       "1  2000-01-04  3.950893  3.613839  3.866071  3.660714  128094400.0   2.451444\n",
       "2  2000-01-05  3.948661  3.678571  3.705357  3.714286  194580400.0   2.487319\n",
       "3  2000-01-06  3.821429  3.392857  3.790179  3.392857  191993200.0   2.272070\n",
       "4  2000-01-07  3.607143  3.410714  3.446429  3.553571  115183600.0   2.379695"
      ]
     },
     "execution_count": 154,
     "metadata": {},
     "output_type": "execute_result"
    }
   ],
   "source": [
    "ticker = \"AAPL\"\n",
    "#aapl = pdr.DataReader(ticker, 'yahoo', '1980-01-01')\n",
    "aapl = pd.read_csv(\"data/apple.csv\")\n",
    "aapl.head()"
   ]
  },
  {
   "cell_type": "code",
   "execution_count": 155,
   "metadata": {
    "tags": [],
    "zanadu": {
     "code_type": ""
    }
   },
   "outputs": [
    {
     "name": "stdout",
     "output_type": "stream",
     "text": [
      "<class 'pandas.core.frame.DataFrame'>\n",
      "RangeIndex: 4771 entries, 0 to 4770\n",
      "Data columns (total 7 columns):\n",
      " #   Column     Non-Null Count  Dtype  \n",
      "---  ------     --------------  -----  \n",
      " 0   Date       4771 non-null   object \n",
      " 1   High       4771 non-null   float64\n",
      " 2   Low        4771 non-null   float64\n",
      " 3   Open       4771 non-null   float64\n",
      " 4   Close      4771 non-null   float64\n",
      " 5   Volume     4771 non-null   float64\n",
      " 6   Adj Close  4771 non-null   float64\n",
      "dtypes: float64(6), object(1)\n",
      "memory usage: 261.0+ KB\n"
     ]
    }
   ],
   "source": [
    "aapl.info()"
   ]
  },
  {
   "cell_type": "code",
   "execution_count": 157,
   "metadata": {
    "tags": [],
    "zanadu": {
     "code_type": ""
    }
   },
   "outputs": [
    {
     "data": {
      "image/png": "[encoded data removed]",
      "text/plain": [
       "<Figure size 640x480 with 1 Axes>"
      ]
     },
     "metadata": {},
     "output_type": "display_data"
    }
   ],
   "source": [
    "aapl[1000:3000][\"Open\"].plot(title=ticker)\n",
    "#aapl[\"Close\"].plot(title=ticker)\n",
    "plt.show()"
   ]
  },
  {
   "cell_type": "markdown",
   "metadata": {
    "zanadu": {}
   },
   "source": [
    "## Economics Data from FRED"
   ]
  },
  {
   "cell_type": "code",
   "execution_count": 102,
   "metadata": {
    "tags": [],
    "zanadu": {
     "code_type": ""
    }
   },
   "outputs": [
    {
     "ename": "NameError",
     "evalue": "name 'pdr' is not defined",
     "output_type": "error",
     "traceback": [
      "\u001b[0;31m---------------------------------------------------------------------------\u001b[0m",
      "\u001b[0;31mNameError\u001b[0m                                 Traceback (most recent call last)",
      "\u001b[0;32m/var/folders/ly/3n9d71nx23qdhf4_l8q2bjcw0000gn/T/ipykernel_19552/4154397149.py\u001b[0m in \u001b[0;36m<module>\u001b[0;34m\u001b[0m\n\u001b[1;32m      3\u001b[0m \u001b[0mdata_source\u001b[0m \u001b[0;34m=\u001b[0m \u001b[0;34m'fred'\u001b[0m \u001b[0;31m# FED Economic Data Service\u001b[0m\u001b[0;34m\u001b[0m\u001b[0;34m\u001b[0m\u001b[0m\n\u001b[1;32m      4\u001b[0m \u001b[0mstart\u001b[0m \u001b[0;34m=\u001b[0m \u001b[0mdate\u001b[0m\u001b[0;34m(\u001b[0m\u001b[0;36m1962\u001b[0m\u001b[0;34m,\u001b[0m \u001b[0;36m1\u001b[0m\u001b[0;34m,\u001b[0m \u001b[0;36m1\u001b[0m\u001b[0;34m)\u001b[0m\u001b[0;34m\u001b[0m\u001b[0;34m\u001b[0m\u001b[0m\n\u001b[0;32m----> 5\u001b[0;31m \u001b[0mmyData\u001b[0m \u001b[0;34m=\u001b[0m \u001b[0mpdr\u001b[0m\u001b[0;34m.\u001b[0m\u001b[0mDataReader\u001b[0m\u001b[0;34m(\u001b[0m\u001b[0mseries_code\u001b[0m\u001b[0;34m,\u001b[0m \u001b[0mdata_source\u001b[0m\u001b[0;34m,\u001b[0m \u001b[0mstart\u001b[0m\u001b[0;34m)\u001b[0m\u001b[0;34m\u001b[0m\u001b[0;34m\u001b[0m\u001b[0m\n\u001b[0m",
      "\u001b[0;31mNameError\u001b[0m: name 'pdr' is not defined"
     ]
    }
   ],
   "source": [
    "from datetime import date\n",
    "series_code = 'DGS10' # 10-year Treasury Rate\n",
    "data_source = 'fred' # FED Economic Data Service\n",
    "start = date(1962, 1, 1)\n",
    "myData = pdr.DataReader(series_code, data_source, start)"
   ]
  },
  {
   "cell_type": "code",
   "execution_count": null,
   "metadata": {
    "tags": [],
    "zanadu": {
     "code_type": ""
    }
   },
   "outputs": [],
   "source": [
    "myData.head()"
   ]
  },
  {
   "cell_type": "code",
   "execution_count": null,
   "metadata": {
    "tags": [],
    "zanadu": {
     "code_type": ""
    }
   },
   "outputs": [],
   "source": [
    "myData = myData / 100.\n",
    "series_name = '10-year Treasury'\n",
    "myData = myData.rename(columns={series_code: series_name})\n",
    "myData.plot(title=series_name)\n",
    "plt.show() "
   ]
  },
  {
   "cell_type": "markdown",
   "metadata": {
    "zanadu": {}
   },
   "source": [
    "## Analysing real data"
   ]
  },
  {
   "cell_type": "code",
   "execution_count": 158,
   "metadata": {
    "tags": [],
    "zanadu": {
     "code_type": ""
    }
   },
   "outputs": [
    {
     "name": "stdout",
     "output_type": "stream",
     "text": [
      "<class 'pandas.core.frame.DataFrame'>\n",
      "RangeIndex: 5799 entries, 0 to 5798\n",
      "Data columns (total 1 columns):\n",
      " #   Column                                     Non-Null Count  Dtype \n",
      "---  ------                                     --------------  ----- \n",
      " 0   Date;Open;High;Low;Close;Adj Close;Volume  5799 non-null   object\n",
      "dtypes: object(1)\n",
      "memory usage: 45.4+ KB\n"
     ]
    }
   ],
   "source": [
    "ticker = \"^GSPC\" ## S&P500 \n",
    "spx = pd.read_csv(\"data/spx_daily.csv\")\n",
    "#pdr.DataReader(ticker, 'yahoo', '1980-01-01')\n",
    "spx.info()"
   ]
  },
  {
   "cell_type": "code",
   "execution_count": 159,
   "metadata": {
    "tags": [],
    "zanadu": {
     "code_type": ""
    }
   },
   "outputs": [
    {
     "data": {
      "text/html": [
       "<div>\n",
       "<style scoped>\n",
       "    .dataframe tbody tr th:only-of-type {\n",
       "        vertical-align: middle;\n",
       "    }\n",
       "\n",
       "    .dataframe tbody tr th {\n",
       "        vertical-align: top;\n",
       "    }\n",
       "\n",
       "    .dataframe thead th {\n",
       "        text-align: right;\n",
       "    }\n",
       "</style>\n",
       "<table border=\"1\" class=\"dataframe\">\n",
       "  <thead>\n",
       "    <tr style=\"text-align: right;\">\n",
       "      <th></th>\n",
       "      <th>Date;Open;High;Low;Close;Adj Close;Volume</th>\n",
       "    </tr>\n",
       "  </thead>\n",
       "  <tbody>\n",
       "    <tr>\n",
       "      <th>0</th>\n",
       "      <td>2000-01-03;148.25;148.25;143.875;145.4375;94.5...</td>\n",
       "    </tr>\n",
       "    <tr>\n",
       "      <th>1</th>\n",
       "      <td>2000-01-04;143.53125;144.0625;139.640625;139.7...</td>\n",
       "    </tr>\n",
       "    <tr>\n",
       "      <th>2</th>\n",
       "      <td>2000-01-05;139.9375;141.53125;137.25;140.0;91....</td>\n",
       "    </tr>\n",
       "    <tr>\n",
       "      <th>3</th>\n",
       "      <td>2000-01-06;139.625;141.5;137.75;137.75;89.5949...</td>\n",
       "    </tr>\n",
       "    <tr>\n",
       "      <th>4</th>\n",
       "      <td>2000-01-07;140.3125;145.75;140.0625;145.75;94....</td>\n",
       "    </tr>\n",
       "  </tbody>\n",
       "</table>\n",
       "</div>"
      ],
      "text/plain": [
       "           Date;Open;High;Low;Close;Adj Close;Volume\n",
       "0  2000-01-03;148.25;148.25;143.875;145.4375;94.5...\n",
       "1  2000-01-04;143.53125;144.0625;139.640625;139.7...\n",
       "2  2000-01-05;139.9375;141.53125;137.25;140.0;91....\n",
       "3  2000-01-06;139.625;141.5;137.75;137.75;89.5949...\n",
       "4  2000-01-07;140.3125;145.75;140.0625;145.75;94...."
      ]
     },
     "execution_count": 159,
     "metadata": {},
     "output_type": "execute_result"
    }
   ],
   "source": [
    "spx.head()"
   ]
  },
  {
   "cell_type": "code",
   "execution_count": 160,
   "metadata": {
    "tags": [],
    "zanadu": {
     "code_type": ""
    }
   },
   "outputs": [
    {
     "ename": "KeyError",
     "evalue": "'Close'",
     "output_type": "error",
     "traceback": [
      "\u001b[0;31m---------------------------------------------------------------------------\u001b[0m",
      "\u001b[0;31mKeyError\u001b[0m                                  Traceback (most recent call last)",
      "\u001b[0;32m~/opt/anaconda3/lib/python3.9/site-packages/pandas/core/indexes/base.py\u001b[0m in \u001b[0;36mget_loc\u001b[0;34m(self, key, method, tolerance)\u001b[0m\n\u001b[1;32m   3079\u001b[0m             \u001b[0;32mtry\u001b[0m\u001b[0;34m:\u001b[0m\u001b[0;34m\u001b[0m\u001b[0;34m\u001b[0m\u001b[0m\n\u001b[0;32m-> 3080\u001b[0;31m                 \u001b[0;32mreturn\u001b[0m \u001b[0mself\u001b[0m\u001b[0;34m.\u001b[0m\u001b[0m_engine\u001b[0m\u001b[0;34m.\u001b[0m\u001b[0mget_loc\u001b[0m\u001b[0;34m(\u001b[0m\u001b[0mcasted_key\u001b[0m\u001b[0;34m)\u001b[0m\u001b[0;34m\u001b[0m\u001b[0;34m\u001b[0m\u001b[0m\n\u001b[0m\u001b[1;32m   3081\u001b[0m             \u001b[0;32mexcept\u001b[0m \u001b[0mKeyError\u001b[0m \u001b[0;32mas\u001b[0m \u001b[0merr\u001b[0m\u001b[0;34m:\u001b[0m\u001b[0;34m\u001b[0m\u001b[0;34m\u001b[0m\u001b[0m\n",
      "\u001b[0;32mpandas/_libs/index.pyx\u001b[0m in \u001b[0;36mpandas._libs.index.IndexEngine.get_loc\u001b[0;34m()\u001b[0m\n",
      "\u001b[0;32mpandas/_libs/index.pyx\u001b[0m in \u001b[0;36mpandas._libs.index.IndexEngine.get_loc\u001b[0;34m()\u001b[0m\n",
      "\u001b[0;32mpandas/_libs/hashtable_class_helper.pxi\u001b[0m in \u001b[0;36mpandas._libs.hashtable.PyObjectHashTable.get_item\u001b[0;34m()\u001b[0m\n",
      "\u001b[0;32mpandas/_libs/hashtable_class_helper.pxi\u001b[0m in \u001b[0;36mpandas._libs.hashtable.PyObjectHashTable.get_item\u001b[0;34m()\u001b[0m\n",
      "\u001b[0;31mKeyError\u001b[0m: 'Close'",
      "\nThe above exception was the direct cause of the following exception:\n",
      "\u001b[0;31mKeyError\u001b[0m                                  Traceback (most recent call last)",
      "\u001b[0;32m/var/folders/ly/3n9d71nx23qdhf4_l8q2bjcw0000gn/T/ipykernel_19552/1377685435.py\u001b[0m in \u001b[0;36m<module>\u001b[0;34m\u001b[0m\n\u001b[0;32m----> 1\u001b[0;31m \u001b[0mspx\u001b[0m\u001b[0;34m[\u001b[0m\u001b[0;34m'Close'\u001b[0m\u001b[0;34m]\u001b[0m\u001b[0;34m.\u001b[0m\u001b[0mplot\u001b[0m\u001b[0;34m(\u001b[0m\u001b[0mfigsize\u001b[0m\u001b[0;34m=\u001b[0m\u001b[0;34m(\u001b[0m\u001b[0;36m8\u001b[0m\u001b[0;34m,\u001b[0m \u001b[0;36m5\u001b[0m\u001b[0;34m)\u001b[0m\u001b[0;34m,\u001b[0m \u001b[0mgrid\u001b[0m\u001b[0;34m=\u001b[0m\u001b[0;32mTrue\u001b[0m\u001b[0;34m)\u001b[0m\u001b[0;34m;\u001b[0m\u001b[0;34m\u001b[0m\u001b[0;34m\u001b[0m\u001b[0m\n\u001b[0m",
      "\u001b[0;32m~/opt/anaconda3/lib/python3.9/site-packages/pandas/core/frame.py\u001b[0m in \u001b[0;36m__getitem__\u001b[0;34m(self, key)\u001b[0m\n\u001b[1;32m   3022\u001b[0m             \u001b[0;32mif\u001b[0m \u001b[0mself\u001b[0m\u001b[0;34m.\u001b[0m\u001b[0mcolumns\u001b[0m\u001b[0;34m.\u001b[0m\u001b[0mnlevels\u001b[0m \u001b[0;34m>\u001b[0m \u001b[0;36m1\u001b[0m\u001b[0;34m:\u001b[0m\u001b[0;34m\u001b[0m\u001b[0;34m\u001b[0m\u001b[0m\n\u001b[1;32m   3023\u001b[0m                 \u001b[0;32mreturn\u001b[0m \u001b[0mself\u001b[0m\u001b[0;34m.\u001b[0m\u001b[0m_getitem_multilevel\u001b[0m\u001b[0;34m(\u001b[0m\u001b[0mkey\u001b[0m\u001b[0;34m)\u001b[0m\u001b[0;34m\u001b[0m\u001b[0;34m\u001b[0m\u001b[0m\n\u001b[0;32m-> 3024\u001b[0;31m             \u001b[0mindexer\u001b[0m \u001b[0;34m=\u001b[0m \u001b[0mself\u001b[0m\u001b[0;34m.\u001b[0m\u001b[0mcolumns\u001b[0m\u001b[0;34m.\u001b[0m\u001b[0mget_loc\u001b[0m\u001b[0;34m(\u001b[0m\u001b[0mkey\u001b[0m\u001b[0;34m)\u001b[0m\u001b[0;34m\u001b[0m\u001b[0;34m\u001b[0m\u001b[0m\n\u001b[0m\u001b[1;32m   3025\u001b[0m             \u001b[0;32mif\u001b[0m \u001b[0mis_integer\u001b[0m\u001b[0;34m(\u001b[0m\u001b[0mindexer\u001b[0m\u001b[0;34m)\u001b[0m\u001b[0;34m:\u001b[0m\u001b[0;34m\u001b[0m\u001b[0;34m\u001b[0m\u001b[0m\n\u001b[1;32m   3026\u001b[0m                 \u001b[0mindexer\u001b[0m \u001b[0;34m=\u001b[0m \u001b[0;34m[\u001b[0m\u001b[0mindexer\u001b[0m\u001b[0;34m]\u001b[0m\u001b[0;34m\u001b[0m\u001b[0;34m\u001b[0m\u001b[0m\n",
      "\u001b[0;32m~/opt/anaconda3/lib/python3.9/site-packages/pandas/core/indexes/base.py\u001b[0m in \u001b[0;36mget_loc\u001b[0;34m(self, key, method, tolerance)\u001b[0m\n\u001b[1;32m   3080\u001b[0m                 \u001b[0;32mreturn\u001b[0m \u001b[0mself\u001b[0m\u001b[0;34m.\u001b[0m\u001b[0m_engine\u001b[0m\u001b[0;34m.\u001b[0m\u001b[0mget_loc\u001b[0m\u001b[0;34m(\u001b[0m\u001b[0mcasted_key\u001b[0m\u001b[0;34m)\u001b[0m\u001b[0;34m\u001b[0m\u001b[0;34m\u001b[0m\u001b[0m\n\u001b[1;32m   3081\u001b[0m             \u001b[0;32mexcept\u001b[0m \u001b[0mKeyError\u001b[0m \u001b[0;32mas\u001b[0m \u001b[0merr\u001b[0m\u001b[0;34m:\u001b[0m\u001b[0;34m\u001b[0m\u001b[0;34m\u001b[0m\u001b[0m\n\u001b[0;32m-> 3082\u001b[0;31m                 \u001b[0;32mraise\u001b[0m \u001b[0mKeyError\u001b[0m\u001b[0;34m(\u001b[0m\u001b[0mkey\u001b[0m\u001b[0;34m)\u001b[0m \u001b[0;32mfrom\u001b[0m \u001b[0merr\u001b[0m\u001b[0;34m\u001b[0m\u001b[0;34m\u001b[0m\u001b[0m\n\u001b[0m\u001b[1;32m   3083\u001b[0m \u001b[0;34m\u001b[0m\u001b[0m\n\u001b[1;32m   3084\u001b[0m         \u001b[0;32mif\u001b[0m \u001b[0mtolerance\u001b[0m \u001b[0;32mis\u001b[0m \u001b[0;32mnot\u001b[0m \u001b[0;32mNone\u001b[0m\u001b[0;34m:\u001b[0m\u001b[0;34m\u001b[0m\u001b[0;34m\u001b[0m\u001b[0m\n",
      "\u001b[0;31mKeyError\u001b[0m: 'Close'"
     ]
    }
   ],
   "source": [
    "spx['Close'].plot(figsize=(8, 5), grid=True);"
   ]
  },
  {
   "cell_type": "code",
   "execution_count": 161,
   "metadata": {},
   "outputs": [
    {
     "name": "stdout",
     "output_type": "stream",
     "text": [
      "<class 'pandas.core.frame.DataFrame'>\n",
      "RangeIndex: 5799 entries, 0 to 5798\n",
      "Data columns (total 7 columns):\n",
      " #   Column     Non-Null Count  Dtype  \n",
      "---  ------     --------------  -----  \n",
      " 0   Date       5799 non-null   object \n",
      " 1   Open       5799 non-null   float64\n",
      " 2   High       5799 non-null   float64\n",
      " 3   Low        5799 non-null   float64\n",
      " 4   Close      5799 non-null   float64\n",
      " 5   Adj Close  5799 non-null   float64\n",
      " 6   Volume     5799 non-null   int64  \n",
      "dtypes: float64(5), int64(1), object(1)\n",
      "memory usage: 317.3+ KB\n"
     ]
    }
   ],
   "source": [
    "ticker = \"^GSPC\" ## S&P500 \n",
    "spx = pd.read_csv(\"data/spx_daily.csv\",delimiter=\";\")\n",
    "#pdr.DataReader(ticker, 'yahoo', '1980-01-01')\n",
    "spx.info()"
   ]
  },
  {
   "cell_type": "code",
   "execution_count": 162,
   "metadata": {},
   "outputs": [
    {
     "data": {
      "text/html": [
       "<div>\n",
       "<style scoped>\n",
       "    .dataframe tbody tr th:only-of-type {\n",
       "        vertical-align: middle;\n",
       "    }\n",
       "\n",
       "    .dataframe tbody tr th {\n",
       "        vertical-align: top;\n",
       "    }\n",
       "\n",
       "    .dataframe thead th {\n",
       "        text-align: right;\n",
       "    }\n",
       "</style>\n",
       "<table border=\"1\" class=\"dataframe\">\n",
       "  <thead>\n",
       "    <tr style=\"text-align: right;\">\n",
       "      <th></th>\n",
       "      <th>Date</th>\n",
       "      <th>Open</th>\n",
       "      <th>High</th>\n",
       "      <th>Low</th>\n",
       "      <th>Close</th>\n",
       "      <th>Adj Close</th>\n",
       "      <th>Volume</th>\n",
       "    </tr>\n",
       "  </thead>\n",
       "  <tbody>\n",
       "    <tr>\n",
       "      <th>0</th>\n",
       "      <td>2000-01-03</td>\n",
       "      <td>148.25000</td>\n",
       "      <td>148.25000</td>\n",
       "      <td>143.875000</td>\n",
       "      <td>145.4375</td>\n",
       "      <td>94.595108</td>\n",
       "      <td>8164300</td>\n",
       "    </tr>\n",
       "    <tr>\n",
       "      <th>1</th>\n",
       "      <td>2000-01-04</td>\n",
       "      <td>143.53125</td>\n",
       "      <td>144.06250</td>\n",
       "      <td>139.640625</td>\n",
       "      <td>139.7500</td>\n",
       "      <td>90.895828</td>\n",
       "      <td>8089800</td>\n",
       "    </tr>\n",
       "    <tr>\n",
       "      <th>2</th>\n",
       "      <td>2000-01-05</td>\n",
       "      <td>139.93750</td>\n",
       "      <td>141.53125</td>\n",
       "      <td>137.250000</td>\n",
       "      <td>140.0000</td>\n",
       "      <td>91.058418</td>\n",
       "      <td>12177900</td>\n",
       "    </tr>\n",
       "    <tr>\n",
       "      <th>3</th>\n",
       "      <td>2000-01-06</td>\n",
       "      <td>139.62500</td>\n",
       "      <td>141.50000</td>\n",
       "      <td>137.750000</td>\n",
       "      <td>137.7500</td>\n",
       "      <td>89.594955</td>\n",
       "      <td>6227200</td>\n",
       "    </tr>\n",
       "    <tr>\n",
       "      <th>4</th>\n",
       "      <td>2000-01-07</td>\n",
       "      <td>140.31250</td>\n",
       "      <td>145.75000</td>\n",
       "      <td>140.062500</td>\n",
       "      <td>145.7500</td>\n",
       "      <td>94.798302</td>\n",
       "      <td>8066500</td>\n",
       "    </tr>\n",
       "  </tbody>\n",
       "</table>\n",
       "</div>"
      ],
      "text/plain": [
       "         Date       Open       High         Low     Close  Adj Close    Volume\n",
       "0  2000-01-03  148.25000  148.25000  143.875000  145.4375  94.595108   8164300\n",
       "1  2000-01-04  143.53125  144.06250  139.640625  139.7500  90.895828   8089800\n",
       "2  2000-01-05  139.93750  141.53125  137.250000  140.0000  91.058418  12177900\n",
       "3  2000-01-06  139.62500  141.50000  137.750000  137.7500  89.594955   6227200\n",
       "4  2000-01-07  140.31250  145.75000  140.062500  145.7500  94.798302   8066500"
      ]
     },
     "execution_count": 162,
     "metadata": {},
     "output_type": "execute_result"
    }
   ],
   "source": [
    "spx.head()"
   ]
  },
  {
   "cell_type": "code",
   "execution_count": 163,
   "metadata": {},
   "outputs": [
    {
     "data": {
      "image/png": "[encoded data removed]",
      "text/plain": [
       "<Figure size 800x500 with 1 Axes>"
      ]
     },
     "metadata": {},
     "output_type": "display_data"
    }
   ],
   "source": [
    "spx['Close'].plot(figsize=(8, 5), grid=True);"
   ]
  },
  {
   "cell_type": "markdown",
   "metadata": {
    "zanadu": {}
   },
   "source": [
    "### A quick note on computation time -- computing daily returns"
   ]
  },
  {
   "cell_type": "code",
   "execution_count": 109,
   "metadata": {
    "tags": []
   },
   "outputs": [
    {
     "data": {
      "text/plain": [
       "5799"
      ]
     },
     "execution_count": 109,
     "metadata": {},
     "output_type": "execute_result"
    }
   ],
   "source": [
    "len(spx)"
   ]
  },
  {
   "cell_type": "code",
   "execution_count": 110,
   "metadata": {
    "tags": [],
    "zanadu": {
     "code_type": ""
    }
   },
   "outputs": [
    {
     "name": "stderr",
     "output_type": "stream",
     "text": [
      "<timed exec>:3: SettingWithCopyWarning: \n",
      "A value is trying to be set on a copy of a slice from a DataFrame\n",
      "\n",
      "See the caveats in the documentation: https://pandas.pydata.org/pandas-docs/stable/user_guide/indexing.html#returning-a-view-versus-a-copy\n"
     ]
    },
    {
     "name": "stdout",
     "output_type": "stream",
     "text": [
      "CPU times: user 2.83 s, sys: 115 ms, total: 2.94 s\n",
      "Wall time: 2.85 s\n"
     ]
    }
   ],
   "source": [
    "%%time\n",
    "spx['ReturnsLoop'] = 0.\n",
    "for i in range(1, len(spx)):\n",
    "    spx['ReturnsLoop'][i] = np.log(spx['Close'][i] / spx['Close'][i - 1])"
   ]
  },
  {
   "cell_type": "code",
   "execution_count": 111,
   "metadata": {
    "tags": [],
    "zanadu": {
     "code_type": ""
    }
   },
   "outputs": [
    {
     "data": {
      "text/html": [
       "<div>\n",
       "<style scoped>\n",
       "    .dataframe tbody tr th:only-of-type {\n",
       "        vertical-align: middle;\n",
       "    }\n",
       "\n",
       "    .dataframe tbody tr th {\n",
       "        vertical-align: top;\n",
       "    }\n",
       "\n",
       "    .dataframe thead th {\n",
       "        text-align: right;\n",
       "    }\n",
       "</style>\n",
       "<table border=\"1\" class=\"dataframe\">\n",
       "  <thead>\n",
       "    <tr style=\"text-align: right;\">\n",
       "      <th></th>\n",
       "      <th>Close</th>\n",
       "      <th>ReturnsLoop</th>\n",
       "    </tr>\n",
       "  </thead>\n",
       "  <tbody>\n",
       "    <tr>\n",
       "      <th>0</th>\n",
       "      <td>145.4375</td>\n",
       "      <td>0.000000</td>\n",
       "    </tr>\n",
       "    <tr>\n",
       "      <th>1</th>\n",
       "      <td>139.7500</td>\n",
       "      <td>-0.039891</td>\n",
       "    </tr>\n",
       "    <tr>\n",
       "      <th>2</th>\n",
       "      <td>140.0000</td>\n",
       "      <td>0.001787</td>\n",
       "    </tr>\n",
       "    <tr>\n",
       "      <th>3</th>\n",
       "      <td>137.7500</td>\n",
       "      <td>-0.016202</td>\n",
       "    </tr>\n",
       "    <tr>\n",
       "      <th>4</th>\n",
       "      <td>145.7500</td>\n",
       "      <td>0.056452</td>\n",
       "    </tr>\n",
       "  </tbody>\n",
       "</table>\n",
       "</div>"
      ],
      "text/plain": [
       "      Close  ReturnsLoop\n",
       "0  145.4375     0.000000\n",
       "1  139.7500    -0.039891\n",
       "2  140.0000     0.001787\n",
       "3  137.7500    -0.016202\n",
       "4  145.7500     0.056452"
      ]
     },
     "execution_count": 111,
     "metadata": {},
     "output_type": "execute_result"
    }
   ],
   "source": [
    "spx[['Close', 'ReturnsLoop']].head()"
   ]
  },
  {
   "cell_type": "code",
   "execution_count": 112,
   "metadata": {
    "tags": [],
    "zanadu": {
     "code_type": ""
    }
   },
   "outputs": [
    {
     "name": "stdout",
     "output_type": "stream",
     "text": [
      "CPU times: user 1.68 ms, sys: 298 µs, total: 1.98 ms\n",
      "Wall time: 1.85 ms\n"
     ]
    },
    {
     "data": {
      "text/html": [
       "<div>\n",
       "<style scoped>\n",
       "    .dataframe tbody tr th:only-of-type {\n",
       "        vertical-align: middle;\n",
       "    }\n",
       "\n",
       "    .dataframe tbody tr th {\n",
       "        vertical-align: top;\n",
       "    }\n",
       "\n",
       "    .dataframe thead th {\n",
       "        text-align: right;\n",
       "    }\n",
       "</style>\n",
       "<table border=\"1\" class=\"dataframe\">\n",
       "  <thead>\n",
       "    <tr style=\"text-align: right;\">\n",
       "      <th></th>\n",
       "      <th>Close</th>\n",
       "      <th>Returns</th>\n",
       "    </tr>\n",
       "  </thead>\n",
       "  <tbody>\n",
       "    <tr>\n",
       "      <th>0</th>\n",
       "      <td>145.4375</td>\n",
       "      <td>NaN</td>\n",
       "    </tr>\n",
       "    <tr>\n",
       "      <th>1</th>\n",
       "      <td>139.7500</td>\n",
       "      <td>-0.039891</td>\n",
       "    </tr>\n",
       "    <tr>\n",
       "      <th>2</th>\n",
       "      <td>140.0000</td>\n",
       "      <td>0.001787</td>\n",
       "    </tr>\n",
       "    <tr>\n",
       "      <th>3</th>\n",
       "      <td>137.7500</td>\n",
       "      <td>-0.016202</td>\n",
       "    </tr>\n",
       "    <tr>\n",
       "      <th>4</th>\n",
       "      <td>145.7500</td>\n",
       "      <td>0.056452</td>\n",
       "    </tr>\n",
       "  </tbody>\n",
       "</table>\n",
       "</div>"
      ],
      "text/plain": [
       "      Close   Returns\n",
       "0  145.4375       NaN\n",
       "1  139.7500 -0.039891\n",
       "2  140.0000  0.001787\n",
       "3  137.7500 -0.016202\n",
       "4  145.7500  0.056452"
      ]
     },
     "execution_count": 112,
     "metadata": {},
     "output_type": "execute_result"
    }
   ],
   "source": [
    "%time spx['Returns'] = np.log(spx['Close'] / spx['Close'].shift(1))\n",
    "spx[['Close', 'Returns']].head()"
   ]
  },
  {
   "cell_type": "code",
   "execution_count": 113,
   "metadata": {
    "tags": [],
    "zanadu": {
     "code_type": ""
    }
   },
   "outputs": [],
   "source": [
    "del spx['ReturnsLoop']"
   ]
  },
  {
   "cell_type": "code",
   "execution_count": 114,
   "metadata": {
    "tags": []
   },
   "outputs": [
    {
     "data": {
      "text/html": [
       "<div>\n",
       "<style scoped>\n",
       "    .dataframe tbody tr th:only-of-type {\n",
       "        vertical-align: middle;\n",
       "    }\n",
       "\n",
       "    .dataframe tbody tr th {\n",
       "        vertical-align: top;\n",
       "    }\n",
       "\n",
       "    .dataframe thead th {\n",
       "        text-align: right;\n",
       "    }\n",
       "</style>\n",
       "<table border=\"1\" class=\"dataframe\">\n",
       "  <thead>\n",
       "    <tr style=\"text-align: right;\">\n",
       "      <th></th>\n",
       "      <th>Date</th>\n",
       "      <th>Open</th>\n",
       "      <th>High</th>\n",
       "      <th>Low</th>\n",
       "      <th>Close</th>\n",
       "      <th>Adj Close</th>\n",
       "      <th>Volume</th>\n",
       "      <th>Returns</th>\n",
       "    </tr>\n",
       "  </thead>\n",
       "  <tbody>\n",
       "    <tr>\n",
       "      <th>0</th>\n",
       "      <td>2000-01-03</td>\n",
       "      <td>148.25000</td>\n",
       "      <td>148.25000</td>\n",
       "      <td>143.875000</td>\n",
       "      <td>145.4375</td>\n",
       "      <td>94.595108</td>\n",
       "      <td>8164300</td>\n",
       "      <td>NaN</td>\n",
       "    </tr>\n",
       "    <tr>\n",
       "      <th>1</th>\n",
       "      <td>2000-01-04</td>\n",
       "      <td>143.53125</td>\n",
       "      <td>144.06250</td>\n",
       "      <td>139.640625</td>\n",
       "      <td>139.7500</td>\n",
       "      <td>90.895828</td>\n",
       "      <td>8089800</td>\n",
       "      <td>-0.039891</td>\n",
       "    </tr>\n",
       "    <tr>\n",
       "      <th>2</th>\n",
       "      <td>2000-01-05</td>\n",
       "      <td>139.93750</td>\n",
       "      <td>141.53125</td>\n",
       "      <td>137.250000</td>\n",
       "      <td>140.0000</td>\n",
       "      <td>91.058418</td>\n",
       "      <td>12177900</td>\n",
       "      <td>0.001787</td>\n",
       "    </tr>\n",
       "    <tr>\n",
       "      <th>3</th>\n",
       "      <td>2000-01-06</td>\n",
       "      <td>139.62500</td>\n",
       "      <td>141.50000</td>\n",
       "      <td>137.750000</td>\n",
       "      <td>137.7500</td>\n",
       "      <td>89.594955</td>\n",
       "      <td>6227200</td>\n",
       "      <td>-0.016202</td>\n",
       "    </tr>\n",
       "    <tr>\n",
       "      <th>4</th>\n",
       "      <td>2000-01-07</td>\n",
       "      <td>140.31250</td>\n",
       "      <td>145.75000</td>\n",
       "      <td>140.062500</td>\n",
       "      <td>145.7500</td>\n",
       "      <td>94.798302</td>\n",
       "      <td>8066500</td>\n",
       "      <td>0.056452</td>\n",
       "    </tr>\n",
       "  </tbody>\n",
       "</table>\n",
       "</div>"
      ],
      "text/plain": [
       "         Date       Open       High         Low     Close  Adj Close  \\\n",
       "0  2000-01-03  148.25000  148.25000  143.875000  145.4375  94.595108   \n",
       "1  2000-01-04  143.53125  144.06250  139.640625  139.7500  90.895828   \n",
       "2  2000-01-05  139.93750  141.53125  137.250000  140.0000  91.058418   \n",
       "3  2000-01-06  139.62500  141.50000  137.750000  137.7500  89.594955   \n",
       "4  2000-01-07  140.31250  145.75000  140.062500  145.7500  94.798302   \n",
       "\n",
       "     Volume   Returns  \n",
       "0   8164300       NaN  \n",
       "1   8089800 -0.039891  \n",
       "2  12177900  0.001787  \n",
       "3   6227200 -0.016202  \n",
       "4   8066500  0.056452  "
      ]
     },
     "execution_count": 114,
     "metadata": {},
     "output_type": "execute_result"
    }
   ],
   "source": [
    "spx.dropna()\n",
    "spx.head()"
   ]
  },
  {
   "cell_type": "code",
   "execution_count": 115,
   "metadata": {
    "tags": []
   },
   "outputs": [
    {
     "data": {
      "text/plain": [
       "'2000-01-03'"
      ]
     },
     "execution_count": 115,
     "metadata": {},
     "output_type": "execute_result"
    }
   ],
   "source": [
    "val = spx.iloc[0,0]\n",
    "val"
   ]
  },
  {
   "cell_type": "markdown",
   "metadata": {
    "zanadu": {}
   },
   "source": [
    "### Data analysis"
   ]
  },
  {
   "cell_type": "code",
   "execution_count": 116,
   "metadata": {
    "tags": [],
    "zanadu": {
     "code_type": ""
    }
   },
   "outputs": [
    {
     "data": {
      "image/png": "[encoded data removed]",
      "text/plain": [
       "<Figure size 800x600 with 2 Axes>"
      ]
     },
     "metadata": {},
     "output_type": "display_data"
    }
   ],
   "source": [
    "spx[['Close', 'Returns']].plot(subplots=True, style='b',figsize=(8, 6));"
   ]
  },
  {
   "cell_type": "markdown",
   "metadata": {
    "zanadu": {}
   },
   "source": [
    "**Remarks:**\n",
    "- Volatility clustering\n",
    "- Leverage effect"
   ]
  },
  {
   "cell_type": "markdown",
   "metadata": {
    "zanadu": {}
   },
   "source": [
    "### Moving averages"
   ]
  },
  {
   "cell_type": "code",
   "execution_count": 117,
   "metadata": {
    "tags": [],
    "zanadu": {
     "code_type": ""
    }
   },
   "outputs": [
    {
     "data": {
      "text/html": [
       "<div>\n",
       "<style scoped>\n",
       "    .dataframe tbody tr th:only-of-type {\n",
       "        vertical-align: middle;\n",
       "    }\n",
       "\n",
       "    .dataframe tbody tr th {\n",
       "        vertical-align: top;\n",
       "    }\n",
       "\n",
       "    .dataframe thead th {\n",
       "        text-align: right;\n",
       "    }\n",
       "</style>\n",
       "<table border=\"1\" class=\"dataframe\">\n",
       "  <thead>\n",
       "    <tr style=\"text-align: right;\">\n",
       "      <th></th>\n",
       "      <th>Date</th>\n",
       "      <th>Open</th>\n",
       "      <th>High</th>\n",
       "      <th>Low</th>\n",
       "      <th>Close</th>\n",
       "      <th>Adj Close</th>\n",
       "      <th>Volume</th>\n",
       "      <th>Returns</th>\n",
       "      <th>MA24d</th>\n",
       "      <th>MA252d</th>\n",
       "    </tr>\n",
       "  </thead>\n",
       "  <tbody>\n",
       "    <tr>\n",
       "      <th>5794</th>\n",
       "      <td>2023-01-12</td>\n",
       "      <td>396.670013</td>\n",
       "      <td>398.489990</td>\n",
       "      <td>392.420013</td>\n",
       "      <td>396.959991</td>\n",
       "      <td>393.987244</td>\n",
       "      <td>90157700</td>\n",
       "      <td>0.003634</td>\n",
       "      <td>387.502082</td>\n",
       "      <td>406.517025</td>\n",
       "    </tr>\n",
       "    <tr>\n",
       "      <th>5795</th>\n",
       "      <td>2023-01-13</td>\n",
       "      <td>393.619995</td>\n",
       "      <td>399.100006</td>\n",
       "      <td>393.339996</td>\n",
       "      <td>398.500000</td>\n",
       "      <td>395.515717</td>\n",
       "      <td>63903900</td>\n",
       "      <td>0.003872</td>\n",
       "      <td>387.596249</td>\n",
       "      <td>406.229247</td>\n",
       "    </tr>\n",
       "    <tr>\n",
       "      <th>5796</th>\n",
       "      <td>2023-01-17</td>\n",
       "      <td>398.480011</td>\n",
       "      <td>400.230011</td>\n",
       "      <td>397.059998</td>\n",
       "      <td>397.769989</td>\n",
       "      <td>394.791168</td>\n",
       "      <td>62677300</td>\n",
       "      <td>-0.001834</td>\n",
       "      <td>387.783332</td>\n",
       "      <td>405.964326</td>\n",
       "    </tr>\n",
       "    <tr>\n",
       "      <th>5797</th>\n",
       "      <td>2023-01-18</td>\n",
       "      <td>399.010010</td>\n",
       "      <td>400.119995</td>\n",
       "      <td>391.279999</td>\n",
       "      <td>391.489990</td>\n",
       "      <td>388.558228</td>\n",
       "      <td>99632300</td>\n",
       "      <td>-0.015914</td>\n",
       "      <td>387.472497</td>\n",
       "      <td>405.673731</td>\n",
       "    </tr>\n",
       "    <tr>\n",
       "      <th>5798</th>\n",
       "      <td>2023-01-19</td>\n",
       "      <td>389.359985</td>\n",
       "      <td>391.079987</td>\n",
       "      <td>387.260010</td>\n",
       "      <td>388.640015</td>\n",
       "      <td>385.729584</td>\n",
       "      <td>86958900</td>\n",
       "      <td>-0.007306</td>\n",
       "      <td>386.917081</td>\n",
       "      <td>405.404485</td>\n",
       "    </tr>\n",
       "  </tbody>\n",
       "</table>\n",
       "</div>"
      ],
      "text/plain": [
       "            Date        Open        High         Low       Close   Adj Close  \\\n",
       "5794  2023-01-12  396.670013  398.489990  392.420013  396.959991  393.987244   \n",
       "5795  2023-01-13  393.619995  399.100006  393.339996  398.500000  395.515717   \n",
       "5796  2023-01-17  398.480011  400.230011  397.059998  397.769989  394.791168   \n",
       "5797  2023-01-18  399.010010  400.119995  391.279999  391.489990  388.558228   \n",
       "5798  2023-01-19  389.359985  391.079987  387.260010  388.640015  385.729584   \n",
       "\n",
       "        Volume   Returns       MA24d      MA252d  \n",
       "5794  90157700  0.003634  387.502082  406.517025  \n",
       "5795  63903900  0.003872  387.596249  406.229247  \n",
       "5796  62677300 -0.001834  387.783332  405.964326  \n",
       "5797  99632300 -0.015914  387.472497  405.673731  \n",
       "5798  86958900 -0.007306  386.917081  405.404485  "
      ]
     },
     "execution_count": 117,
     "metadata": {},
     "output_type": "execute_result"
    }
   ],
   "source": [
    "n1, n2 = 24, 252\n",
    "MA1, MA2 = 'MA' + str(n1) + 'd', 'MA' + str(n2) + 'd'\n",
    "spx[MA1] = spx['Close'].rolling(window=n1, center = False).mean()\n",
    "spx[MA2] = spx['Close'].rolling(window=n2, center = False).mean()\n",
    "spx.tail()"
   ]
  },
  {
   "cell_type": "code",
   "execution_count": 118,
   "metadata": {
    "tags": [],
    "zanadu": {
     "code_type": ""
    }
   },
   "outputs": [
    {
     "data": {
      "image/png": "[encoded data removed]",
      "text/plain": [
       "<Figure size 800x500 with 1 Axes>"
      ]
     },
     "metadata": {},
     "output_type": "display_data"
    }
   ],
   "source": [
    "spx[['Close', MA1, MA2]].plot(figsize=(8, 5), grid=True);"
   ]
  },
  {
   "cell_type": "code",
   "execution_count": 119,
   "metadata": {
    "tags": [],
    "zanadu": {
     "code_type": ""
    }
   },
   "outputs": [],
   "source": [
    "spx['MovingReturnsVol'] = spx['Returns'].rolling(window=252).std() * np.sqrt(252.)"
   ]
  },
  {
   "cell_type": "code",
   "execution_count": 120,
   "metadata": {
    "tags": [],
    "zanadu": {
     "code_type": ""
    }
   },
   "outputs": [
    {
     "data": {
      "image/png": "[encoded data removed]",
      "text/plain": [
       "<Figure size 800x700 with 3 Axes>"
      ]
     },
     "metadata": {},
     "output_type": "display_data"
    }
   ],
   "source": [
    "spx[['Close', 'Returns', 'MovingReturnsVol']].plot(subplots=True, style='b',figsize=(8, 7), grid=True);"
   ]
  },
  {
   "cell_type": "markdown",
   "metadata": {},
   "source": [
    "# The `groupby` command"
   ]
  },
  {
   "cell_type": "code",
   "execution_count": 121,
   "metadata": {
    "tags": []
   },
   "outputs": [
    {
     "data": {
      "text/html": [
       "<div>\n",
       "<style scoped>\n",
       "    .dataframe tbody tr th:only-of-type {\n",
       "        vertical-align: middle;\n",
       "    }\n",
       "\n",
       "    .dataframe tbody tr th {\n",
       "        vertical-align: top;\n",
       "    }\n",
       "\n",
       "    .dataframe thead th {\n",
       "        text-align: right;\n",
       "    }\n",
       "</style>\n",
       "<table border=\"1\" class=\"dataframe\">\n",
       "  <thead>\n",
       "    <tr style=\"text-align: right;\">\n",
       "      <th></th>\n",
       "      <th>Name</th>\n",
       "      <th>Grade</th>\n",
       "      <th>Nationality</th>\n",
       "      <th>Gender</th>\n",
       "    </tr>\n",
       "  </thead>\n",
       "  <tbody>\n",
       "    <tr>\n",
       "      <th>0</th>\n",
       "      <td>John</td>\n",
       "      <td>81.791817</td>\n",
       "      <td>China</td>\n",
       "      <td>M</td>\n",
       "    </tr>\n",
       "    <tr>\n",
       "      <th>1</th>\n",
       "      <td>Joe</td>\n",
       "      <td>96.101421</td>\n",
       "      <td>UK</td>\n",
       "      <td>M</td>\n",
       "    </tr>\n",
       "    <tr>\n",
       "      <th>2</th>\n",
       "      <td>Jack</td>\n",
       "      <td>96.466640</td>\n",
       "      <td>France</td>\n",
       "      <td>F</td>\n",
       "    </tr>\n",
       "    <tr>\n",
       "      <th>3</th>\n",
       "      <td>Ben</td>\n",
       "      <td>93.981908</td>\n",
       "      <td>US</td>\n",
       "      <td>M</td>\n",
       "    </tr>\n",
       "    <tr>\n",
       "      <th>4</th>\n",
       "      <td>Cynthia</td>\n",
       "      <td>53.858965</td>\n",
       "      <td>Japan</td>\n",
       "      <td>M</td>\n",
       "    </tr>\n",
       "  </tbody>\n",
       "</table>\n",
       "</div>"
      ],
      "text/plain": [
       "      Name      Grade Nationality Gender\n",
       "0     John  81.791817       China      M\n",
       "1      Joe  96.101421          UK      M\n",
       "2     Jack  96.466640      France      F\n",
       "3      Ben  93.981908          US      M\n",
       "4  Cynthia  53.858965       Japan      M"
      ]
     },
     "execution_count": 121,
     "metadata": {},
     "output_type": "execute_result"
    }
   ],
   "source": [
    "import pandas as pd\n",
    "\n",
    "df = pd.read_csv('data/Class.csv')\n",
    "df.head()"
   ]
  },
  {
   "cell_type": "code",
   "execution_count": 122,
   "metadata": {
    "tags": []
   },
   "outputs": [
    {
     "name": "stdout",
     "output_type": "stream",
     "text": [
      "<class 'pandas.core.frame.DataFrame'>\n",
      "RangeIndex: 35 entries, 0 to 34\n",
      "Data columns (total 4 columns):\n",
      " #   Column       Non-Null Count  Dtype  \n",
      "---  ------       --------------  -----  \n",
      " 0   Name         35 non-null     object \n",
      " 1   Grade        35 non-null     float64\n",
      " 2   Nationality  35 non-null     object \n",
      " 3   Gender       35 non-null     object \n",
      "dtypes: float64(1), object(3)\n",
      "memory usage: 1.2+ KB\n"
     ]
    }
   ],
   "source": [
    "df.info()"
   ]
  },
  {
   "cell_type": "code",
   "execution_count": 123,
   "metadata": {
    "tags": []
   },
   "outputs": [
    {
     "data": {
      "text/plain": [
       "75.78772944914284"
      ]
     },
     "execution_count": 123,
     "metadata": {},
     "output_type": "execute_result"
    }
   ],
   "source": [
    "df[\"Grade\"].mean()"
   ]
  },
  {
   "cell_type": "code",
   "execution_count": 124,
   "metadata": {
    "tags": []
   },
   "outputs": [
    {
     "data": {
      "text/plain": [
       "2652.57053072"
      ]
     },
     "execution_count": 124,
     "metadata": {},
     "output_type": "execute_result"
    }
   ],
   "source": [
    "df[\"Grade\"].sum()# / len(df.index)"
   ]
  },
  {
   "cell_type": "code",
   "execution_count": 125,
   "metadata": {
    "tags": []
   },
   "outputs": [
    {
     "data": {
      "text/html": [
       "<div>\n",
       "<style scoped>\n",
       "    .dataframe tbody tr th:only-of-type {\n",
       "        vertical-align: middle;\n",
       "    }\n",
       "\n",
       "    .dataframe tbody tr th {\n",
       "        vertical-align: top;\n",
       "    }\n",
       "\n",
       "    .dataframe thead th {\n",
       "        text-align: right;\n",
       "    }\n",
       "</style>\n",
       "<table border=\"1\" class=\"dataframe\">\n",
       "  <thead>\n",
       "    <tr style=\"text-align: right;\">\n",
       "      <th></th>\n",
       "      <th>Grade</th>\n",
       "    </tr>\n",
       "    <tr>\n",
       "      <th>Nationality</th>\n",
       "      <th></th>\n",
       "    </tr>\n",
       "  </thead>\n",
       "  <tbody>\n",
       "    <tr>\n",
       "      <th>Cambodia</th>\n",
       "      <td>73.970554</td>\n",
       "    </tr>\n",
       "    <tr>\n",
       "      <th>China</th>\n",
       "      <td>72.109283</td>\n",
       "    </tr>\n",
       "    <tr>\n",
       "      <th>France</th>\n",
       "      <td>73.727389</td>\n",
       "    </tr>\n",
       "    <tr>\n",
       "      <th>German</th>\n",
       "      <td>78.613666</td>\n",
       "    </tr>\n",
       "    <tr>\n",
       "      <th>Japan</th>\n",
       "      <td>71.400133</td>\n",
       "    </tr>\n",
       "    <tr>\n",
       "      <th>Korea</th>\n",
       "      <td>76.892591</td>\n",
       "    </tr>\n",
       "    <tr>\n",
       "      <th>UK</th>\n",
       "      <td>74.029734</td>\n",
       "    </tr>\n",
       "    <tr>\n",
       "      <th>US</th>\n",
       "      <td>85.262760</td>\n",
       "    </tr>\n",
       "    <tr>\n",
       "      <th>Vietnam</th>\n",
       "      <td>72.649608</td>\n",
       "    </tr>\n",
       "  </tbody>\n",
       "</table>\n",
       "</div>"
      ],
      "text/plain": [
       "                 Grade\n",
       "Nationality           \n",
       "Cambodia     73.970554\n",
       "China        72.109283\n",
       "France       73.727389\n",
       "German       78.613666\n",
       "Japan        71.400133\n",
       "Korea        76.892591\n",
       "UK           74.029734\n",
       "US           85.262760\n",
       "Vietnam      72.649608"
      ]
     },
     "execution_count": 125,
     "metadata": {},
     "output_type": "execute_result"
    }
   ],
   "source": [
    "df.groupby(['Nationality']).agg({'Grade': 'mean'})"
   ]
  },
  {
   "cell_type": "code",
   "execution_count": 126,
   "metadata": {
    "tags": []
   },
   "outputs": [
    {
     "data": {
      "text/html": [
       "<div>\n",
       "<style scoped>\n",
       "    .dataframe tbody tr th:only-of-type {\n",
       "        vertical-align: middle;\n",
       "    }\n",
       "\n",
       "    .dataframe tbody tr th {\n",
       "        vertical-align: top;\n",
       "    }\n",
       "\n",
       "    .dataframe thead th {\n",
       "        text-align: right;\n",
       "    }\n",
       "</style>\n",
       "<table border=\"1\" class=\"dataframe\">\n",
       "  <thead>\n",
       "    <tr style=\"text-align: right;\">\n",
       "      <th></th>\n",
       "      <th>Grade</th>\n",
       "    </tr>\n",
       "    <tr>\n",
       "      <th>Nationality</th>\n",
       "      <th></th>\n",
       "    </tr>\n",
       "  </thead>\n",
       "  <tbody>\n",
       "    <tr>\n",
       "      <th>Cambodia</th>\n",
       "      <td>147.941108</td>\n",
       "    </tr>\n",
       "    <tr>\n",
       "      <th>China</th>\n",
       "      <td>576.874264</td>\n",
       "    </tr>\n",
       "    <tr>\n",
       "      <th>France</th>\n",
       "      <td>147.454778</td>\n",
       "    </tr>\n",
       "    <tr>\n",
       "      <th>German</th>\n",
       "      <td>157.227331</td>\n",
       "    </tr>\n",
       "    <tr>\n",
       "      <th>Japan</th>\n",
       "      <td>357.000665</td>\n",
       "    </tr>\n",
       "    <tr>\n",
       "      <th>Korea</th>\n",
       "      <td>153.785183</td>\n",
       "    </tr>\n",
       "    <tr>\n",
       "      <th>UK</th>\n",
       "      <td>370.148668</td>\n",
       "    </tr>\n",
       "    <tr>\n",
       "      <th>US</th>\n",
       "      <td>596.839317</td>\n",
       "    </tr>\n",
       "    <tr>\n",
       "      <th>Vietnam</th>\n",
       "      <td>145.299216</td>\n",
       "    </tr>\n",
       "  </tbody>\n",
       "</table>\n",
       "</div>"
      ],
      "text/plain": [
       "                  Grade\n",
       "Nationality            \n",
       "Cambodia     147.941108\n",
       "China        576.874264\n",
       "France       147.454778\n",
       "German       157.227331\n",
       "Japan        357.000665\n",
       "Korea        153.785183\n",
       "UK           370.148668\n",
       "US           596.839317\n",
       "Vietnam      145.299216"
      ]
     },
     "execution_count": 126,
     "metadata": {},
     "output_type": "execute_result"
    }
   ],
   "source": [
    "df.groupby(['Nationality']).agg({'Grade': 'sum'})"
   ]
  },
  {
   "cell_type": "code",
   "execution_count": 127,
   "metadata": {
    "tags": []
   },
   "outputs": [
    {
     "data": {
      "text/html": [
       "<div>\n",
       "<style scoped>\n",
       "    .dataframe tbody tr th:only-of-type {\n",
       "        vertical-align: middle;\n",
       "    }\n",
       "\n",
       "    .dataframe tbody tr th {\n",
       "        vertical-align: top;\n",
       "    }\n",
       "\n",
       "    .dataframe thead th {\n",
       "        text-align: right;\n",
       "    }\n",
       "</style>\n",
       "<table border=\"1\" class=\"dataframe\">\n",
       "  <thead>\n",
       "    <tr style=\"text-align: right;\">\n",
       "      <th></th>\n",
       "      <th></th>\n",
       "      <th>Grade</th>\n",
       "    </tr>\n",
       "    <tr>\n",
       "      <th>Nationality</th>\n",
       "      <th>Gender</th>\n",
       "      <th></th>\n",
       "    </tr>\n",
       "  </thead>\n",
       "  <tbody>\n",
       "    <tr>\n",
       "      <th rowspan=\"2\" valign=\"top\">Cambodia</th>\n",
       "      <th>F</th>\n",
       "      <td>55.248696</td>\n",
       "    </tr>\n",
       "    <tr>\n",
       "      <th>M</th>\n",
       "      <td>92.692412</td>\n",
       "    </tr>\n",
       "    <tr>\n",
       "      <th rowspan=\"2\" valign=\"top\">China</th>\n",
       "      <th>F</th>\n",
       "      <td>127.833955</td>\n",
       "    </tr>\n",
       "    <tr>\n",
       "      <th>M</th>\n",
       "      <td>449.040309</td>\n",
       "    </tr>\n",
       "    <tr>\n",
       "      <th>France</th>\n",
       "      <th>F</th>\n",
       "      <td>147.454778</td>\n",
       "    </tr>\n",
       "    <tr>\n",
       "      <th rowspan=\"2\" valign=\"top\">German</th>\n",
       "      <th>F</th>\n",
       "      <td>68.975979</td>\n",
       "    </tr>\n",
       "    <tr>\n",
       "      <th>M</th>\n",
       "      <td>88.251352</td>\n",
       "    </tr>\n",
       "    <tr>\n",
       "      <th>Japan</th>\n",
       "      <th>M</th>\n",
       "      <td>357.000665</td>\n",
       "    </tr>\n",
       "    <tr>\n",
       "      <th>Korea</th>\n",
       "      <th>M</th>\n",
       "      <td>153.785183</td>\n",
       "    </tr>\n",
       "    <tr>\n",
       "      <th rowspan=\"2\" valign=\"top\">UK</th>\n",
       "      <th>F</th>\n",
       "      <td>274.047247</td>\n",
       "    </tr>\n",
       "    <tr>\n",
       "      <th>M</th>\n",
       "      <td>96.101421</td>\n",
       "    </tr>\n",
       "    <tr>\n",
       "      <th rowspan=\"2\" valign=\"top\">US</th>\n",
       "      <th>F</th>\n",
       "      <td>156.859866</td>\n",
       "    </tr>\n",
       "    <tr>\n",
       "      <th>M</th>\n",
       "      <td>439.979451</td>\n",
       "    </tr>\n",
       "    <tr>\n",
       "      <th rowspan=\"2\" valign=\"top\">Vietnam</th>\n",
       "      <th>F</th>\n",
       "      <td>66.581475</td>\n",
       "    </tr>\n",
       "    <tr>\n",
       "      <th>M</th>\n",
       "      <td>78.717741</td>\n",
       "    </tr>\n",
       "  </tbody>\n",
       "</table>\n",
       "</div>"
      ],
      "text/plain": [
       "                         Grade\n",
       "Nationality Gender            \n",
       "Cambodia    F        55.248696\n",
       "            M        92.692412\n",
       "China       F       127.833955\n",
       "            M       449.040309\n",
       "France      F       147.454778\n",
       "German      F        68.975979\n",
       "            M        88.251352\n",
       "Japan       M       357.000665\n",
       "Korea       M       153.785183\n",
       "UK          F       274.047247\n",
       "            M        96.101421\n",
       "US          F       156.859866\n",
       "            M       439.979451\n",
       "Vietnam     F        66.581475\n",
       "            M        78.717741"
      ]
     },
     "execution_count": 127,
     "metadata": {},
     "output_type": "execute_result"
    }
   ],
   "source": [
    "df.groupby(['Nationality', 'Gender']).agg({'Grade': 'sum'})#.sum()"
   ]
  },
  {
   "cell_type": "markdown",
   "metadata": {
    "zanadu": {}
   },
   "source": [
    "# Merge, join, concatenate data -- an example with the MTA database\n",
    "\n",
    "NYC map: https://www.google.com/maps/place/New+York,+NY,+USA/@40.6976684,-74.2605634,10z/data=!3m1!4b1!4m5!3m4!1s0x89c24fa5d33f083b:0xc80b8f06e177fe62!8m2!3d40.7127753!4d-74.0059728\n",
    "\n",
    "\n",
    "Data: http://web.mta.info/developers/turnstile.html\n",
    "\n"
   ]
  },
  {
   "cell_type": "markdown",
   "metadata": {},
   "source": [
    "### Importing and looking at the data"
   ]
  },
  {
   "cell_type": "code",
   "execution_count": 128,
   "metadata": {
    "tags": [],
    "zanadu": {
     "code_type": ""
    }
   },
   "outputs": [],
   "source": [
    "import datetime as dt\n",
    "import pandas as pd"
   ]
  },
  {
   "cell_type": "code",
   "execution_count": 129,
   "metadata": {
    "tags": [],
    "zanadu": {
     "code_type": ""
    }
   },
   "outputs": [],
   "source": [
    "url  = r'http://web.mta.info/developers/data/nyct/turnstile/turnstile_180825.txt'\n",
    "df = pd.read_csv(url)#, index_col=0, header=0, parse_dates=True)"
   ]
  },
  {
   "cell_type": "code",
   "execution_count": 130,
   "metadata": {},
   "outputs": [
    {
     "name": "stdout",
     "output_type": "stream",
     "text": [
      "<class 'pandas.core.frame.DataFrame'>\n",
      "RangeIndex: 197380 entries, 0 to 197379\n",
      "Data columns (total 11 columns):\n",
      " #   Column                                                                Non-Null Count   Dtype \n",
      "---  ------                                                                --------------   ----- \n",
      " 0   C/A                                                                   197380 non-null  object\n",
      " 1   UNIT                                                                  197380 non-null  object\n",
      " 2   SCP                                                                   197380 non-null  object\n",
      " 3   STATION                                                               197380 non-null  object\n",
      " 4   LINENAME                                                              197380 non-null  object\n",
      " 5   DIVISION                                                              197380 non-null  object\n",
      " 6   DATE                                                                  197380 non-null  object\n",
      " 7   TIME                                                                  197380 non-null  object\n",
      " 8   DESC                                                                  197380 non-null  object\n",
      " 9   ENTRIES                                                               197380 non-null  int64 \n",
      " 10  EXITS                                                                 197380 non-null  int64 \n",
      "dtypes: int64(2), object(9)\n",
      "memory usage: 16.6+ MB\n"
     ]
    }
   ],
   "source": [
    "df.info()"
   ]
  },
  {
   "cell_type": "code",
   "execution_count": 131,
   "metadata": {
    "zanadu": {
     "code_type": ""
    }
   },
   "outputs": [
    {
     "data": {
      "text/html": [
       "<div>\n",
       "<style scoped>\n",
       "    .dataframe tbody tr th:only-of-type {\n",
       "        vertical-align: middle;\n",
       "    }\n",
       "\n",
       "    .dataframe tbody tr th {\n",
       "        vertical-align: top;\n",
       "    }\n",
       "\n",
       "    .dataframe thead th {\n",
       "        text-align: right;\n",
       "    }\n",
       "</style>\n",
       "<table border=\"1\" class=\"dataframe\">\n",
       "  <thead>\n",
       "    <tr style=\"text-align: right;\">\n",
       "      <th></th>\n",
       "      <th>C/A</th>\n",
       "      <th>UNIT</th>\n",
       "      <th>SCP</th>\n",
       "      <th>STATION</th>\n",
       "      <th>LINENAME</th>\n",
       "      <th>DIVISION</th>\n",
       "      <th>DATE</th>\n",
       "      <th>TIME</th>\n",
       "      <th>DESC</th>\n",
       "      <th>ENTRIES</th>\n",
       "      <th>EXITS</th>\n",
       "    </tr>\n",
       "  </thead>\n",
       "  <tbody>\n",
       "    <tr>\n",
       "      <th>0</th>\n",
       "      <td>A002</td>\n",
       "      <td>R051</td>\n",
       "      <td>02-00-00</td>\n",
       "      <td>59 ST</td>\n",
       "      <td>NQR456W</td>\n",
       "      <td>BMT</td>\n",
       "      <td>08/18/2018</td>\n",
       "      <td>00:00:00</td>\n",
       "      <td>REGULAR</td>\n",
       "      <td>6728354</td>\n",
       "      <td>2280604</td>\n",
       "    </tr>\n",
       "    <tr>\n",
       "      <th>1</th>\n",
       "      <td>A002</td>\n",
       "      <td>R051</td>\n",
       "      <td>02-00-00</td>\n",
       "      <td>59 ST</td>\n",
       "      <td>NQR456W</td>\n",
       "      <td>BMT</td>\n",
       "      <td>08/18/2018</td>\n",
       "      <td>04:00:00</td>\n",
       "      <td>REGULAR</td>\n",
       "      <td>6728373</td>\n",
       "      <td>2280609</td>\n",
       "    </tr>\n",
       "    <tr>\n",
       "      <th>2</th>\n",
       "      <td>A002</td>\n",
       "      <td>R051</td>\n",
       "      <td>02-00-00</td>\n",
       "      <td>59 ST</td>\n",
       "      <td>NQR456W</td>\n",
       "      <td>BMT</td>\n",
       "      <td>08/18/2018</td>\n",
       "      <td>08:00:00</td>\n",
       "      <td>REGULAR</td>\n",
       "      <td>6728388</td>\n",
       "      <td>2280634</td>\n",
       "    </tr>\n",
       "    <tr>\n",
       "      <th>3</th>\n",
       "      <td>A002</td>\n",
       "      <td>R051</td>\n",
       "      <td>02-00-00</td>\n",
       "      <td>59 ST</td>\n",
       "      <td>NQR456W</td>\n",
       "      <td>BMT</td>\n",
       "      <td>08/18/2018</td>\n",
       "      <td>12:00:00</td>\n",
       "      <td>REGULAR</td>\n",
       "      <td>6728469</td>\n",
       "      <td>2280669</td>\n",
       "    </tr>\n",
       "    <tr>\n",
       "      <th>4</th>\n",
       "      <td>A002</td>\n",
       "      <td>R051</td>\n",
       "      <td>02-00-00</td>\n",
       "      <td>59 ST</td>\n",
       "      <td>NQR456W</td>\n",
       "      <td>BMT</td>\n",
       "      <td>08/18/2018</td>\n",
       "      <td>16:00:00</td>\n",
       "      <td>REGULAR</td>\n",
       "      <td>6728665</td>\n",
       "      <td>2280681</td>\n",
       "    </tr>\n",
       "  </tbody>\n",
       "</table>\n",
       "</div>"
      ],
      "text/plain": [
       "    C/A  UNIT       SCP STATION LINENAME DIVISION        DATE      TIME  \\\n",
       "0  A002  R051  02-00-00   59 ST  NQR456W      BMT  08/18/2018  00:00:00   \n",
       "1  A002  R051  02-00-00   59 ST  NQR456W      BMT  08/18/2018  04:00:00   \n",
       "2  A002  R051  02-00-00   59 ST  NQR456W      BMT  08/18/2018  08:00:00   \n",
       "3  A002  R051  02-00-00   59 ST  NQR456W      BMT  08/18/2018  12:00:00   \n",
       "4  A002  R051  02-00-00   59 ST  NQR456W      BMT  08/18/2018  16:00:00   \n",
       "\n",
       "      DESC  ENTRIES  \\\n",
       "0  REGULAR  6728354   \n",
       "1  REGULAR  6728373   \n",
       "2  REGULAR  6728388   \n",
       "3  REGULAR  6728469   \n",
       "4  REGULAR  6728665   \n",
       "\n",
       "   EXITS                                                                 \n",
       "0                                            2280604                     \n",
       "1                                            2280609                     \n",
       "2                                            2280634                     \n",
       "3                                            2280669                     \n",
       "4                                            2280681                     "
      ]
     },
     "execution_count": 131,
     "metadata": {},
     "output_type": "execute_result"
    }
   ],
   "source": [
    "df.head()"
   ]
  },
  {
   "cell_type": "code",
   "execution_count": 132,
   "metadata": {},
   "outputs": [],
   "source": [
    "#!pip install xlrd"
   ]
  },
  {
   "cell_type": "code",
   "execution_count": 133,
   "metadata": {
    "zanadu": {
     "code_type": ""
    }
   },
   "outputs": [
    {
     "data": {
      "text/html": [
       "<div>\n",
       "<style scoped>\n",
       "    .dataframe tbody tr th:only-of-type {\n",
       "        vertical-align: middle;\n",
       "    }\n",
       "\n",
       "    .dataframe tbody tr th {\n",
       "        vertical-align: top;\n",
       "    }\n",
       "\n",
       "    .dataframe thead th {\n",
       "        text-align: right;\n",
       "    }\n",
       "</style>\n",
       "<table border=\"1\" class=\"dataframe\">\n",
       "  <thead>\n",
       "    <tr style=\"text-align: right;\">\n",
       "      <th></th>\n",
       "      <th>Remote</th>\n",
       "      <th>Booth</th>\n",
       "      <th>Station</th>\n",
       "      <th>Line Name</th>\n",
       "      <th>Division</th>\n",
       "    </tr>\n",
       "  </thead>\n",
       "  <tbody>\n",
       "    <tr>\n",
       "      <th>0</th>\n",
       "      <td>R001</td>\n",
       "      <td>A060</td>\n",
       "      <td>WHITEHALL ST</td>\n",
       "      <td>R1</td>\n",
       "      <td>BMT</td>\n",
       "    </tr>\n",
       "    <tr>\n",
       "      <th>1</th>\n",
       "      <td>R001</td>\n",
       "      <td>A058</td>\n",
       "      <td>WHITEHALL ST</td>\n",
       "      <td>R1</td>\n",
       "      <td>BMT</td>\n",
       "    </tr>\n",
       "    <tr>\n",
       "      <th>2</th>\n",
       "      <td>R001</td>\n",
       "      <td>R101S</td>\n",
       "      <td>SOUTH FERRY</td>\n",
       "      <td>R1</td>\n",
       "      <td>IRT</td>\n",
       "    </tr>\n",
       "    <tr>\n",
       "      <th>3</th>\n",
       "      <td>R002</td>\n",
       "      <td>A077</td>\n",
       "      <td>FULTON ST</td>\n",
       "      <td>ACJZ2345</td>\n",
       "      <td>BMT</td>\n",
       "    </tr>\n",
       "    <tr>\n",
       "      <th>4</th>\n",
       "      <td>R002</td>\n",
       "      <td>A081</td>\n",
       "      <td>FULTON ST</td>\n",
       "      <td>ACJZ2345</td>\n",
       "      <td>BMT</td>\n",
       "    </tr>\n",
       "  </tbody>\n",
       "</table>\n",
       "</div>"
      ],
      "text/plain": [
       "  Remote  Booth       Station Line Name Division\n",
       "0   R001   A060  WHITEHALL ST        R1      BMT\n",
       "1   R001   A058  WHITEHALL ST        R1      BMT\n",
       "2   R001  R101S   SOUTH FERRY        R1      IRT\n",
       "3   R002   A077     FULTON ST  ACJZ2345      BMT\n",
       "4   R002   A081     FULTON ST  ACJZ2345      BMT"
      ]
     },
     "execution_count": 133,
     "metadata": {},
     "output_type": "execute_result"
    }
   ],
   "source": [
    "url  = r'http://web.mta.info/developers/resources/nyct/turnstile/Remote-Booth-Station.xls'\n",
    "infoStations = pd.read_excel(url)#, index_col=0, header=0, parse_dates=True)\n",
    "infoStations.head()"
   ]
  },
  {
   "cell_type": "markdown",
   "metadata": {
    "zanadu": {}
   },
   "source": [
    "### Cleaning the data"
   ]
  },
  {
   "cell_type": "code",
   "execution_count": 134,
   "metadata": {
    "zanadu": {
     "code_type": ""
    }
   },
   "outputs": [
    {
     "data": {
      "text/plain": [
       "2129780411"
      ]
     },
     "execution_count": 134,
     "metadata": {},
     "output_type": "execute_result"
    }
   ],
   "source": [
    "df['ENTRIES'].max()"
   ]
  },
  {
   "cell_type": "code",
   "execution_count": 135,
   "metadata": {
    "zanadu": {
     "code_type": ""
    }
   },
   "outputs": [
    {
     "ename": "KeyError",
     "evalue": "'EXITS'",
     "output_type": "error",
     "traceback": [
      "\u001b[0;31m---------------------------------------------------------------------------\u001b[0m",
      "\u001b[0;31mKeyError\u001b[0m                                  Traceback (most recent call last)",
      "\u001b[0;32m~/opt/anaconda3/lib/python3.9/site-packages/pandas/core/indexes/base.py\u001b[0m in \u001b[0;36mget_loc\u001b[0;34m(self, key, method, tolerance)\u001b[0m\n\u001b[1;32m   3079\u001b[0m             \u001b[0;32mtry\u001b[0m\u001b[0;34m:\u001b[0m\u001b[0;34m\u001b[0m\u001b[0;34m\u001b[0m\u001b[0m\n\u001b[0;32m-> 3080\u001b[0;31m                 \u001b[0;32mreturn\u001b[0m \u001b[0mself\u001b[0m\u001b[0;34m.\u001b[0m\u001b[0m_engine\u001b[0m\u001b[0;34m.\u001b[0m\u001b[0mget_loc\u001b[0m\u001b[0;34m(\u001b[0m\u001b[0mcasted_key\u001b[0m\u001b[0;34m)\u001b[0m\u001b[0;34m\u001b[0m\u001b[0;34m\u001b[0m\u001b[0m\n\u001b[0m\u001b[1;32m   3081\u001b[0m             \u001b[0;32mexcept\u001b[0m \u001b[0mKeyError\u001b[0m \u001b[0;32mas\u001b[0m \u001b[0merr\u001b[0m\u001b[0;34m:\u001b[0m\u001b[0;34m\u001b[0m\u001b[0;34m\u001b[0m\u001b[0m\n",
      "\u001b[0;32mpandas/_libs/index.pyx\u001b[0m in \u001b[0;36mpandas._libs.index.IndexEngine.get_loc\u001b[0;34m()\u001b[0m\n",
      "\u001b[0;32mpandas/_libs/index.pyx\u001b[0m in \u001b[0;36mpandas._libs.index.IndexEngine.get_loc\u001b[0;34m()\u001b[0m\n",
      "\u001b[0;32mpandas/_libs/hashtable_class_helper.pxi\u001b[0m in \u001b[0;36mpandas._libs.hashtable.PyObjectHashTable.get_item\u001b[0;34m()\u001b[0m\n",
      "\u001b[0;32mpandas/_libs/hashtable_class_helper.pxi\u001b[0m in \u001b[0;36mpandas._libs.hashtable.PyObjectHashTable.get_item\u001b[0;34m()\u001b[0m\n",
      "\u001b[0;31mKeyError\u001b[0m: 'EXITS'",
      "\nThe above exception was the direct cause of the following exception:\n",
      "\u001b[0;31mKeyError\u001b[0m                                  Traceback (most recent call last)",
      "\u001b[0;32m/var/folders/ly/3n9d71nx23qdhf4_l8q2bjcw0000gn/T/ipykernel_19552/436354365.py\u001b[0m in \u001b[0;36m<module>\u001b[0;34m\u001b[0m\n\u001b[0;32m----> 1\u001b[0;31m \u001b[0mdf\u001b[0m\u001b[0;34m[\u001b[0m\u001b[0;34m'EXITS'\u001b[0m\u001b[0;34m]\u001b[0m\u001b[0;34m.\u001b[0m\u001b[0mmax\u001b[0m\u001b[0;34m(\u001b[0m\u001b[0;34m)\u001b[0m\u001b[0;34m\u001b[0m\u001b[0;34m\u001b[0m\u001b[0m\n\u001b[0m",
      "\u001b[0;32m~/opt/anaconda3/lib/python3.9/site-packages/pandas/core/frame.py\u001b[0m in \u001b[0;36m__getitem__\u001b[0;34m(self, key)\u001b[0m\n\u001b[1;32m   3022\u001b[0m             \u001b[0;32mif\u001b[0m \u001b[0mself\u001b[0m\u001b[0;34m.\u001b[0m\u001b[0mcolumns\u001b[0m\u001b[0;34m.\u001b[0m\u001b[0mnlevels\u001b[0m \u001b[0;34m>\u001b[0m \u001b[0;36m1\u001b[0m\u001b[0;34m:\u001b[0m\u001b[0;34m\u001b[0m\u001b[0;34m\u001b[0m\u001b[0m\n\u001b[1;32m   3023\u001b[0m                 \u001b[0;32mreturn\u001b[0m \u001b[0mself\u001b[0m\u001b[0;34m.\u001b[0m\u001b[0m_getitem_multilevel\u001b[0m\u001b[0;34m(\u001b[0m\u001b[0mkey\u001b[0m\u001b[0;34m)\u001b[0m\u001b[0;34m\u001b[0m\u001b[0;34m\u001b[0m\u001b[0m\n\u001b[0;32m-> 3024\u001b[0;31m             \u001b[0mindexer\u001b[0m \u001b[0;34m=\u001b[0m \u001b[0mself\u001b[0m\u001b[0;34m.\u001b[0m\u001b[0mcolumns\u001b[0m\u001b[0;34m.\u001b[0m\u001b[0mget_loc\u001b[0m\u001b[0;34m(\u001b[0m\u001b[0mkey\u001b[0m\u001b[0;34m)\u001b[0m\u001b[0;34m\u001b[0m\u001b[0;34m\u001b[0m\u001b[0m\n\u001b[0m\u001b[1;32m   3025\u001b[0m             \u001b[0;32mif\u001b[0m \u001b[0mis_integer\u001b[0m\u001b[0;34m(\u001b[0m\u001b[0mindexer\u001b[0m\u001b[0;34m)\u001b[0m\u001b[0;34m:\u001b[0m\u001b[0;34m\u001b[0m\u001b[0;34m\u001b[0m\u001b[0m\n\u001b[1;32m   3026\u001b[0m                 \u001b[0mindexer\u001b[0m \u001b[0;34m=\u001b[0m \u001b[0;34m[\u001b[0m\u001b[0mindexer\u001b[0m\u001b[0;34m]\u001b[0m\u001b[0;34m\u001b[0m\u001b[0;34m\u001b[0m\u001b[0m\n",
      "\u001b[0;32m~/opt/anaconda3/lib/python3.9/site-packages/pandas/core/indexes/base.py\u001b[0m in \u001b[0;36mget_loc\u001b[0;34m(self, key, method, tolerance)\u001b[0m\n\u001b[1;32m   3080\u001b[0m                 \u001b[0;32mreturn\u001b[0m \u001b[0mself\u001b[0m\u001b[0;34m.\u001b[0m\u001b[0m_engine\u001b[0m\u001b[0;34m.\u001b[0m\u001b[0mget_loc\u001b[0m\u001b[0;34m(\u001b[0m\u001b[0mcasted_key\u001b[0m\u001b[0;34m)\u001b[0m\u001b[0;34m\u001b[0m\u001b[0;34m\u001b[0m\u001b[0m\n\u001b[1;32m   3081\u001b[0m             \u001b[0;32mexcept\u001b[0m \u001b[0mKeyError\u001b[0m \u001b[0;32mas\u001b[0m \u001b[0merr\u001b[0m\u001b[0;34m:\u001b[0m\u001b[0;34m\u001b[0m\u001b[0;34m\u001b[0m\u001b[0m\n\u001b[0;32m-> 3082\u001b[0;31m                 \u001b[0;32mraise\u001b[0m \u001b[0mKeyError\u001b[0m\u001b[0;34m(\u001b[0m\u001b[0mkey\u001b[0m\u001b[0;34m)\u001b[0m \u001b[0;32mfrom\u001b[0m \u001b[0merr\u001b[0m\u001b[0;34m\u001b[0m\u001b[0;34m\u001b[0m\u001b[0m\n\u001b[0m\u001b[1;32m   3083\u001b[0m \u001b[0;34m\u001b[0m\u001b[0m\n\u001b[1;32m   3084\u001b[0m         \u001b[0;32mif\u001b[0m \u001b[0mtolerance\u001b[0m \u001b[0;32mis\u001b[0m \u001b[0;32mnot\u001b[0m \u001b[0;32mNone\u001b[0m\u001b[0;34m:\u001b[0m\u001b[0;34m\u001b[0m\u001b[0;34m\u001b[0m\u001b[0m\n",
      "\u001b[0;31mKeyError\u001b[0m: 'EXITS'"
     ]
    }
   ],
   "source": [
    "df['EXITS'].max()"
   ]
  },
  {
   "cell_type": "code",
   "execution_count": 136,
   "metadata": {
    "zanadu": {
     "code_type": ""
    }
   },
   "outputs": [
    {
     "data": {
      "text/plain": [
       "Index(['C/A', 'UNIT', 'SCP', 'STATION', 'LINENAME', 'DIVISION', 'DATE', 'TIME',\n",
       "       'DESC', 'ENTRIES',\n",
       "       'EXITS                                                               '],\n",
       "      dtype='object')"
      ]
     },
     "execution_count": 136,
     "metadata": {},
     "output_type": "execute_result"
    }
   ],
   "source": [
    "df.keys()"
   ]
  },
  {
   "cell_type": "code",
   "execution_count": 137,
   "metadata": {
    "zanadu": {
     "code_type": ""
    }
   },
   "outputs": [],
   "source": [
    "df.columns = ['ca', 'unit', 'scp', 'station', 'linename', 'division', 'date','time', 'desc', 'entries','exits']"
   ]
  },
  {
   "cell_type": "code",
   "execution_count": 138,
   "metadata": {
    "zanadu": {
     "code_type": ""
    }
   },
   "outputs": [
    {
     "data": {
      "text/plain": [
       "2062568997"
      ]
     },
     "execution_count": 138,
     "metadata": {},
     "output_type": "execute_result"
    }
   ],
   "source": [
    "df['exits'].max()"
   ]
  },
  {
   "cell_type": "code",
   "execution_count": 139,
   "metadata": {},
   "outputs": [
    {
     "data": {
      "text/html": [
       "<div>\n",
       "<style scoped>\n",
       "    .dataframe tbody tr th:only-of-type {\n",
       "        vertical-align: middle;\n",
       "    }\n",
       "\n",
       "    .dataframe tbody tr th {\n",
       "        vertical-align: top;\n",
       "    }\n",
       "\n",
       "    .dataframe thead th {\n",
       "        text-align: right;\n",
       "    }\n",
       "</style>\n",
       "<table border=\"1\" class=\"dataframe\">\n",
       "  <thead>\n",
       "    <tr style=\"text-align: right;\">\n",
       "      <th></th>\n",
       "      <th>ca</th>\n",
       "      <th>unit</th>\n",
       "      <th>scp</th>\n",
       "      <th>station</th>\n",
       "      <th>linename</th>\n",
       "      <th>division</th>\n",
       "      <th>date</th>\n",
       "      <th>time</th>\n",
       "      <th>desc</th>\n",
       "      <th>entries</th>\n",
       "      <th>exits</th>\n",
       "    </tr>\n",
       "  </thead>\n",
       "  <tbody>\n",
       "    <tr>\n",
       "      <th>0</th>\n",
       "      <td>A002</td>\n",
       "      <td>R051</td>\n",
       "      <td>02-00-00</td>\n",
       "      <td>59 ST</td>\n",
       "      <td>NQR456W</td>\n",
       "      <td>BMT</td>\n",
       "      <td>2018-08-18</td>\n",
       "      <td>00:00:00</td>\n",
       "      <td>REGULAR</td>\n",
       "      <td>6728354</td>\n",
       "      <td>2280604</td>\n",
       "    </tr>\n",
       "    <tr>\n",
       "      <th>1</th>\n",
       "      <td>A002</td>\n",
       "      <td>R051</td>\n",
       "      <td>02-00-00</td>\n",
       "      <td>59 ST</td>\n",
       "      <td>NQR456W</td>\n",
       "      <td>BMT</td>\n",
       "      <td>2018-08-18</td>\n",
       "      <td>04:00:00</td>\n",
       "      <td>REGULAR</td>\n",
       "      <td>6728373</td>\n",
       "      <td>2280609</td>\n",
       "    </tr>\n",
       "    <tr>\n",
       "      <th>2</th>\n",
       "      <td>A002</td>\n",
       "      <td>R051</td>\n",
       "      <td>02-00-00</td>\n",
       "      <td>59 ST</td>\n",
       "      <td>NQR456W</td>\n",
       "      <td>BMT</td>\n",
       "      <td>2018-08-18</td>\n",
       "      <td>08:00:00</td>\n",
       "      <td>REGULAR</td>\n",
       "      <td>6728388</td>\n",
       "      <td>2280634</td>\n",
       "    </tr>\n",
       "    <tr>\n",
       "      <th>3</th>\n",
       "      <td>A002</td>\n",
       "      <td>R051</td>\n",
       "      <td>02-00-00</td>\n",
       "      <td>59 ST</td>\n",
       "      <td>NQR456W</td>\n",
       "      <td>BMT</td>\n",
       "      <td>2018-08-18</td>\n",
       "      <td>12:00:00</td>\n",
       "      <td>REGULAR</td>\n",
       "      <td>6728469</td>\n",
       "      <td>2280669</td>\n",
       "    </tr>\n",
       "    <tr>\n",
       "      <th>4</th>\n",
       "      <td>A002</td>\n",
       "      <td>R051</td>\n",
       "      <td>02-00-00</td>\n",
       "      <td>59 ST</td>\n",
       "      <td>NQR456W</td>\n",
       "      <td>BMT</td>\n",
       "      <td>2018-08-18</td>\n",
       "      <td>16:00:00</td>\n",
       "      <td>REGULAR</td>\n",
       "      <td>6728665</td>\n",
       "      <td>2280681</td>\n",
       "    </tr>\n",
       "  </tbody>\n",
       "</table>\n",
       "</div>"
      ],
      "text/plain": [
       "     ca  unit       scp station linename division       date      time  \\\n",
       "0  A002  R051  02-00-00   59 ST  NQR456W      BMT 2018-08-18  00:00:00   \n",
       "1  A002  R051  02-00-00   59 ST  NQR456W      BMT 2018-08-18  04:00:00   \n",
       "2  A002  R051  02-00-00   59 ST  NQR456W      BMT 2018-08-18  08:00:00   \n",
       "3  A002  R051  02-00-00   59 ST  NQR456W      BMT 2018-08-18  12:00:00   \n",
       "4  A002  R051  02-00-00   59 ST  NQR456W      BMT 2018-08-18  16:00:00   \n",
       "\n",
       "      desc  entries    exits  \n",
       "0  REGULAR  6728354  2280604  \n",
       "1  REGULAR  6728373  2280609  \n",
       "2  REGULAR  6728388  2280634  \n",
       "3  REGULAR  6728469  2280669  \n",
       "4  REGULAR  6728665  2280681  "
      ]
     },
     "execution_count": 139,
     "metadata": {},
     "output_type": "execute_result"
    }
   ],
   "source": [
    "#df[\"date\"] = pd.to_datetime(df[\"date\"] + \" \" + df[\"time\"])\n",
    "df[\"date\"] = pd.to_datetime(df[\"date\"])\n",
    "df.head()"
   ]
  },
  {
   "cell_type": "markdown",
   "metadata": {},
   "source": [
    "### Counting daily traffic using `groupbby`"
   ]
  },
  {
   "cell_type": "code",
   "execution_count": 140,
   "metadata": {},
   "outputs": [
    {
     "name": "stdout",
     "output_type": "stream",
     "text": [
      "Types:  <class 'pandas.core.series.Series'> <class 'pandas.core.series.Series'>\n"
     ]
    }
   ],
   "source": [
    "df_entries = df.groupby(['station','ca','unit','scp','date']).entries.max() - df.groupby(['station','ca','unit','scp','date']).entries.min()\n",
    "df_exits = df.groupby(['station','ca','unit','scp','date']).exits.max() - df.groupby(['station','ca','unit','scp','date']).exits.min()\n",
    "print(\"Types: \", type(df_entries), type(df_exits))"
   ]
  },
  {
   "cell_type": "code",
   "execution_count": 141,
   "metadata": {},
   "outputs": [
    {
     "data": {
      "text/plain": [
       "station    ca    unit  scp       date      \n",
       "1 AV       H007  R248  00-00-00  2018-08-18    1759\n",
       "                                 2018-08-19    1461\n",
       "                                 2018-08-20    2704\n",
       "                                 2018-08-21    3002\n",
       "                                 2018-08-22    3033\n",
       "                                               ... \n",
       "ZEREGA AV  R419  R326  00-05-01  2018-08-20       0\n",
       "                                 2018-08-21       0\n",
       "                                 2018-08-22       0\n",
       "                                 2018-08-23       0\n",
       "                                 2018-08-24       0\n",
       "Name: entries, Length: 32559, dtype: int64"
      ]
     },
     "execution_count": 141,
     "metadata": {},
     "output_type": "execute_result"
    }
   ],
   "source": [
    "df_entries"
   ]
  },
  {
   "cell_type": "markdown",
   "metadata": {},
   "source": [
    "We are now going to merge `df_entries` and `df_exits`. However, they need to have the same index.\n",
    "https://pandas.pydata.org/docs/reference/api/pandas.DataFrame.merge.html"
   ]
  },
  {
   "cell_type": "code",
   "execution_count": 142,
   "metadata": {},
   "outputs": [],
   "source": [
    "df_entries_flat = df_entries.reset_index()\n",
    "df_exits_flat = df_exits.reset_index()\n",
    "\n",
    "df_traffic = pd.merge(df_entries_flat, df_exits_flat, how='outer')\n",
    "\n",
    "df_traffic['day'] = df_traffic['date'].dt.day_name()\n",
    "df_traffic['traffic'] = df_traffic['entries'] + df_traffic['exits']"
   ]
  },
  {
   "cell_type": "code",
   "execution_count": 143,
   "metadata": {},
   "outputs": [
    {
     "data": {
      "text/html": [
       "<div>\n",
       "<style scoped>\n",
       "    .dataframe tbody tr th:only-of-type {\n",
       "        vertical-align: middle;\n",
       "    }\n",
       "\n",
       "    .dataframe tbody tr th {\n",
       "        vertical-align: top;\n",
       "    }\n",
       "\n",
       "    .dataframe thead th {\n",
       "        text-align: right;\n",
       "    }\n",
       "</style>\n",
       "<table border=\"1\" class=\"dataframe\">\n",
       "  <thead>\n",
       "    <tr style=\"text-align: right;\">\n",
       "      <th></th>\n",
       "      <th>station</th>\n",
       "      <th>ca</th>\n",
       "      <th>unit</th>\n",
       "      <th>scp</th>\n",
       "      <th>date</th>\n",
       "      <th>entries</th>\n",
       "      <th>exits</th>\n",
       "      <th>day</th>\n",
       "      <th>traffic</th>\n",
       "    </tr>\n",
       "  </thead>\n",
       "  <tbody>\n",
       "    <tr>\n",
       "      <th>0</th>\n",
       "      <td>1 AV</td>\n",
       "      <td>H007</td>\n",
       "      <td>R248</td>\n",
       "      <td>00-00-00</td>\n",
       "      <td>2018-08-18</td>\n",
       "      <td>1759</td>\n",
       "      <td>2377</td>\n",
       "      <td>Saturday</td>\n",
       "      <td>4136</td>\n",
       "    </tr>\n",
       "    <tr>\n",
       "      <th>1</th>\n",
       "      <td>1 AV</td>\n",
       "      <td>H007</td>\n",
       "      <td>R248</td>\n",
       "      <td>00-00-00</td>\n",
       "      <td>2018-08-19</td>\n",
       "      <td>1461</td>\n",
       "      <td>2074</td>\n",
       "      <td>Sunday</td>\n",
       "      <td>3535</td>\n",
       "    </tr>\n",
       "    <tr>\n",
       "      <th>2</th>\n",
       "      <td>1 AV</td>\n",
       "      <td>H007</td>\n",
       "      <td>R248</td>\n",
       "      <td>00-00-00</td>\n",
       "      <td>2018-08-20</td>\n",
       "      <td>2704</td>\n",
       "      <td>3417</td>\n",
       "      <td>Monday</td>\n",
       "      <td>6121</td>\n",
       "    </tr>\n",
       "    <tr>\n",
       "      <th>3</th>\n",
       "      <td>1 AV</td>\n",
       "      <td>H007</td>\n",
       "      <td>R248</td>\n",
       "      <td>00-00-00</td>\n",
       "      <td>2018-08-21</td>\n",
       "      <td>3002</td>\n",
       "      <td>3488</td>\n",
       "      <td>Tuesday</td>\n",
       "      <td>6490</td>\n",
       "    </tr>\n",
       "    <tr>\n",
       "      <th>4</th>\n",
       "      <td>1 AV</td>\n",
       "      <td>H007</td>\n",
       "      <td>R248</td>\n",
       "      <td>00-00-00</td>\n",
       "      <td>2018-08-22</td>\n",
       "      <td>3033</td>\n",
       "      <td>3451</td>\n",
       "      <td>Wednesday</td>\n",
       "      <td>6484</td>\n",
       "    </tr>\n",
       "  </tbody>\n",
       "</table>\n",
       "</div>"
      ],
      "text/plain": [
       "  station    ca  unit       scp       date  entries  exits        day  traffic\n",
       "0    1 AV  H007  R248  00-00-00 2018-08-18     1759   2377   Saturday     4136\n",
       "1    1 AV  H007  R248  00-00-00 2018-08-19     1461   2074     Sunday     3535\n",
       "2    1 AV  H007  R248  00-00-00 2018-08-20     2704   3417     Monday     6121\n",
       "3    1 AV  H007  R248  00-00-00 2018-08-21     3002   3488    Tuesday     6490\n",
       "4    1 AV  H007  R248  00-00-00 2018-08-22     3033   3451  Wednesday     6484"
      ]
     },
     "execution_count": 143,
     "metadata": {},
     "output_type": "execute_result"
    }
   ],
   "source": [
    "df_traffic.head()"
   ]
  },
  {
   "cell_type": "code",
   "execution_count": 144,
   "metadata": {},
   "outputs": [
    {
     "data": {
      "text/html": [
       "<div>\n",
       "<style scoped>\n",
       "    .dataframe tbody tr th:only-of-type {\n",
       "        vertical-align: middle;\n",
       "    }\n",
       "\n",
       "    .dataframe tbody tr th {\n",
       "        vertical-align: top;\n",
       "    }\n",
       "\n",
       "    .dataframe thead th {\n",
       "        text-align: right;\n",
       "    }\n",
       "</style>\n",
       "<table border=\"1\" class=\"dataframe\">\n",
       "  <thead>\n",
       "    <tr style=\"text-align: right;\">\n",
       "      <th></th>\n",
       "      <th>entries</th>\n",
       "      <th>exits</th>\n",
       "      <th>traffic</th>\n",
       "    </tr>\n",
       "  </thead>\n",
       "  <tbody>\n",
       "    <tr>\n",
       "      <th>count</th>\n",
       "      <td>3.255900e+04</td>\n",
       "      <td>3.255900e+04</td>\n",
       "      <td>3.255900e+04</td>\n",
       "    </tr>\n",
       "    <tr>\n",
       "      <th>mean</th>\n",
       "      <td>5.585258e+04</td>\n",
       "      <td>6.098161e+04</td>\n",
       "      <td>1.168342e+05</td>\n",
       "    </tr>\n",
       "    <tr>\n",
       "      <th>std</th>\n",
       "      <td>8.218440e+06</td>\n",
       "      <td>1.011603e+07</td>\n",
       "      <td>1.828231e+07</td>\n",
       "    </tr>\n",
       "    <tr>\n",
       "      <th>min</th>\n",
       "      <td>0.000000e+00</td>\n",
       "      <td>0.000000e+00</td>\n",
       "      <td>0.000000e+00</td>\n",
       "    </tr>\n",
       "    <tr>\n",
       "      <th>25%</th>\n",
       "      <td>2.170000e+02</td>\n",
       "      <td>1.220000e+02</td>\n",
       "      <td>5.010000e+02</td>\n",
       "    </tr>\n",
       "    <tr>\n",
       "      <th>50%</th>\n",
       "      <td>6.680000e+02</td>\n",
       "      <td>4.150000e+02</td>\n",
       "      <td>1.251000e+03</td>\n",
       "    </tr>\n",
       "    <tr>\n",
       "      <th>75%</th>\n",
       "      <td>1.312000e+03</td>\n",
       "      <td>9.395000e+02</td>\n",
       "      <td>2.286000e+03</td>\n",
       "    </tr>\n",
       "    <tr>\n",
       "      <th>max</th>\n",
       "      <td>1.448534e+09</td>\n",
       "      <td>1.821581e+09</td>\n",
       "      <td>3.270114e+09</td>\n",
       "    </tr>\n",
       "  </tbody>\n",
       "</table>\n",
       "</div>"
      ],
      "text/plain": [
       "            entries         exits       traffic\n",
       "count  3.255900e+04  3.255900e+04  3.255900e+04\n",
       "mean   5.585258e+04  6.098161e+04  1.168342e+05\n",
       "std    8.218440e+06  1.011603e+07  1.828231e+07\n",
       "min    0.000000e+00  0.000000e+00  0.000000e+00\n",
       "25%    2.170000e+02  1.220000e+02  5.010000e+02\n",
       "50%    6.680000e+02  4.150000e+02  1.251000e+03\n",
       "75%    1.312000e+03  9.395000e+02  2.286000e+03\n",
       "max    1.448534e+09  1.821581e+09  3.270114e+09"
      ]
     },
     "execution_count": 144,
     "metadata": {},
     "output_type": "execute_result"
    }
   ],
   "source": [
    "df_traffic.describe()"
   ]
  },
  {
   "cell_type": "code",
   "execution_count": 145,
   "metadata": {},
   "outputs": [
    {
     "data": {
      "image/png": "[encoded data removed]",
      "text/plain": [
       "<Figure size 640x480 with 2 Axes>"
      ]
     },
     "metadata": {},
     "output_type": "display_data"
    }
   ],
   "source": [
    "df_traffic[[\"entries\", \"exits\"]].hist();"
   ]
  },
  {
   "cell_type": "code",
   "execution_count": 146,
   "metadata": {},
   "outputs": [],
   "source": [
    "thresholdMax = 25000\n",
    "df_traffic = df_traffic[df_traffic[\"traffic\"] < thresholdMax]"
   ]
  },
  {
   "cell_type": "code",
   "execution_count": 147,
   "metadata": {},
   "outputs": [
    {
     "data": {
      "image/png": "[encoded data removed]",
      "text/plain": [
       "<Figure size 640x480 with 4 Axes>"
      ]
     },
     "metadata": {},
     "output_type": "display_data"
    }
   ],
   "source": [
    "df_traffic[[\"entries\", \"exits\", \"traffic\"]].hist();"
   ]
  },
  {
   "cell_type": "markdown",
   "metadata": {},
   "source": [
    "Final steps"
   ]
  },
  {
   "cell_type": "code",
   "execution_count": 148,
   "metadata": {},
   "outputs": [
    {
     "data": {
      "text/html": [
       "<div>\n",
       "<style scoped>\n",
       "    .dataframe tbody tr th:only-of-type {\n",
       "        vertical-align: middle;\n",
       "    }\n",
       "\n",
       "    .dataframe tbody tr th {\n",
       "        vertical-align: top;\n",
       "    }\n",
       "\n",
       "    .dataframe thead th {\n",
       "        text-align: right;\n",
       "    }\n",
       "</style>\n",
       "<table border=\"1\" class=\"dataframe\">\n",
       "  <thead>\n",
       "    <tr style=\"text-align: right;\">\n",
       "      <th></th>\n",
       "      <th>station</th>\n",
       "      <th>date</th>\n",
       "      <th>day</th>\n",
       "      <th>entries</th>\n",
       "      <th>exits</th>\n",
       "      <th>traffic</th>\n",
       "    </tr>\n",
       "  </thead>\n",
       "  <tbody>\n",
       "    <tr>\n",
       "      <th>0</th>\n",
       "      <td>1 AV</td>\n",
       "      <td>2018-08-18</td>\n",
       "      <td>Saturday</td>\n",
       "      <td>10105</td>\n",
       "      <td>11904</td>\n",
       "      <td>22009</td>\n",
       "    </tr>\n",
       "    <tr>\n",
       "      <th>1</th>\n",
       "      <td>1 AV</td>\n",
       "      <td>2018-08-19</td>\n",
       "      <td>Sunday</td>\n",
       "      <td>8349</td>\n",
       "      <td>10070</td>\n",
       "      <td>18419</td>\n",
       "    </tr>\n",
       "    <tr>\n",
       "      <th>2</th>\n",
       "      <td>1 AV</td>\n",
       "      <td>2018-08-20</td>\n",
       "      <td>Monday</td>\n",
       "      <td>14392</td>\n",
       "      <td>16478</td>\n",
       "      <td>30870</td>\n",
       "    </tr>\n",
       "    <tr>\n",
       "      <th>3</th>\n",
       "      <td>1 AV</td>\n",
       "      <td>2018-08-21</td>\n",
       "      <td>Tuesday</td>\n",
       "      <td>15023</td>\n",
       "      <td>16567</td>\n",
       "      <td>31590</td>\n",
       "    </tr>\n",
       "    <tr>\n",
       "      <th>4</th>\n",
       "      <td>1 AV</td>\n",
       "      <td>2018-08-22</td>\n",
       "      <td>Wednesday</td>\n",
       "      <td>15377</td>\n",
       "      <td>17217</td>\n",
       "      <td>32594</td>\n",
       "    </tr>\n",
       "  </tbody>\n",
       "</table>\n",
       "</div>"
      ],
      "text/plain": [
       "  station       date        day  entries  exits  traffic\n",
       "0    1 AV 2018-08-18   Saturday    10105  11904    22009\n",
       "1    1 AV 2018-08-19     Sunday     8349  10070    18419\n",
       "2    1 AV 2018-08-20     Monday    14392  16478    30870\n",
       "3    1 AV 2018-08-21    Tuesday    15023  16567    31590\n",
       "4    1 AV 2018-08-22  Wednesday    15377  17217    32594"
      ]
     },
     "execution_count": 148,
     "metadata": {},
     "output_type": "execute_result"
    }
   ],
   "source": [
    "df_station = df_traffic.groupby(['station','date','day']).sum().reset_index()\n",
    "df_station.head()"
   ]
  },
  {
   "cell_type": "markdown",
   "metadata": {},
   "source": [
    "### What happens at a specific station?"
   ]
  },
  {
   "cell_type": "code",
   "execution_count": 149,
   "metadata": {},
   "outputs": [
    {
     "data": {
      "text/plain": [
       "array(['1 AV', '103 ST', '103 ST-CORONA', '104 ST', '110 ST', '111 ST',\n",
       "       '116 ST', '116 ST-COLUMBIA', '121 ST', '125 ST', '135 ST',\n",
       "       '137 ST CITY COL', '138/GRAND CONC', '14 ST', '14 ST-UNION SQ',\n",
       "       '145 ST', '149/GRAND CONC', '14TH STREET', '15 ST-PROSPECT',\n",
       "       '155 ST', '157 ST', '161/YANKEE STAD', '167 ST', '168 ST',\n",
       "       '169 ST', '170 ST', '174 ST', '175 ST', '176 ST', '18 AV', '18 ST',\n",
       "       '181 ST', '182-183 STS', '183 ST', '190 ST', '191 ST', '2 AV',\n",
       "       '20 AV', '207 ST', '21 ST', '21 ST-QNSBRIDGE', '215 ST', '219 ST',\n",
       "       '225 ST', '23 ST', '231 ST', '233 ST', '238 ST', '25 AV', '25 ST',\n",
       "       '28 ST', '3 AV', '3 AV 138 ST', '3 AV-149 ST', '30 AV', '33 ST',\n",
       "       '33 ST-RAWSON ST', '34 ST-HERALD SQ', '34 ST-HUDSON YD',\n",
       "       '34 ST-PENN STA', '36 AV', '36 ST', '4 AV-9 ST', '40 ST LOWERY ST',\n",
       "       '42 ST-BRYANT PK', '42 ST-PORT AUTH', '45 ST', '46 ST',\n",
       "       '46 ST BLISS ST', '47-50 STS ROCK', '49 ST', '4AV-9 ST',\n",
       "       '5 AV/53 ST', '5 AV/59 ST', '5 AVE', '50 ST', '51 ST', '52 ST',\n",
       "       '53 ST', '55 ST', '57 ST-7 AV', '59 ST', '59 ST COLUMBUS', '6 AV',\n",
       "       '61 ST WOODSIDE', '63 DR-REGO PARK', '65 ST', '66 ST-LINCOLN',\n",
       "       '67 AV', '68ST-HUNTER CO', '69 ST', '7 AV', '71 ST', '72 ST',\n",
       "       '72 ST-2 AVE', '74 ST-BROADWAY', '75 AV', '75 ST-ELDERTS', '77 ST',\n",
       "       '79 ST', '8 AV', '8 ST-NYU', '80 ST', '81 ST-MUSEUM',\n",
       "       '82 ST-JACKSON H', '85 ST-FOREST PK', '86 ST', '86 ST-2 AVE',\n",
       "       '88 ST', '9 AV', '90 ST-ELMHURST', '96 ST', '96 ST-2 AVE',\n",
       "       '9TH STREET', 'ALABAMA AV', 'ALLERTON AV', 'AQUEDUCT N.COND',\n",
       "       'AQUEDUCT RACETR', 'ASTOR PL', 'ASTORIA BLVD', 'ASTORIA DITMARS',\n",
       "       'ATL AV-BARCLAY', 'ATLANTIC AV', 'AVENUE H', 'AVENUE I',\n",
       "       'AVENUE J', 'AVENUE M', 'AVENUE N', 'AVENUE P', 'AVENUE U',\n",
       "       'AVENUE X', \"B'WAY-LAFAYETTE\", 'BAY 50 ST', 'BAY PKWY',\n",
       "       'BAY RIDGE AV', 'BAY RIDGE-95 ST', 'BAYCHESTER AV', 'BEACH 105 ST',\n",
       "       'BEACH 25 ST', 'BEACH 36 ST', 'BEACH 44 ST', 'BEACH 60 ST',\n",
       "       'BEACH 67 ST', 'BEACH 90 ST', 'BEACH 98 ST', 'BEDFORD AV',\n",
       "       'BEDFORD PK BLVD', 'BEDFORD-NOSTRAN', 'BERGEN ST', 'BEVERLEY ROAD',\n",
       "       'BEVERLY RD', 'BLEECKER ST', 'BOROUGH HALL', 'BOTANIC GARDEN',\n",
       "       'BOWERY', 'BOWLING GREEN', 'BRIARWOOD', 'BRIGHTON BEACH',\n",
       "       'BROAD CHANNEL', 'BROAD ST', 'BROADWAY', 'BROADWAY JCT',\n",
       "       'BRONX PARK EAST', 'BROOK AV', 'BROOKLYN BRIDGE', 'BUHRE AV',\n",
       "       'BURKE AV', 'BURNSIDE AV', 'BUSHWICK AV', 'CANAL ST',\n",
       "       'CANARSIE-ROCKAW', 'CARROLL ST', 'CASTLE HILL AV',\n",
       "       'CATHEDRAL PKWY', 'CENTRAL AV', 'CENTRAL PK N110', 'CHAMBERS ST',\n",
       "       'CHAUNCEY ST', 'CHRISTOPHER ST', 'CHURCH AV', 'CITY / BUS',\n",
       "       'CITY HALL', 'CLARK ST', 'CLASSON AV', 'CLEVELAND ST',\n",
       "       'CLINTON-WASH AV', 'CONEY IS-STILLW', 'CORTELYOU RD',\n",
       "       'CORTLANDT ST', 'COURT SQ', 'COURT SQ-23 ST', 'CRESCENT ST',\n",
       "       'CROWN HTS-UTICA', 'CYPRESS AV', 'CYPRESS HILLS', 'DEKALB AV',\n",
       "       'DELANCEY/ESSEX', 'DITMAS AV', 'DYCKMAN ST', \"E 143/ST MARY'S\",\n",
       "       'E 149 ST', 'E 180 ST', 'EAST 105 ST', 'EAST BROADWAY',\n",
       "       'EASTCHSTER/DYRE', 'EASTN PKWY-MUSM', 'ELDER AV', 'ELMHURST AV',\n",
       "       'EUCLID AV', 'EXCHANGE PLACE', 'FAR ROCKAWAY', 'FLATBUSH AV-B.C',\n",
       "       'FLUSHING AV', 'FLUSHING-MAIN', 'FORDHAM RD', 'FOREST AVE',\n",
       "       'FOREST HILLS 71', 'FRANKLIN AV', 'FRANKLIN ST', 'FREEMAN ST',\n",
       "       'FRESH POND RD', 'FT HAMILTON PKY', 'FULTON ST', 'GATES AV',\n",
       "       'GRAHAM AV', 'GRAND ARMY PLAZ', 'GRAND ST', 'GRAND-NEWTOWN',\n",
       "       'GRANT AV', 'GRD CNTRL-42 ST', 'GREENPOINT AV', 'GROVE STREET',\n",
       "       'GUN HILL RD', 'HALSEY ST', 'HARLEM 148 ST', 'HARRISON',\n",
       "       'HEWES ST', 'HIGH ST', 'HOUSTON ST', 'HOWARD BCH JFK', 'HOYT ST',\n",
       "       'HOYT-SCHER', 'HUNTERS PT AV', 'HUNTS POINT AV', 'INTERVALE AV',\n",
       "       'INWOOD-207 ST', 'JACKSON AV', 'JAMAICA 179 ST', 'JAMAICA CENTER',\n",
       "       'JAMAICA VAN WK', 'JAY ST-METROTEC', 'JEFFERSON ST',\n",
       "       'JFK JAMAICA CT1', 'JKSN HT-ROOSVLT', 'JOURNAL SQUARE',\n",
       "       'JUNCTION BLVD', 'JUNIUS ST', 'KEW GARDENS', 'KINGS HWY',\n",
       "       'KINGSBRIDGE RD', 'KINGSTON AV', 'KINGSTON-THROOP',\n",
       "       'KNICKERBOCKER', 'KOSCIUSZKO ST', 'LACKAWANNA', 'LAFAYETTE AV',\n",
       "       'LEXINGTON AV/53', 'LEXINGTON AV/63', 'LIBERTY AV', 'LIVONIA AV',\n",
       "       'LONGWOOD AV', 'LORIMER ST', 'MARBLE HILL-225', 'MARCY AV',\n",
       "       'METROPOLITAN AV', 'METS-WILLETS PT', 'MIDDLETOWN RD',\n",
       "       'MONTROSE AV', 'MORGAN AV', 'MORISN AV/SNDVW', 'MORRIS PARK',\n",
       "       'MOSHOLU PKWY', 'MT EDEN AV', 'MYRTLE AV', 'MYRTLE-WILLOUGH',\n",
       "       'MYRTLE-WYCKOFF', 'NASSAU AV', 'NECK RD', 'NEPTUNE AV',\n",
       "       'NEREID AV', 'NEVINS ST', 'NEW LOTS', 'NEW LOTS AV',\n",
       "       'NEW UTRECHT AV', 'NEWARK BM BW', 'NEWARK C', 'NEWARK HM HE',\n",
       "       'NEWARK HW BMEBE', 'NEWKIRK AV', 'NEWKIRK PLAZA', 'NORTHERN BLVD',\n",
       "       'NORWOOD 205 ST', 'NORWOOD AV', 'NOSTRAND AV', 'OCEAN PKWY',\n",
       "       'ORCHARD BEACH', 'OZONE PK LEFFRT', 'PARK PLACE', 'PARKCHESTER',\n",
       "       'PARKSIDE AV', 'PARSONS BLVD', 'PATH NEW WTC', 'PATH WTC 2',\n",
       "       'PAVONIA/NEWPORT', 'PELHAM BAY PARK', 'PELHAM PKWY',\n",
       "       'PENNSYLVANIA AV', 'PRESIDENT ST', 'PRINCE ST', 'PROSPECT AV',\n",
       "       'PROSPECT PARK', 'QUEENS PLAZA', 'QUEENSBORO PLZ', 'RALPH AV',\n",
       "       'RECTOR ST', 'RIT-ROOSEVELT', 'ROCKAWAY AV', 'ROCKAWAY BLVD',\n",
       "       'ROCKAWAY PARK B', 'ROOSEVELT ISLND', 'SARATOGA AV', 'SENECA AVE',\n",
       "       'SHEEPSHEAD BAY', 'SHEPHERD AV', 'SIMPSON ST', 'SMITH-9 ST',\n",
       "       'SOUTH FERRY', 'SPRING ST', 'ST LAWRENCE AV', 'ST. GEORGE',\n",
       "       'STEINWAY ST', 'STERLING ST', 'SUTPHIN BLVD', 'SUTPHIN-ARCHER',\n",
       "       'SUTTER AV', 'SUTTER AV-RUTLD', 'THIRTY ST', 'THIRTY THIRD ST',\n",
       "       'TIMES SQ-42 ST', 'TOMPKINSVILLE', 'TREMONT AV', 'TWENTY THIRD ST',\n",
       "       'UNION ST', 'UTICA AV', 'V.CORTLANDT PK', 'VAN SICLEN AV',\n",
       "       'VAN SICLEN AVE', 'VERNON-JACKSON', 'W 4 ST-WASH SQ',\n",
       "       'W 8 ST-AQUARIUM', 'WAKEFIELD/241', 'WALL ST', 'WEST FARMS SQ',\n",
       "       'WESTCHESTER SQ', 'WHITEHALL S-FRY', 'WHITLOCK AV', 'WILSON AV',\n",
       "       'WINTHROP ST', 'WOODHAVEN BLVD', 'WOODLAWN', 'WORLD TRADE CTR',\n",
       "       'YORK ST', 'ZEREGA AV'], dtype=object)"
      ]
     },
     "execution_count": 149,
     "metadata": {},
     "output_type": "execute_result"
    }
   ],
   "source": [
    "df_station[\"station\"].unique()"
   ]
  },
  {
   "cell_type": "code",
   "execution_count": 150,
   "metadata": {},
   "outputs": [
    {
     "data": {
      "image/png": "[encoded data removed]",
      "text/plain": [
       "<Figure size 640x480 with 1 Axes>"
      ]
     },
     "metadata": {},
     "output_type": "display_data"
    }
   ],
   "source": [
    "df_Test = df_station[df_station[\"station\"] == \"42 ST-PORT AUTH\"]\n",
    "df_Test\n",
    "df_Test.plot.bar(x=\"day\", y=\"traffic\");"
   ]
  },
  {
   "cell_type": "markdown",
   "metadata": {},
   "source": [
    "### Exercise\n",
    "\n",
    "- What are the 3 busiest stations on average?\n",
    "- What is the traffic distribution over the week?\n",
    "- What are the busiest stations on weekends and on weekdays?"
   ]
  },
  {
   "cell_type": "code",
   "execution_count": null,
   "metadata": {},
   "outputs": [],
   "source": []
  },
  {
   "cell_type": "markdown",
   "metadata": {},
   "source": [
    "### Exercise\n",
    "\n",
    "Write a script that imports each weekly file http://web.mta.info/developers/turnstile.html and merges them."
   ]
  },
  {
   "cell_type": "markdown",
   "metadata": {},
   "source": [
    "# Common issues"
   ]
  },
  {
   "cell_type": "code",
   "execution_count": null,
   "metadata": {},
   "outputs": [],
   "source": [
    "xx = [2, 4, 6, '8']\n",
    "df = pd.DataFrame(xx)\n",
    "df.columns = [\"X\"]\n",
    "df.head()"
   ]
  },
  {
   "cell_type": "code",
   "execution_count": null,
   "metadata": {},
   "outputs": [],
   "source": [
    "df[\"Mult\"] = 2.*df[\"X\"]"
   ]
  },
  {
   "cell_type": "code",
   "execution_count": null,
   "metadata": {},
   "outputs": [],
   "source": [
    "df.info()"
   ]
  },
  {
   "cell_type": "code",
   "execution_count": null,
   "metadata": {},
   "outputs": [],
   "source": [
    "df['X'] = pd.to_numeric(df['X'])\n",
    "df[\"Mult\"] = 2.*df[\"X\"]"
   ]
  },
  {
   "cell_type": "code",
   "execution_count": null,
   "metadata": {},
   "outputs": [],
   "source": [
    "df.info()"
   ]
  },
  {
   "cell_type": "code",
   "execution_count": null,
   "metadata": {},
   "outputs": [],
   "source": [
    "df.head()"
   ]
  },
  {
   "cell_type": "markdown",
   "metadata": {},
   "source": [
    "### Working with copies"
   ]
  },
  {
   "cell_type": "code",
   "execution_count": null,
   "metadata": {},
   "outputs": [],
   "source": [
    "N = 5\n",
    "xx = np.random.standard_normal((N, 5))\n",
    "df = pd.DataFrame(xx)\n",
    "df2 = df ### same as df.copy(deep=False)\n",
    "df3 = df.copy(deep=True)"
   ]
  },
  {
   "cell_type": "code",
   "execution_count": null,
   "metadata": {},
   "outputs": [],
   "source": [
    "i,j = 0,1\n",
    "df.iat[i,j] = 2.\n",
    "print(df.iat[i,j], df2.iat[i,j])"
   ]
  },
  {
   "cell_type": "markdown",
   "metadata": {},
   "source": [
    "# Extra: Combining DataFrames and creating signals"
   ]
  },
  {
   "cell_type": "code",
   "execution_count": null,
   "metadata": {
    "tags": []
   },
   "outputs": [],
   "source": [
    "aapl = pd.read_csv(\"data/apple.csv\")\n",
    "amzn = pd.read_csv(\"data/AMZN.csv\")"
   ]
  },
  {
   "cell_type": "code",
   "execution_count": null,
   "metadata": {
    "tags": []
   },
   "outputs": [],
   "source": [
    "aapl.index = aapl[\"Date\"]\n",
    "del aapl[\"Date\"]\n",
    "aapl.tail()"
   ]
  },
  {
   "cell_type": "code",
   "execution_count": null,
   "metadata": {
    "tags": []
   },
   "outputs": [],
   "source": [
    "amzn.index = amzn[\"Date\"]\n",
    "del amzn[\"Date\"]\n",
    "amzn.tail()"
   ]
  },
  {
   "cell_type": "code",
   "execution_count": null,
   "metadata": {
    "tags": []
   },
   "outputs": [],
   "source": [
    "df = pd.merge(amzn, aapl, on=\"Date\")\n",
    "df.tail()"
   ]
  },
  {
   "cell_type": "code",
   "execution_count": null,
   "metadata": {
    "tags": []
   },
   "outputs": [],
   "source": [
    "df = pd.merge(amzn[\"Close\"], aapl[\"Close\"], on=\"Date\")\n",
    "df.columns = [\"amzn\", \"aapl\"]\n",
    "df.head()"
   ]
  },
  {
   "cell_type": "code",
   "execution_count": null,
   "metadata": {
    "tags": []
   },
   "outputs": [],
   "source": [
    "df.plot();"
   ]
  },
  {
   "cell_type": "markdown",
   "metadata": {},
   "source": [
    "#### Normalised versions..."
   ]
  },
  {
   "cell_type": "code",
   "execution_count": null,
   "metadata": {
    "tags": []
   },
   "outputs": [],
   "source": [
    "aapl0 = aapl.iloc[0,0]\n",
    "amzn0 = amzn.iloc[0,0]\n",
    "\n",
    "amzn_norm = amzn / amzn0\n",
    "aapl_norm = aapl / aapl0\n",
    "df_norm = pd.merge(amzn_norm[\"Close\"], aapl_norm[\"Close\"], on=\"Date\")\n",
    "df_norm.columns = [\"amzn norm\", \"aapl norm\"]\n",
    "df_norm.plot();"
   ]
  },
  {
   "cell_type": "code",
   "execution_count": null,
   "metadata": {
    "tags": []
   },
   "outputs": [],
   "source": [
    "amzn[\"Returns\"] = np.log(amzn['Close'] / amzn['Close'].shift(1))\n",
    "amzn['MovingVol'] = amzn['Returns'].rolling(window=252).std() * np.sqrt(252.)\n",
    "amzn = amzn[[\"Close\", \"Returns\", \"MovingVol\"]]\n",
    "amzn = amzn.dropna()\n",
    "amzn[\"MovingVol\"].plot(title=\"Moving vol\");"
   ]
  },
  {
   "cell_type": "code",
   "execution_count": null,
   "metadata": {
    "tags": []
   },
   "outputs": [],
   "source": [
    "maxVolAllowed = 0.3\n",
    "amzn.loc[amzn['MovingVol'] > maxVolAllowed, 'Signal'] = 0.6#coke[\"MovingVol\"].max()\n",
    "amzn[[\"Signal\", \"MovingVol\"]].plot().legend(loc=3);"
   ]
  },
  {
   "cell_type": "markdown",
   "metadata": {},
   "source": [
    "# WARNINGS: Data inconsistencies\n",
    "\n",
    "- Missing data\n",
    "- NaN, -1, ...\n",
    "- Date format\n",
    "- Blank spaces\n",
    "- Formats: Int, float, ..."
   ]
  },
  {
   "cell_type": "code",
   "execution_count": null,
   "metadata": {},
   "outputs": [],
   "source": []
  },
  {
   "cell_type": "code",
   "execution_count": null,
   "metadata": {},
   "outputs": [],
   "source": []
  },
  {
   "cell_type": "code",
   "execution_count": null,
   "metadata": {},
   "outputs": [],
   "source": []
  }
 ],
 "metadata": {
  "kernelspec": {
   "display_name": "Python 3 (ipykernel)",
   "language": "python",
   "name": "python3"
  },
  "language_info": {
   "codemirror_mode": {
    "name": "ipython",
    "version": 3
   },
   "file_extension": ".py",
   "mimetype": "text/x-python",
   "name": "python",
   "nbconvert_exporter": "python",
   "pygments_lexer": "ipython3",
   "version": "3.9.13"
  },
  "zanadu": {
   "authors": [
    "Antoine Jacquier"
   ],
   "bibliography_data": {},
   "category": "1",
   "clearance": "Internal",
   "group_name": "ImperialMScMathFin",
   "md5": "eb94a4591792ac518e74718f24d3518b",
   "notebook_id": "447AA43B-C491-485B-A1CD-F530C9FFB8B8",
   "python_name": null,
   "reviewer_id": "B81D4EC4-269D-42B3-9975-85BC42EE5712",
   "status": "Approved"
  }
 },
 "nbformat": 4,
 "nbformat_minor": 4
}
