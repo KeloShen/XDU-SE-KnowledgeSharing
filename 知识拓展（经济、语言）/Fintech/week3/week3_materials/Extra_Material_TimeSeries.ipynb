{
 "cells": [
  {
   "cell_type": "markdown",
   "id": "8bdbc9f5-58df-45f9-81b2-145246256081",
   "metadata": {},
   "source": [
    "# **Working with time series**\n",
    "---\n",
    " \n",
    " \n",
    "- Copyright (c) Lukas Gonon, 2024. All rights reserved\n",
    "\n",
    "- Author: Lukas Gonon <l.gonon@imperial.ac.uk>\n",
    "\n",
    "- Platform: Tested on Windows 10 with Python 3.9"
   ]
  },
  {
   "cell_type": "markdown",
   "id": "68c76d83-a7e0-4bc6-99fa-7b933946d7fb",
   "metadata": {},
   "source": [
    "**Time series:**\n",
    "\n",
    "- any set of data indexed by time (stock price, number of sales, running activity/fitness,....)\n",
    "- frequency varies (month by month for macroeconomics down to milliseconds for high frequency)"
   ]
  },
  {
   "cell_type": "markdown",
   "id": "a6efa370-f577-4451-b635-814edd23dedb",
   "metadata": {},
   "source": [
    "Importing the library `pandas` for data analysis"
   ]
  },
  {
   "cell_type": "code",
   "execution_count": null,
   "id": "65a9f6a9-94d5-4527-80e0-0cc63b3bd03a",
   "metadata": {
    "tags": []
   },
   "outputs": [],
   "source": [
    "import numpy as np\n",
    "import pandas as pd"
   ]
  },
  {
   "cell_type": "code",
   "execution_count": null,
   "id": "94e855d5-b9f7-4939-9b1f-c3c2e14f36de",
   "metadata": {
    "tags": []
   },
   "outputs": [],
   "source": [
    "## We consider the US air passenger data, publicly available at https://www.kaggle.com/chirag19/air-passengers\n",
    "\n",
    "df = pd.read_csv(\"data/AirPassengers.csv\")\n",
    "df.head()"
   ]
  },
  {
   "cell_type": "code",
   "execution_count": null,
   "id": "7199f000-3f86-4bd0-9b94-016a0716c4b1",
   "metadata": {
    "tags": []
   },
   "outputs": [],
   "source": [
    "df['Month'] = pd.to_datetime(df['Month'], format='%Y-%m')\n",
    "df.index = df['Month']"
   ]
  },
  {
   "cell_type": "code",
   "execution_count": null,
   "id": "99c15d97-20c3-4bf7-83be-1312c8abb885",
   "metadata": {
    "tags": []
   },
   "outputs": [],
   "source": [
    "df.index.names = ['Date']\n",
    "del df['Month']\n",
    "df.head()"
   ]
  },
  {
   "cell_type": "code",
   "execution_count": null,
   "id": "6b61adf8-1e8c-4c75-99ff-a808b4a9f1a6",
   "metadata": {
    "tags": []
   },
   "outputs": [],
   "source": [
    "import matplotlib.pyplot as plt\n",
    "\n",
    "plt.plot(df)\n",
    "plt.title(\"Number of Passengers\")\n",
    "plt.show()"
   ]
  },
  {
   "cell_type": "markdown",
   "id": "cfedb35f-791b-42e8-9911-1be10517a956",
   "metadata": {},
   "source": [
    "## Stationarity?\n",
    "\n",
    "Stationarity of a time series refers to the potential fact that some patters repeat themselves over time.\n",
    "\n",
    "*Can you think of some examples of time repetitive patters?*"
   ]
  },
  {
   "cell_type": "code",
   "execution_count": null,
   "id": "6a5bdec6-e219-4c5b-ba63-c781c1d42681",
   "metadata": {},
   "outputs": [],
   "source": [
    "rolling_period = 7 ## (in days)\n",
    "\n",
    "rolling_mean = df.rolling(rolling_period).mean()\n",
    "rolling_std = df.rolling(rolling_period).std()\n",
    "\n",
    "plt.plot(df, color=\"blue\",label=\"Original Passenger Data\")\n",
    "\n",
    "plt.plot(rolling_mean, color=\"red\", label=\"Rolling Mean Passenger Number\")\n",
    "\n",
    "plt.plot(rolling_std, color=\"black\", label = \"Rolling Standard Deviation in Passenger Number\")\n",
    "\n",
    "plt.title(\"Passenger Time Series, Rolling Mean, Standard Deviation\")\n",
    "\n",
    "plt.legend(loc=\"best\")\n",
    "plt.show()"
   ]
  },
  {
   "cell_type": "markdown",
   "id": "df0e6657-f892-47e1-91ba-d504df8a645f",
   "metadata": {},
   "source": [
    "**Question:** does the data look stationary?"
   ]
  },
  {
   "cell_type": "markdown",
   "id": "1c7d837b-e71f-4d99-be3d-c0e1bc1681b7",
   "metadata": {},
   "source": [
    "The Dickey-Fuller test is a statistical test taking non-stationarity as null hypothesis"
   ]
  },
  {
   "cell_type": "code",
   "execution_count": null,
   "id": "325bac76",
   "metadata": {},
   "outputs": [],
   "source": [
    "#pip install statsmodels"
   ]
  },
  {
   "cell_type": "code",
   "execution_count": null,
   "id": "990d5d6c-d9f8-4f03-9779-b400893d7c20",
   "metadata": {
    "tags": []
   },
   "outputs": [],
   "source": [
    "from statsmodels.tsa.stattools import adfuller\n",
    "\n",
    "test_df = adfuller(df, autolag=\"AIC\")\n",
    "\n",
    "\n",
    "test_df_output = pd.DataFrame({\"Values\":[test_df[0],test_df[1],test_df[2],test_df[3], test_df[4]['1%'], test_df[4]['5%'], test_df[4]['10%']], \n",
    "                               \"Metric\":[\"Test Statistics\",\"p-value\",\"No. of lags used\",\"Number of observations used\", \n",
    "                                         \"critical value (1%)\", \"critical value (5%)\", \"critical value (10%)\"]})\n",
    "\n",
    "\n",
    "print(test_df_output)"
   ]
  },
  {
   "cell_type": "markdown",
   "id": "9401e64e-69fd-4d5b-a696-1f401ffdda75",
   "metadata": {},
   "source": [
    "## Autocorrelation\n",
    "\n",
    "Given a time series $(X_t)$, the autocovariance function, describing the linear dependence between data points, is given by\n",
    "$$\n",
    "\\gamma(s,t) := \\mathrm{cov}(X_s,X_t) = \\mathbb{E}\\Big[(X_s - \\mu_s)(X_t-\\mu_t)\\Big],\n",
    "$$\n",
    "where $\\mu_t := \\mathbb{E}[X_t]$,\n",
    "and the autocorrelation function is defined as\n",
    "$$\n",
    "\\rho(s,t) := \\frac{\\gamma(s,t)}{\\sqrt{\\gamma(s,s)\\gamma(t,t)}} \\in [-1,1].\n",
    "$$\n",
    "\n",
    "*Note*: \n",
    "If the series is weakly stationary in the sense that:\n",
    "- $\\mathbb{E}[X_t]$ is constant,\n",
    "- $\\mathbb{V}[X_t]$ is finite,\n",
    "- $\\gamma(s,t) = \\gamma(s+h,t+h)$,\n",
    "then\n",
    "$\\gamma(t, t+h) = \\gamma(0,h) =:\\overline{\\gamma}(h)$ and \n",
    "$$\n",
    "\\rho(t,t+h) = \\frac{\\widetilde{\\gamma}(h)}{\\sqrt{\\gamma(0,0)\\gamma(0,0)}} = \\frac{\\widetilde{\\gamma}(h)}{\\widetilde{\\gamma(0)}} =: \\widetilde{\\rho}(h).\n",
    "$$\n"
   ]
  },
  {
   "cell_type": "code",
   "execution_count": null,
   "id": "582b168f-ab95-48af-ba42-ca2aeb63a3b9",
   "metadata": {
    "tags": []
   },
   "outputs": [],
   "source": [
    "lags = [1, 3, 5, 7, 9]\n",
    "\n",
    "for l in lags:\n",
    "    print(\"Lag (in months): \", l, \"|| value: \", df['#Passengers'].autocorr(lag=l))\n",
    "    \n",
    "    \n",
    "longlags = np.arange(1, 50)\n",
    "autocorrels = [df['#Passengers'].autocorr(lag=l) for l in longlags]\n",
    "\n",
    "plt.plot(longlags, autocorrels, 'b')\n",
    "plt.title(\"Autocorrelation\")\n",
    "plt.show()"
   ]
  },
  {
   "cell_type": "markdown",
   "id": "176f994f-003b-4c85-8f87-b69be4f7313a",
   "metadata": {},
   "source": [
    "## Decomposition\n",
    "\n",
    "**Question:** Does the data evolve additively or multiplicatively over time?\n",
    "\n",
    "- Additive evolution: \n",
    "$$\n",
    "X_{t+1} = \\textrm{Base} + \\textrm{Trend}_{t} + \\textrm{Seasonality}_{t} + \\varepsilon_{t}\n",
    "$$\n",
    "\n",
    "- Multiplicative evolution\n",
    "$$\n",
    "X_{t+1} = \\textrm{Base} * \\textrm{Trend}_{t} * \\textrm{Seasonality}_{t} * \\varepsilon_{t}\n",
    "$$\n",
    "\n",
    "Here $(\\varepsilon_t)_{t}$ is a *white noise*, namely a sequence of uncorrelated random variable with mean zero and finite variance (standard example is Gaussian white noise)."
   ]
  },
  {
   "cell_type": "code",
   "execution_count": null,
   "id": "100f45fc-d51b-4f74-9215-0198092e22d3",
   "metadata": {
    "tags": []
   },
   "outputs": [],
   "source": [
    "from statsmodels.tsa.seasonal import seasonal_decompose"
   ]
  },
  {
   "cell_type": "markdown",
   "id": "0d0023ef-8f64-4c88-84bd-6c9cb175cb9a",
   "metadata": {},
   "source": [
    "### Additive decomposition"
   ]
  },
  {
   "cell_type": "code",
   "execution_count": null,
   "id": "0f930fe4-f582-4eeb-97d3-669ac5194147",
   "metadata": {
    "tags": []
   },
   "outputs": [],
   "source": [
    "seasonal_decompose(df['#Passengers'], model='additive', period=7).plot()\n",
    "plt.title(\"Additive decomposition\")\n",
    "plt.show()"
   ]
  },
  {
   "cell_type": "markdown",
   "id": "41e0cb1b-7b03-4480-8566-511b7e69acc5",
   "metadata": {},
   "source": [
    "### Multiplicative decomposition"
   ]
  },
  {
   "cell_type": "code",
   "execution_count": null,
   "id": "5abfb20c-7ade-42a4-a0d0-4e0fb805f702",
   "metadata": {
    "tags": []
   },
   "outputs": [],
   "source": [
    "seasonal_decompose(df['#Passengers'], model='multiplicative', period=7).plot()\n",
    "plt.title(\"Multiplicative decomposition\")\n",
    "plt.show()"
   ]
  },
  {
   "cell_type": "markdown",
   "id": "f7d51fb7-316c-4a8d-aa7c-ffdb3cc28850",
   "metadata": {},
   "source": [
    "**Question:** What do you think?"
   ]
  },
  {
   "cell_type": "markdown",
   "id": "0a12d832-587c-4875-a9fd-c22c3f4e32e3",
   "metadata": {},
   "source": [
    "## Forecasting\n",
    "\n",
    "**Question:** Given an observed time series (in the past), can we predict (at least part of) the future?\n",
    "\n",
    "*Method:* We set a date to split the data into a training set and a test set"
   ]
  },
  {
   "cell_type": "code",
   "execution_count": null,
   "id": "5382b765-d93d-414e-bb8f-ef3139da4dce",
   "metadata": {
    "tags": []
   },
   "outputs": [],
   "source": [
    "df.head()"
   ]
  },
  {
   "cell_type": "code",
   "execution_count": null,
   "id": "9bf2c49a-4fc7-4a64-9dd7-7767796570af",
   "metadata": {
    "tags": []
   },
   "outputs": [],
   "source": [
    "df.tail()"
   ]
  },
  {
   "cell_type": "code",
   "execution_count": null,
   "id": "6c8cbf48-799f-4d13-80ed-e369bedc969e",
   "metadata": {
    "tags": []
   },
   "outputs": [],
   "source": [
    "## We select (1-prop)% of the data as training and prop% as test.\n",
    "\n",
    "prop = .05\n",
    "datesplit = df.index[-int(prop*len(df.index))]\n",
    "datesplit"
   ]
  },
  {
   "cell_type": "markdown",
   "id": "e4626c7f-1b7a-4a9c-914c-1f9edd3f397c",
   "metadata": {},
   "source": [
    "### Set the training data"
   ]
  },
  {
   "cell_type": "code",
   "execution_count": null,
   "id": "cac523fc-95c3-4234-8462-a2e721534b2f",
   "metadata": {
    "tags": []
   },
   "outputs": [],
   "source": [
    "trainset = df[df.index < datesplit].copy()\n",
    "trainset.rename(columns={'#Passengers': 'traindata'}, inplace=True)\n",
    "trainset.tail()"
   ]
  },
  {
   "cell_type": "markdown",
   "id": "ebe5b3a4-c75e-4747-b609-bcbb174bd89c",
   "metadata": {},
   "source": [
    "### Set the test data"
   ]
  },
  {
   "cell_type": "code",
   "execution_count": null,
   "id": "ba8ad537-c63e-47a1-87c8-0507dfb78103",
   "metadata": {
    "tags": []
   },
   "outputs": [],
   "source": [
    "testset = df[df.index >= datesplit].copy()\n",
    "testset.rename(columns={'#Passengers': 'testdata'}, inplace=True)\n",
    "testset.head()"
   ]
  },
  {
   "cell_type": "markdown",
   "id": "456d3582-1057-4b5f-8c0a-8a39c6b82713",
   "metadata": {},
   "source": [
    "### Plot the two sets (training + test)"
   ]
  },
  {
   "cell_type": "code",
   "execution_count": null,
   "id": "f3300ceb-01ad-4aea-8df7-f892449e9e3b",
   "metadata": {
    "tags": []
   },
   "outputs": [],
   "source": [
    "plt.plot(trainset, color = \"black\", label=\"training set\")\n",
    "plt.plot(testset, color = \"blue\", label=\"test set\")\n",
    "plt.title(\"Train/Test split\")\n",
    "plt.ylabel(\"Number of passengers\")\n",
    "plt.legend(loc=\"best\")\n",
    "plt.xlabel('Date')\n",
    "plt.show()"
   ]
  },
  {
   "cell_type": "markdown",
   "id": "cea00d38-e955-4047-9f39-20ba2b31a2fe",
   "metadata": {},
   "source": [
    "There exist many (!!!) mathematical models to describe time series.\n",
    "We consider here a standard one, called **ARIMA** (Auto Regressive Integrated Moving Average).\n",
    "Here and below, $(\\varepsilon_{t})$ always denotes a (Gaussian) white noise.\n",
    "\n",
    "- **AR(p) model:**\n",
    "$$\n",
    "X_{t}  = \\sum_{i=1}^{p}\\phi_{i} X_{t-i} + \\varepsilon_{t},\n",
    "$$\n",
    "or equivalently \n",
    "$$\n",
    "\\Phi(B) X_{t} = \\varepsilon_{t},\n",
    "$$\n",
    "where $\\Phi(z) = \\sum_{i=1}^{p}\\phi_{i} z^{i}$ and the backshift operator $B$ acts as $B X_{t} := X_{t-1}$.\n",
    "\n",
    "- **MA(q) model:**\n",
    "$$\n",
    "X_{t}  = \\varepsilon_{t} + \\sum_{j=1}^{q}\\psi_{i} \\varepsilon_{t-j}\n",
    " = \\Psi(B)\\varepsilon_{t},\n",
    "$$\n",
    "where $\\Psi(z) := 1 + \\sum_{j=1}^{q}\\psi_{j} z^{j}$.\n",
    "*Note that an MA model is always stationary.*\n",
    "\n",
    "\n",
    "- **ARMA(p,q) model:**\n",
    "$$\n",
    "X_{t}  = \\sum_{i=1}^{p}\\phi_{i} X_{t-i} + \\varepsilon_{t} + \\sum_{j=1}^{q}\\psi_{i} \\varepsilon_{t-j}\\\\\n",
    "$$\n",
    "equivalently,\n",
    "$$\n",
    "\\Phi(B) X_{t} = \\Psi(B)\\varepsilon_{t}.\n",
    "$$\n",
    "\n",
    "\n",
    "\n",
    "- **ARIMA(p,q,d) model:**\n",
    "$$\n",
    "\\Phi(B) (1-B)^{d}X_{t} = \\Psi(B)\\varepsilon_{t}.\n",
    "$$\n",
    "\n",
    "The reason is as follows:\n",
    "$\\nabla X_t := X_{t} - X_{t-1} = (1-B)X_t$ and\n",
    "$\\nabla^2 X_t := \\nabla(X_{t} - X_{t-1}) = (X_{t} - X_{t-1}) - (X_{t-1} - X_{t-2})\n",
    " = X_{t} - 2X_{t-1}+ X_{t-2} = (1-B)^2X_t$,\n",
    "and so on."
   ]
  },
  {
   "cell_type": "code",
   "execution_count": null,
   "id": "1b1aa8b8",
   "metadata": {},
   "outputs": [],
   "source": [
    "#pip install pmdarima"
   ]
  },
  {
   "cell_type": "code",
   "execution_count": null,
   "id": "094e31a4-50af-4337-a007-4fa22c3469c3",
   "metadata": {
    "tags": []
   },
   "outputs": [],
   "source": [
    "from pmdarima.arima import auto_arima\n",
    "model = auto_arima(trainset, trace=True, error_action='ignore', suppress_warnings=True)\n",
    "model.fit(trainset)\n",
    "forecast = model.predict(n_periods=len(testset))\n",
    "forecast = pd.DataFrame(forecast,index = testset.index,columns=['Prediction'])"
   ]
  },
  {
   "cell_type": "code",
   "execution_count": null,
   "id": "6f1d8d77-c36e-485f-b70b-f06f996e0545",
   "metadata": {
    "tags": []
   },
   "outputs": [],
   "source": [
    "from math import sqrt\n",
    "from sklearn.metrics import mean_squared_error\n",
    "rms = sqrt(mean_squared_error(testset,forecast))\n",
    "print(\"RMSE: \", rms)"
   ]
  },
  {
   "cell_type": "code",
   "execution_count": null,
   "id": "d21abde9-ad52-444c-90d5-4c93321c9347",
   "metadata": {},
   "outputs": [],
   "source": []
  },
  {
   "cell_type": "code",
   "execution_count": null,
   "id": "b3f56966",
   "metadata": {},
   "outputs": [],
   "source": []
  }
 ],
 "metadata": {
  "kernelspec": {
   "display_name": "Python 3 (ipykernel)",
   "language": "python",
   "name": "python3"
  },
  "language_info": {
   "codemirror_mode": {
    "name": "ipython",
    "version": 3
   },
   "file_extension": ".py",
   "mimetype": "text/x-python",
   "name": "python",
   "nbconvert_exporter": "python",
   "pygments_lexer": "ipython3",
   "version": "3.8.13"
  }
 },
 "nbformat": 4,
 "nbformat_minor": 5
}
