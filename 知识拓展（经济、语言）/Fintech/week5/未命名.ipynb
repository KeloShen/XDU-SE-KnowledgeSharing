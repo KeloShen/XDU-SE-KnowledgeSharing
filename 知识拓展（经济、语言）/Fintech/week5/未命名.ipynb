{
 "cells": [
  {
   "cell_type": "code",
   "execution_count": 2,
   "id": "59c4e7ac",
   "metadata": {},
   "outputs": [],
   "source": [
    "\n",
    "import numpy as np\n",
    "import pandas as pd\n",
    "import matplotlib.pyplot as plt\n",
    "import matplotlib.ticker as mtick\n",
    "import random\n",
    "import sklearn\n",
    "from sklearn.linear_model import LinearRegression"
   ]
  },
  {
   "cell_type": "code",
   "execution_count": 13,
   "id": "370dba64",
   "metadata": {},
   "outputs": [],
   "source": [
    "df_list=[2,4,6,8]"
   ]
  },
  {
   "cell_type": "code",
   "execution_count": 14,
   "id": "051eeda1",
   "metadata": {},
   "outputs": [],
   "source": [
    "df=pd.DataFrame(df_list)"
   ]
  },
  {
   "cell_type": "code",
   "execution_count": 15,
   "id": "9e1f7686",
   "metadata": {},
   "outputs": [],
   "source": [
    "df.columns=[\"Holdings\"]"
   ]
  },
  {
   "cell_type": "code",
   "execution_count": 16,
   "id": "66e4d724",
   "metadata": {},
   "outputs": [],
   "source": [
    "df[\"New Holidings\"]=0.5*df[\"Holdings\"]"
   ]
  },
  {
   "cell_type": "code",
   "execution_count": 17,
   "id": "8c4a3bea",
   "metadata": {},
   "outputs": [
    {
     "data": {
      "text/plain": [
       "<bound method NDFrame.head of    Holdings  New Holidings\n",
       "0         2            1.0\n",
       "1         4            2.0\n",
       "2         6            3.0\n",
       "3         8            4.0>"
      ]
     },
     "execution_count": 17,
     "metadata": {},
     "output_type": "execute_result"
    }
   ],
   "source": [
    "df.head"
   ]
  },
  {
   "cell_type": "code",
   "execution_count": null,
   "id": "b0bfe826",
   "metadata": {},
   "outputs": [],
   "source": []
  }
 ],
 "metadata": {
  "kernelspec": {
   "display_name": "Python 3 (ipykernel)",
   "language": "python",
   "name": "python3"
  },
  "language_info": {
   "codemirror_mode": {
    "name": "ipython",
    "version": 3
   },
   "file_extension": ".py",
   "mimetype": "text/x-python",
   "name": "python",
   "nbconvert_exporter": "python",
   "pygments_lexer": "ipython3",
   "version": "3.9.13"
  }
 },
 "nbformat": 4,
 "nbformat_minor": 5
}
