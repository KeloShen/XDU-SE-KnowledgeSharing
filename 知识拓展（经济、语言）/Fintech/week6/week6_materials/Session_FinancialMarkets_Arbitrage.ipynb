{
 "cells": [
  {
   "cell_type": "markdown",
   "id": "swiss-bernard",
   "metadata": {},
   "source": [
    "# **Fundamentals of arbitrage and options**\n",
    "*A gentle introduction to the fundamentals of arbitrage*\n",
    "---\n",
    " <br>\n",
    " \n",
    " \n",
    " \n",
    "- Copyright (c) Lukas Gonon, 2024. All rights reserved\n",
    "\n",
    "- Author: Lukas Gonon <l.gonon@imperial.ac.uk>\n",
    "\n",
    "- Platform: Tested on Windows 10 with Python 3.8"
   ]
  },
  {
   "cell_type": "markdown",
   "id": "listed-model",
   "metadata": {},
   "source": [
    "Disclaimer: All data used in this course are publicly available"
   ]
  },
  {
   "cell_type": "code",
   "execution_count": 1,
   "id": "24b5a612-daa2-422c-ba33-8ca60f7b8eb6",
   "metadata": {
    "tags": []
   },
   "outputs": [
    {
     "name": "stdout",
     "output_type": "stream",
     "text": [
      "Current python version:  3.11.1\n"
     ]
    }
   ],
   "source": [
    "from platform import python_version\n",
    "print(\"Current python version: \", python_version())"
   ]
  },
  {
   "cell_type": "markdown",
   "id": "5b0e7b0f-dede-4f7a-a16b-90029c15ade0",
   "metadata": {
    "jp-MarkdownHeadingCollapsed": true,
    "tags": []
   },
   "source": [
    "## Session Overview\n",
    "\n",
    "- Review: financial markets and traded assets and derivatives\n",
    "- Review: a first look at arbitrage pricing (bounds on call option prices)\n",
    "- Fundamental concept of arbitrage\n",
    "- Pricing derivatives by replication"
   ]
  },
  {
   "cell_type": "markdown",
   "id": "adjustable-delhi",
   "metadata": {
    "tags": []
   },
   "source": [
    "# ARBITRAGE or *how to evaluate the price of a contingent claim?*"
   ]
  },
  {
   "cell_type": "markdown",
   "id": "iraqi-refund",
   "metadata": {
    "tags": []
   },
   "source": [
    "## Modelling assumptions\n",
    "\n",
    "- No market frictions (no transaction costs, no bid/ask spread, no taxes)\n",
    "- No default risk (same interest for borrowing and lending)\n",
    "- Competitive markets (Market participants act as price takers, not price makers)\n",
    "- Rational agents (Market participants prefer more to less)\n",
    "- No arbitrage"
   ]
  },
  {
   "cell_type": "markdown",
   "id": "terminal-venture",
   "metadata": {},
   "source": [
    "Financial markets involve riskless (bank account) and risky (stocks,....) assets. \n",
    "The only reason for the investor to expose herself to risk is the opportunity of greater profit."
   ]
  },
  {
   "cell_type": "markdown",
   "id": "stupid-norway",
   "metadata": {},
   "source": [
    "## Creating an arbitrageable portfolio\n",
    "\n",
    "Consider a portfolio consisting of a (risk-free) bond, a (risky) stock and a European Call option with strike $K$, in a one-time period setting:\n",
    "$$\n",
    "\\Pi_t = n_B B_t + n_S S_t + n_C C_t,\n",
    "\\qquad\\text{for } t \\in \\{0,T\\}.\n",
    "$$\n",
    "At time $0$, the prices of the bond, the underlying stock and the Call are given by $B_0, S_0, C_0$.\n",
    "At time $T=1$, the bond price has moved to $B_1$ while the stock price has either gone up to $S_1^u$ or down to $S_1^d$.\n",
    "Therefore, at maturity, the payoff of the Call option reads\n",
    "\\begin{align*}\n",
    "C_T^u = (S_T^u-K)_+ \\qquad\\text{or}\\qquad C_T^d = (S_T^d-K)_+.\n",
    "\\end{align*}"
   ]
  },
  {
   "cell_type": "code",
   "execution_count": 2,
   "id": "democratic-remove",
   "metadata": {},
   "outputs": [],
   "source": [
    "import numpy as np"
   ]
  },
  {
   "cell_type": "code",
   "execution_count": 3,
   "id": "prostate-specification",
   "metadata": {},
   "outputs": [],
   "source": [
    "def portfolio_value(quantities, B, S, C, details):\n",
    "    nB, nS, nC = quantities\n",
    "    if details:\n",
    "        print(\"Bond/Stock/Call amounts: \", \n",
    "              np.round(nB*B, 5), \n",
    "              np.round(nS*S, 5), \n",
    "              np.round(nC*C, 5))\n",
    "    return np.round(nB*B + nS*S + nC*C, 5)\n",
    "\n",
    "def callPayoff(S, K):\n",
    "    return max(S-K, 0.)"
   ]
  },
  {
   "cell_type": "code",
   "execution_count": 4,
   "id": "crazy-example",
   "metadata": {},
   "outputs": [
    {
     "name": "stdout",
     "output_type": "stream",
     "text": [
      "At expiry, the Call price is worth 0.00 in the Down state and 0.75 in the Up state\n"
     ]
    }
   ],
   "source": [
    "### Initial values:\n",
    "B0, S0, C0, K = 1., 1., .2, 1.\n",
    "\n",
    "### Up and Down values for the stock price at time 1\n",
    "Sd, Su = .75, 1.75\n",
    "\n",
    "### Bond price at time 1\n",
    "B1 = 1.25\n",
    "\n",
    "Cd, Cu = callPayoff(Sd, K), callPayoff(Su, K)\n",
    "print(\"At expiry, the Call price is worth %.2f in the Down state and %.2f in the Up state\" %(Cd, Cu))"
   ]
  },
  {
   "cell_type": "markdown",
   "id": "appointed-skirt",
   "metadata": {},
   "source": [
    "At maturity, the portfolio can take two different values, depending on the state (up or down)."
   ]
  },
  {
   "cell_type": "code",
   "execution_count": 5,
   "id": "public-audit",
   "metadata": {},
   "outputs": [
    {
     "name": "stdout",
     "output_type": "stream",
     "text": [
      "Value of the portfolio at time zero: 100.0\n",
      "Value of the portfolio at expiry in the Down and the Up states: 80.0 195.0\n"
     ]
    }
   ],
   "source": [
    "### Quantities of the bond, stock and Call in the portfolio:\n",
    "n_Bond1, n_Stock1, n_Call1 = 40, 40, 100\n",
    "\n",
    "quantities_Ptf1 = [n_Bond1, n_Stock1, n_Call1]\n",
    "\n",
    "print(\"Value of the portfolio at time zero:\", portfolio_value(quantities_Ptf1, B0, S0, C0, False))\n",
    "\n",
    "print(\"Value of the portfolio at expiry in the Down and the Up states:\", \n",
    "      portfolio_value(quantities_Ptf1, B1, Sd, Cd, False), \n",
    "      portfolio_value(quantities_Ptf1, B1, Su, Cu, False))"
   ]
  },
  {
   "cell_type": "markdown",
   "id": "atmospheric-viking",
   "metadata": {},
   "source": [
    "Let us now consider an alternative portfolio, i.e. on the same assets, but with different weights."
   ]
  },
  {
   "cell_type": "code",
   "execution_count": 6,
   "id": "signed-methodology",
   "metadata": {},
   "outputs": [
    {
     "name": "stdout",
     "output_type": "stream",
     "text": [
      "New portfolio at time zero: 98.4\n",
      "New portfolio in down and up states at expiry: 80.0 195.0\n"
     ]
    }
   ],
   "source": [
    "### Quantities of the bond, stock and Call in the new portfolio:\n",
    "n_Bond2, n_Stock2, n_Call2 = 47.2, 28, 116\n",
    "quantities_Ptf2 = n_Bond2, n_Stock2, n_Call2\n",
    "\n",
    "print(\"New portfolio at time zero:\", portfolio_value(quantities_Ptf2, B0, S0, C0, False))\n",
    "\n",
    "print(\"New portfolio in down and up states at expiry:\", \n",
    "      portfolio_value(quantities_Ptf2, B1, Sd, Cd, False),\n",
    "      portfolio_value(quantities_Ptf2, B1, Su, Cu, False))"
   ]
  },
  {
   "cell_type": "markdown",
   "id": "bronze-blowing",
   "metadata": {},
   "source": [
    "**WHAT IS THE PROBLEM?**"
   ]
  },
  {
   "cell_type": "markdown",
   "id": "identified-bubble",
   "metadata": {},
   "source": [
    "Consider the difference of the two portfolios (itself a portfolio):\n",
    "$$\n",
    "D = P^{1} - P^{2}\n",
    "$$"
   ]
  },
  {
   "cell_type": "code",
   "execution_count": 7,
   "id": "sitting-polish",
   "metadata": {},
   "outputs": [
    {
     "name": "stdout",
     "output_type": "stream",
     "text": [
      "Difference portfolio at time zero: 1.6\n",
      "Difference portfolio in the Down and Up states at expiry: -0.0 -0.0\n",
      "Quantities:  (-7.200000000000003, 12, -16)\n"
     ]
    }
   ],
   "source": [
    "n_Bond = n_Bond1 - n_Bond2\n",
    "n_Stock = n_Stock1 - n_Stock2\n",
    "n_Call = n_Call1 - n_Call2\n",
    "\n",
    "quantities = n_Bond, n_Stock, n_Call\n",
    "\n",
    "print(\"Difference portfolio at time zero:\", portfolio_value(quantities, B0, S0, C0, False))\n",
    "\n",
    "print(\"Difference portfolio in the Down and Up states at expiry:\", \n",
    "      portfolio_value(quantities, B1, Sd, Cd, False),\n",
    "      portfolio_value(quantities, B1, Su, Cu, False))\n",
    "\n",
    "print(\"Quantities: \", quantities)"
   ]
  },
  {
   "cell_type": "markdown",
   "id": "local-mainland",
   "metadata": {},
   "source": [
    "*Question: What do you think?*"
   ]
  },
  {
   "cell_type": "markdown",
   "id": "invisible-literacy",
   "metadata": {},
   "source": [
    "A closer look"
   ]
  },
  {
   "cell_type": "code",
   "execution_count": 8,
   "id": "weekly-timothy",
   "metadata": {},
   "outputs": [
    {
     "name": "stdout",
     "output_type": "stream",
     "text": [
      "Bond/Stock/Call amounts:  -7.2 12.0 -3.2\n",
      "Value of the difference portfolio 1 at time zero: 1.6\n"
     ]
    }
   ],
   "source": [
    "print(\"Value of the difference portfolio 1 at time zero:\", \n",
    "      portfolio_value(quantities, B0, S0, C0, True))"
   ]
  },
  {
   "cell_type": "markdown",
   "id": "appointed-speech",
   "metadata": {},
   "source": [
    "This corresponds to the position: sell stock, buy bond and option.\n",
    "\n",
    "However, we can see that the position (sell stock, buy bond) is actually a perfect **hedge** for a long position in the Call option.\n",
    "\n",
    "**--> Hedging and pricing by replication<--**"
   ]
  },
  {
   "cell_type": "markdown",
   "id": "respiratory-registration",
   "metadata": {},
   "source": [
    "**No Arbitrage Definition: No profit is guaranteed without exposure to risk.**"
   ]
  },
  {
   "cell_type": "markdown",
   "id": "compact-tobago",
   "metadata": {},
   "source": [
    "## Pricing by replication (introducing probabilities)\n",
    "\n",
    "- Fischer Black and Myron Scholes. <a href=\"https://www.journals.uchicago.edu/doi/10.1086/260062\">\"The Pricing of Options and Corporate Liabilities\"</a>. Journal of Political Economy (1973). \n",
    "- Robert C. Merton. <a href=\"https://www.jstor.org/stable/3003143?origin=crossref\">\"Theory of Rational Option Pricing\"</a>. Bell Journal of Economics and Management Science (1973).\n",
    "\n",
    "Merton and Scholes got awarded the Nobel Memorial Prize in Economic Sciences \"for a new method to determine the value of derivatives\" in 1997."
   ]
  },
  {
   "cell_type": "markdown",
   "id": "outstanding-benefit",
   "metadata": {},
   "source": [
    "**Meta-Theorem: Under no-arbitrage settings, two portfolios generating the same values in all states of the world should be equal at all times.**"
   ]
  },
  {
   "cell_type": "markdown",
   "id": "early-disability",
   "metadata": {},
   "source": [
    "*Question: If two quoted prices are different (say because of two different vendors on an OTC market), how can you benefit from it?*"
   ]
  },
  {
   "cell_type": "markdown",
   "id": "ahead-hawaiian",
   "metadata": {},
   "source": [
    "Consider a bond with constant value equal to $1$ and a stock price with $S_0 = 10$ and\n",
    "\\begin{equation*}\n",
    "\\left\\{\n",
    "\\begin{array}{ll}\n",
    "S_1^u = 20, & \\text{ with probability }p^u,\\\\\n",
    "S_1^d = 7.5, & \\text{ with probability }p^d,\n",
    "\\end{array}\n",
    "\\right.\n",
    "\\end{equation*}\n",
    "for some $p^d,p^u \\in [0,1]$ with $p^d + p^u = 1$.\n",
    "\n",
    "**GOAL:** Determine the price of a European Call option on $S$ with maturity $T=1$ and strike $K=15$.\n",
    "\n",
    "**STRATEGY**: Construct a portfolio $\\Pi := n_B B + n_S S$ replicating exactly the option payoff."
   ]
  },
  {
   "cell_type": "markdown",
   "id": "f7f58b74-6de3-4cf5-a57c-acac5cf38e40",
   "metadata": {},
   "source": [
    "Construct \n",
    "\n",
    "$$\n",
    "D := \\Pi - C = n_B B + n_S S + n_{C} C,\n",
    "$$\n",
    "with $n_C = -1$."
   ]
  },
  {
   "cell_type": "markdown",
   "id": "ceb1957b-f700-4fde-acbe-01dbeaef066e",
   "metadata": {},
   "source": [
    "If $\\Pi$ replicates $C$, i.e. $\\Pi_T = C_T$ (in all states of the world),\n",
    "then\n",
    "$$\n",
    "D_T = 0.\n",
    "$$"
   ]
  },
  {
   "cell_type": "markdown",
   "id": "consolidated-prerequisite",
   "metadata": {},
   "source": [
    "Remarks:\n",
    "- The vector $(n_B, n_S)$ is called a strategy.\n",
    "- What about the probabilities $p^d$ and $p^u$? Where do they come from?"
   ]
  },
  {
   "cell_type": "markdown",
   "id": "engaged-passport",
   "metadata": {},
   "source": [
    "**First Fundamental Theorem of Asset Pricing (FTAP):\n",
    "No-arbitrage is equivalent to the existence of an equivalent martingale\n",
    "measure.**\n",
    "\n",
    "\n",
    "In other words, under no-arbitrage, we can find probabilities \n",
    "$\\tilde{p}^d, \\tilde{p}^u \\in [0,1]$ with $\\tilde{p}^d + \\tilde{p}^u = 1$ such that\n",
    "$$\n",
    "S_0 = \\tilde{p}^d S_1^d + \\tilde{p}^u S_1^u.\n",
    "$$"
   ]
  },
  {
   "cell_type": "markdown",
   "id": "worst-tiffany",
   "metadata": {},
   "source": [
    "## Summarising"
   ]
  },
  {
   "cell_type": "markdown",
   "id": "inclusive-flashing",
   "metadata": {},
   "source": [
    "Let $S$ denote a stock price, whose value at time $0$ is $S_0>0$.\n",
    "At time $T>$, the process can take two possible values:\n",
    "$$\n",
    "S_1=\n",
    "\\left\\{\n",
    "\\begin{array}{rll}\n",
    "uS_0, & \\text{with probability } p,\\\\\n",
    "dS_0, & \\text{with probability } 1-p,\n",
    "\\end{array}\n",
    "\\right.\n",
    "$$\n",
    "where $0<d<u$ and $p\\in(0,1)$.\n",
    "\n",
    "*Note: Another way to understand this is to write $S_1=X S_0$, where $X$ is a Bernoulli random variable taking the value $u$ with probability $p$ and the value $d$ with probability $1-p$.*\n",
    "\n",
    "We assume that a financial agent can invest (at time $0$) in both the asset $S$ and in a risk-free bond, \n",
    "i.e. borrow or sell money with a (non random) interest rate equal to $r\\geq 0$ over the period $[0,T]$.\n",
    "We are now interested in determining the price $C_0$ at time $0$ of a European Call option with strike $K>0$ and maturity $T$.\n",
    "At time $T$, the two possible payoffs (corresponding to the two different states of the world) are\n",
    "\\begin{align*}\n",
    "C_1^{u} & :=\\left(uS_0-K\\right)_+,\\\\\n",
    "C_1^{d} & :=\\left(dS_0-K\\right)_+.\n",
    "\\end{align*}\n",
    "\n",
    "One may be tempted to value it at the price \n",
    "$$\n",
    "C_0\n",
    " = \\frac{\\mathbb{E}_p[C_1]}{1+r}\n",
    " = \\frac{pC_1^{u}+(1-p)C_1^{d}}{1+r}.\n",
    "$$\n",
    "However, this is in general false, since the probability $p$ has been chosen from the investor's point of view, \n",
    "and does not necessary reflect the market's point of view.\n",
    "It turns out that this very probability $p$, called the historical (or physical) probability, does not appear at all in the pricing formula, \n",
    "as the following theorem shows.\n",
    "\n",
    "**Theorem.\n",
    "In the absence of arbitrage opportunities, the price at time $0$ (inception of the contract) of a European call option written on $S$, \n",
    "with strike $K$ and maturity $T$ is worth\n",
    "$$\n",
    "C_0=\\frac{\\pi C_1^{u}+(1-\\pi) C_1^{d}}{1+r},\n",
    "\\qquad\\text{where }\\pi:= \\frac{1+r-d}{u-d}.\n",
    "$$**\n",
    "The probability $\\pi$ is called the risk-neutral probability."
   ]
  },
  {
   "cell_type": "markdown",
   "id": "otherwise-worst",
   "metadata": {},
   "source": [
    "#### Proof"
   ]
  },
  {
   "cell_type": "markdown",
   "id": "fixed-fairy",
   "metadata": {},
   "source": [
    "The proof is again based on pricing by replication, \n",
    "i.e. we want to construct a portfolio consisting of shares and risk-free bonds \n",
    "that exactly replicates (has the same payoff as) the option we wish to evaluate.\n",
    "Consider a portfolio $\\Pi$ consisting of an amount $\\Delta_0$ of shares and \n",
    "with the notional $\\phi$ invested in the risk-free bond.\n",
    "The value at time $t_0$ of the portfolio is therefore \n",
    "$$\n",
    "\\Pi_0=\\Delta_0 S_0+\\phi B_0.\n",
    "$$\n",
    "At time $t_1$, it is worth\n",
    "$$\n",
    "\\Pi_1 = \\Delta_0 S_1 + \\left(1+r\\right)\\phi\n",
    " = \n",
    "\\left\\{\n",
    "\\begin{array}{rll}\n",
    "\\Delta_0 uS_0 + \\left(1+r\\right)\\phi, & \\text{with probability } p,\\\\\n",
    "\\Delta_0 dS_0 + \\left(1+r\\right)\\phi, & \\text{with probability } 1-p.\n",
    "\\end{array}\n",
    "\\right.\n",
    "$$\n",
    "Since our portfolio $\\Pi$ has to replicate the option, it therefore needs to have the same payoff.\n",
    "This implies the following system of equations:\n",
    "$$\n",
    "\\left\\{\n",
    "\\begin{array}{rl}\n",
    "\\Delta_0 uS_0 + (1+r)\\phi & = C_1^{u} = (uS_0-K)_+\\\\\n",
    "\\Delta_0 dS_0 + (1+r)\\phi & = C_1^{d} = (dS_0-K)_+,\n",
    "\\end{array}\n",
    "\\right.\n",
    "$$\n",
    "which we can solve explicitly as\n",
    "$$\n",
    "\\Delta_0 = \\frac{C_1^{u}-C_1^{d}}{(u-d)S_0},\n",
    "\\qquad\\text{and}\\qquad\n",
    "\\phi = \\frac{1}{1+r}\\frac{uC_1^{d}-dC_1^{u}}{(u-d)}.\n",
    "$$\n",
    "By absence of arbitrage, since our portfolio $\\Pi$ and the Call option have the same value at maturity (same payoff), \n",
    "then they necessarily have the same value at inception of the contract, i.e. at time $t_0$, \n",
    "so that $C_0=\\Pi_0$.\n",
    "Define now $\\pi:=\\displaystyle \\frac{1+r-d}{u-d}$ and the theorem follows."
   ]
  },
  {
   "cell_type": "markdown",
   "id": "c604d3af",
   "metadata": {},
   "source": [
    "*Exercises*\n",
    "- *Application to previous example*\n",
    "- *Verifying put-call parity*"
   ]
  },
  {
   "cell_type": "code",
   "execution_count": 9,
   "id": "b2f3df66",
   "metadata": {},
   "outputs": [
    {
     "name": "stdout",
     "output_type": "stream",
     "text": [
      "0.25\n",
      "0.75\n",
      "0.5\n",
      "0.3\n"
     ]
    }
   ],
   "source": [
    "u = Su/S0\n",
    "r=B1/B0-1\n",
    "d = Sd/S0\n",
    "pi = (1+r-d)/(u-d)\n",
    "C_= (pi*Cu+(1-pi)*Cd)/(1+r)\n",
    "print(r)\n",
    "print(d)\n",
    "print(pi)\n",
    "print(C_)"
   ]
  },
  {
   "cell_type": "markdown",
   "id": "ca8281d3",
   "metadata": {},
   "source": [
    "*What happens above if we use this price?*"
   ]
  },
  {
   "cell_type": "markdown",
   "id": "particular-vocabulary",
   "metadata": {
    "tags": []
   },
   "source": [
    "# Wrapping up in a more general (abstract) setup"
   ]
  },
  {
   "cell_type": "markdown",
   "id": "selective-astronomy",
   "metadata": {},
   "source": [
    "The fundamental model of mathematical finance consists of a probability space $\\left(\\Omega, \\mathcal{F},\\mathbb{P}\\right)$\n",
    "on which we define a random variable $S$.\n",
    "The most obvious example is when $S$ takes values in $\\mathbb{R}$ or $\\mathbb{R}_+$\n",
    "and represents the price of a stock (or an interest rate, the price of some commodity...) at some given time, \n",
    "or when it is $\\mathbb{R}^n$-valued ($n\\in\\mathbb{N}$) and accounts for the basket of share prices in an index such as the S\\&P$500$.\n",
    "One can also think of it as an infinite-dimensional random variable representing the whole path of a share price process between today and some future time, i.e. $S=\\left(S_t\\right)_{t\\geq 0}$.\n",
    "\n",
    "A financial derivative (contingent claim) written on $S$ can then be thought of as a functional $f(S)$.\n",
    "Financial derivatives are usually classified according to whether $S$ represents the value of the share price at some future time $T>0$ \n",
    "(European options) or the whole trajectory between today (time zero) and time $T$ (American options).\n",
    "One of the fundamental questions in mathematical finance is to evaluate such functionals, \n",
    "i.e. to determine at time zero (inception  of the contract) the expected value of $f(S)$. \n",
    "Intuitively speaking we wish to answer the following question: \n",
    "$$\n",
    "\\text{How much are we willing to pay today (time zero) to receive $f(S)$ at time $T$?}\n",
    "$$\n",
    "\n",
    "The answer lies in the concept of *absence of arbitrage*.\n",
    "Consider a portfolio---or a trading strategy---as a random process $(V_t^\\theta)_{t\\geq 0}$ consisting of some positions in\n",
    "$n$ stock prices $S^{(1)},\\ldots,S^{(n)}$:\n",
    "$$\n",
    "V_t^\\theta=\\sum_{i=1}^n \\theta_t^{(i)}S_{t}^{(i)},\\qquad \\text{for all }t\\geq 0,\n",
    "$$\n",
    "where $\\theta_{t}^{(i)}$ represents the quantity of stock $i$ in the portfolio at time $t$.\n",
    "We have written here $V_t^\\theta$ to emphasise the fact that \n",
    "the strategy is fully determined by the (time-dependent) vector $\\theta$.\n",
    "In a discrete-time setting, let us fix some time $t>0$.\n",
    "At time $t+1$, the investor may want to rebalance his portfolio, i.e. change its composition, and the value of the portfolio hence becomes\n",
    "$$\n",
    "V_{t+1}^\\theta=\\sum_{i=1}^n \\theta_{t+1}^{(i)}S_{t+1}^{(i)}.\n",
    "$$\n",
    "If we assume that the investor does not invest nor withdraw any amount from his portfolio, then we necessarily have\n",
    "$$\n",
    "\\sum_{i=1}^n \\theta_{t}^{(i)}S_{t+1}^{(i)}=\\sum_{i=1}^n \\theta_{t+1}^{(i)}S_{t+1}^{(i)}.\n",
    "$$\n",
    "This can be written equivalently\n",
    "\\begin{align*}\n",
    "V_{t+1}^\\theta-V_{t}^\\theta\n",
    " & = \\sum_{i=1}^n \\theta_{t+1}^{(i)}S_{t+1}^{(i)} - \\sum_{i=1}^n \\theta_{t}^{(i)}S_{t}^{(i)}\\\\\n",
    " & = \\sum_{i=1}^n \\theta_{t}^{(i)}S_{t+1}^{(i)} - \\sum_{i=1}^n \\theta_{t}^{(i)}S_{t}^{(i)}\\\\\n",
    " & = \\sum_{i=1}^n \\theta_{t}^{(i)}\\left(S_{t+1}^{(i)}-S_{t}^{(i)}\\right),\n",
    "\\end{align*}\n",
    "and we shall call such a portfolio *self-financing*.\n",
    "\n",
    "We shall further call a trading strategy *admissible* if it is self-financing and if $V_t^\\theta\\geq 0$ for all $t\\geq 0$.\n",
    "\n",
    "**Definition: An arbitrage is an admissible trading strategy (or a portfolio) $V^\\theta=\\left(V_t^\\theta\\right)_{t\\geq 0}$ \n",
    "for which there exists some time $T>0$ such that\n",
    "$$V_0^\\theta=0 \\text{ and }\n",
    "V_T^\\theta\\geq 0 \\text{ almost surely}\n",
    "\\qquad\\text{and}\\qquad\n",
    "\\mathbb{P}\\left(V_T^\\theta>0\\right)>0.$$**\n",
    "\n",
    "Intuitively the concept *absence of arbitrage* therefore means that one cannot make a sure profit out of nothing.\n",
    "In this definition we have used a probability $\\mathbb{P}$ given ad hoc as an element of the probability space.\n",
    "However for practical and theoretical reasons---which shall be made clear later in this course---we might want to use other probabilities, \n",
    "which are *equivalent* (in some sense to be made precise).\n",
    "In the discrete-time setting used above, we consider a family of random variables \n",
    "$X:=\\left(X_{t_1},\\ldots,X_{t_n},\\ldots\\right)$ indexed by time steps.\n",
    "Consider further the family of nested sets $\\left(\\mathcal{F}_n\\right)_{n\\geq 1}$ satisfying \n",
    "$\\mathcal{F}_n\\subset\\mathcal{F}_{n+1}\\subset\\mathcal{F}$ for any $n\\geq 1$.\n",
    "We shall informally--- and leave the rigorous definition for later---consider \n",
    "$\\mathcal{F}_n$ as the quantity of information available at time $t_n$ generated by the random variables $X_{t_1},\\ldots,X_{t_n}$.\n",
    "\n",
    "**Definition: We say that the family of random variables $X=\\left(X_{t_1},\\ldots,X_{t_n},\\ldots\\right)$ is a martingale if the equality \n",
    "$\\mathbb{E}[X_{t_n}|\\mathcal{F}_{t_p}]=X_{t_p}$ holds for any $1\\leq p\\leq n$.**\n",
    "\n",
    "*Example: If $\\left(Y_n\\right)_{n\\geq 1}$ forms a family of independent identically distributed random variables \n",
    "such that for any $n\\geq 1$, $\\mathbb{E}[Y_n|\\mathcal{F}_n]=0$ and \n",
    "$\\left(\\mathcal{F}_n\\right)_{n\\geq 1}$ is the related flow of information, then the family $(X_n)_{n\\geq 1}$ defined by $X_n:=\\sum_{i=1}^{n}Y_i$ is a martingale.*\n",
    "\n",
    "**Definition: A probability measure $\\mathbb{Q}$ is a martingale measure equivalent to $\\mathbb{P}$, and\n",
    "we denote it by $\\mathbb{Q}\\sim\\mathbb{P}$ if discounted price processes are martingales under $\\mathbb{Q}$.**\n",
    "\n",
    "**Theorem [Fundamental Theorem of Asset Pricing]: A model is said to be arbitrage-free (i.e. there does not exist any admissible arbitrage strategy) if and only if \n",
    "there exists an equivalent martingale measure $\\mathbb{Q}$.**\n",
    "\n",
    "This fundamental theorem has the following immediate application in terms of pricing:\n",
    "under absence of arbitrage, the price at time zero of a financial derivative is equal to the discounted expectation of the final payoff\n",
    "$f(X)$ under the martingale measure $\\mathbb{Q}$, namely\n",
    "$$\n",
    "\\mathbb{E}^{\\mathbb{Q}}[f(X)].\n",
    "$$\n"
   ]
  },
  {
   "cell_type": "markdown",
   "id": "f4ec2a9c",
   "metadata": {},
   "source": [
    "*What does this mean in the model above?*\n",
    "\n",
    "The martingale measure $\\mathbb{Q}$ is determined by the risk-neutral probability $\\pi$.  $\\pi$ is the probability under  $\\mathbb{Q}$ that $S_1 = u S_0$ and $1-\\pi$ is the probability that $S_1 = d S_0$. \n",
    "\n",
    "Let us verify the martingale property. In this simple situation, $\\mathbb{E}[X_{1}|\\mathcal{F}_{0}]=\\mathbb{E}[X_{1}]$ and so we need to verify $\\mathbb{E}^\\mathbb{Q}[S_{1}/(1+r)]=S_0$."
   ]
  },
  {
   "cell_type": "code",
   "execution_count": 10,
   "id": "1f37b4e2",
   "metadata": {},
   "outputs": [
    {
     "name": "stdout",
     "output_type": "stream",
     "text": [
      "0.0\n"
     ]
    }
   ],
   "source": [
    "print(pi*Su+(1-pi)*Sd-(1+r)*S0)"
   ]
  },
  {
   "cell_type": "code",
   "execution_count": null,
   "id": "86e63d49",
   "metadata": {},
   "outputs": [],
   "source": []
  },
  {
   "cell_type": "code",
   "execution_count": null,
   "id": "0e9f1400",
   "metadata": {},
   "outputs": [],
   "source": []
  }
 ],
 "metadata": {
  "kernelspec": {
   "display_name": "Python 3 (ipykernel)",
   "language": "python",
   "name": "python3"
  },
  "language_info": {
   "codemirror_mode": {
    "name": "ipython",
    "version": 3
   },
   "file_extension": ".py",
   "mimetype": "text/x-python",
   "name": "python",
   "nbconvert_exporter": "python",
   "pygments_lexer": "ipython3",
   "version": "3.11.1"
  }
 },
 "nbformat": 4,
 "nbformat_minor": 5
}
