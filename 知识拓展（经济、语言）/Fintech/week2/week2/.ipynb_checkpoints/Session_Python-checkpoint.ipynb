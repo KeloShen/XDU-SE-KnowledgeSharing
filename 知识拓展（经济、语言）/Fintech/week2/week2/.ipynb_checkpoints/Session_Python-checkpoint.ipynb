{
 "cells": [
  {
   "cell_type": "markdown",
   "metadata": {
    "zanadu": {}
   },
   "source": [
    "# **Introduction to Python**\n",
    "---\n",
    " <br>\n",
    " \n",
    "- Copyright (c) Lukas Gonon, 2024. All rights reserved\n",
    "\n",
    "- Author: Lukas Gonon <l.gonon@imperial.ac.uk>\n",
    "\n",
    "- Platform: Tested on Windows 10 with Python 3.9"
   ]
  },
  {
   "cell_type": "markdown",
   "metadata": {
    "tags": [],
    "zanadu": {}
   },
   "source": [
    "# Why `python`?"
   ]
  },
  {
   "cell_type": "markdown",
   "metadata": {
    "zanadu": {}
   },
   "source": [
    "One of the most in-demand programming languages in the financial industry: https://news.efinancialcareers.com/uk-en/137065/the-six-hottest-programming-languages-to-know-in-banking-technology<br>\n",
    "\n",
    "Nice article on why `python` became the most popular choice: https://www.welcometothejungle.com/en/articles/btc-python-popular\n"
   ]
  },
  {
   "cell_type": "markdown",
   "metadata": {
    "zanadu": {}
   },
   "source": [
    "## Installing `python` locally"
   ]
  },
  {
   "cell_type": "markdown",
   "metadata": {
    "zanadu": {}
   },
   "source": [
    "The easiest way to install Jupyter notebooks is through the license-free Anaconda software available\n",
    "at: https://www.anaconda.com/products/individual (you will find versions for Windows, MAC and Linux).\n"
   ]
  },
  {
   "cell_type": "markdown",
   "metadata": {},
   "source": [
    "## Using `python` online\n",
    "\n",
    "https://colab.research.google.com/?utm_source=scs-index"
   ]
  },
  {
   "cell_type": "markdown",
   "metadata": {},
   "source": [
    "## Launching a Jupyter Notebook\n",
    "\n",
    "\n",
    "Once the package is installed you can easily access the `Jupyter notebook` by typing jupyter notebook (like the image below)\n",
    "either in the Anaconda prompt or in the OS command line. (I recommend using the Anaconda\n",
    "prompt specially when running in Windows, since there might be some compatibility issues)."
   ]
  },
  {
   "cell_type": "markdown",
   "metadata": {},
   "source": [
    "## Intalling `python` packages "
   ]
  },
  {
   "cell_type": "markdown",
   "metadata": {},
   "source": [
    "A major benefit of `python` is the huge and active developer community. \n",
    "Before implementing an algorithm yourself, it is worth checking whether some library is freely available and performs the same task. Although, ALWAYS make sure you understand what the library does, and acknowledge it properly.\n",
    "\n",
    "\n",
    "PIP (Pip Installs Packages) is the *de facto* tool to install such libraries. \n",
    "For instance, to install `yFinance` (for financial data from Yahoo finance), \n",
    "simply type `pip install yfinance` in the OS command line or `!pip install yfinance` in a code cell in a Jupyter notebook."
   ]
  },
  {
   "cell_type": "markdown",
   "metadata": {
    "tags": [],
    "zanadu": {}
   },
   "source": [
    "# Introduction to IPython notebook"
   ]
  },
  {
   "cell_type": "markdown",
   "metadata": {},
   "source": [
    "### Cells\n",
    "A `Cell` is the building block of jupyter notebooks. Each notebook consists of multiple cells and you can add cells clicking on the `Insert` tab"
   ]
  },
  {
   "cell_type": "markdown",
   "metadata": {},
   "source": [
    "Deleting  a Cell is also very easy, you just have to click the `Edit` tab and select `Delete Cells`"
   ]
  },
  {
   "cell_type": "markdown",
   "metadata": {},
   "source": [
    "### Types of Cells\n",
    "In jupyter notebooks, there are fundamentally two different types of cells: `Markdown` and  `Code` (see below)"
   ]
  },
  {
   "cell_type": "markdown",
   "metadata": {},
   "source": [
    " `Markdown` is used to write text and mathematical formulas such as:\n",
    " \n",
    "$$\n",
    "\\frac{1}{2\\pi}\\int_{\\mathbb{R}}\\exp\\left(-\\frac{x^2}{2}\\right)dx = \\cdots\n",
    "$$\n",
    "\n",
    "### **Remark:**\n",
    "Use `markdown` cells comprehensively to explain and describe the code in details, so that the reader knows what is happening.\n",
    " `Code` on the other hand is used to execute code:\n"
   ]
  },
  {
   "cell_type": "code",
   "execution_count": 1,
   "metadata": {
    "tags": [],
    "zanadu": {
     "code_type": ""
    }
   },
   "outputs": [
    {
     "name": "stdout",
     "output_type": "stream",
     "text": [
      "Hello. This is a code cell.\n"
     ]
    }
   ],
   "source": [
    "print(\"Hello.\", \"This is a code cell.\")"
   ]
  },
  {
   "cell_type": "code",
   "execution_count": 2,
   "metadata": {
    "tags": []
   },
   "outputs": [
    {
     "data": {
      "text/plain": [
       "2.2"
      ]
     },
     "execution_count": 2,
     "metadata": {},
     "output_type": "execute_result"
    }
   ],
   "source": [
    "1+1.2"
   ]
  },
  {
   "cell_type": "markdown",
   "metadata": {
    "tags": [],
    "zanadu": {}
   },
   "source": [
    "# Python"
   ]
  },
  {
   "cell_type": "markdown",
   "metadata": {
    "zanadu": {}
   },
   "source": [
    "Main documentation:  https://docs.python.org/3.6/reference/.\n",
    "\n",
    "\n",
    "Remember that indentation is key in `python` code!!!!"
   ]
  },
  {
   "cell_type": "markdown",
   "metadata": {},
   "source": [
    "### Check your Python version"
   ]
  },
  {
   "cell_type": "code",
   "execution_count": 3,
   "metadata": {
    "tags": []
   },
   "outputs": [
    {
     "name": "stdout",
     "output_type": "stream",
     "text": [
      "Python 3.9.13\r\n"
     ]
    }
   ],
   "source": [
    "!python --version"
   ]
  },
  {
   "cell_type": "markdown",
   "metadata": {},
   "source": [
    "### The `!` keyword\n",
    "\n",
    "We have just used the  `!` keyword to check our Python version. `!` tells the interpreter to send the command to the OS command line or Anaconda prompt. This way, we can also use it to install packages typing  `!pip install yfinance` directly on a Code cell"
   ]
  },
  {
   "cell_type": "markdown",
   "metadata": {},
   "source": [
    "### Interpreted (`python`) vs. Compiled (C++) programming languages\n",
    "\n",
    "**Interpreted :** code is executed as you write it without any internal optimisation. It is easy and quick to implement, but slower to run.\n",
    "\n",
    "**Compiled :** there is a intermediary step between the code and its execution. This step called compilation. During compilation, the code is optimised for the particular hardware and processor available, which substantially improves execution time."
   ]
  },
  {
   "cell_type": "markdown",
   "metadata": {
    "tags": []
   },
   "source": [
    "## Basic `python` operations and Data Types"
   ]
  },
  {
   "cell_type": "code",
   "execution_count": 2,
   "metadata": {
    "tags": [],
    "zanadu": {
     "code_type": ""
    }
   },
   "outputs": [
    {
     "name": "stdout",
     "output_type": "stream",
     "text": [
      "2 <class 'int'>\n",
      "2.0 <class 'float'>\n"
     ]
    }
   ],
   "source": [
    "a = 5\n",
    "b = 2\n",
    "c = 2.0\n",
    "print(b, type(b))\n",
    "print(c, type(c))"
   ]
  },
  {
   "cell_type": "code",
   "execution_count": 5,
   "metadata": {
    "tags": [],
    "zanadu": {
     "code_type": ""
    }
   },
   "outputs": [
    {
     "name": "stdout",
     "output_type": "stream",
     "text": [
      "4.0\n",
      "25.0\n",
      "<class 'int'>\n",
      "<class 'float'>\n"
     ]
    }
   ],
   "source": [
    "print(c+b)\n",
    "print(a**c) # Note that the double ** in the power operator\n",
    "print(type(a+b))\n",
    "print(type(a*c))"
   ]
  },
  {
   "cell_type": "markdown",
   "metadata": {},
   "source": [
    "**Tip:** Use `#` in your Code Cells to comment your code. Comments made after `#` will not be executed"
   ]
  },
  {
   "cell_type": "markdown",
   "metadata": {
    "zanadu": {}
   },
   "source": [
    "Naming variables Conventions:<br>\n",
    "- Start with lowercase letter or underscore<br>\n",
    "- camelCase<br>\n",
    "- variables written in upper case are usually constants<br>\n",
    "- one cannot use a keyword (reserved word) as a variable name (print, for, end, while,...)."
   ]
  },
  {
   "cell_type": "code",
   "execution_count": 3,
   "metadata": {},
   "outputs": [],
   "source": [
    "myNewEstimateOfPi = 3.1"
   ]
  },
  {
   "cell_type": "markdown",
   "metadata": {
    "tags": []
   },
   "source": [
    "# Lists, Tuples and indexing\n",
    "Although single variables are useful, it is often the case where we need to store multiple variables as arrays (think of time series). Lists and Tuples allow to do so. The difference to define a tuple or a list is the use of `[]` or `()`"
   ]
  },
  {
   "cell_type": "code",
   "execution_count": 7,
   "metadata": {
    "tags": []
   },
   "outputs": [
    {
     "name": "stdout",
     "output_type": "stream",
     "text": [
      "First element of my list is 1.5\n",
      "Second element of my list is 2.1\n",
      "Last element of my tuple is 5\n",
      "Second last element of my tuple is ok\n"
     ]
    }
   ],
   "source": [
    "my_list = [1.5,2.1,3.3,4.7,5.2]\n",
    "\n",
    "my_tuple = (1,2,3,\"ok\",5)\n",
    "\n",
    "# We can access list or tuple elements using their index\n",
    "\n",
    "print(\"First element of my list is\", my_list[0])\n",
    "\n",
    "print(\"Second element of my list is\", my_list[1])\n",
    "\n",
    "print(\"Last element of my tuple is\", my_tuple[-1])\n",
    "\n",
    "print(\"Second last element of my tuple is\", my_tuple[-2])"
   ]
  },
  {
   "cell_type": "markdown",
   "metadata": {},
   "source": [
    "We can also select a range of elements rather than just one using  `first_index:last_index+1` or `first_index:last_index+1:step_size`  syntax and it will return a sub-list"
   ]
  },
  {
   "cell_type": "code",
   "execution_count": 8,
   "metadata": {
    "tags": []
   },
   "outputs": [
    {
     "name": "stdout",
     "output_type": "stream",
     "text": [
      "First two elements of my list are [1.5, 2.1]\n"
     ]
    }
   ],
   "source": [
    "print(\"First two elements of my list are\", my_list[0:2]) ## SLICING"
   ]
  },
  {
   "cell_type": "code",
   "execution_count": 9,
   "metadata": {},
   "outputs": [
    {
     "name": "stdout",
     "output_type": "stream",
     "text": [
      "All elements between two indices, with a step: [1.5, 3.3]\n"
     ]
    }
   ],
   "source": [
    "print(\"All elements between two indices, with a step:\",  my_list[0:3:2])"
   ]
  },
  {
   "cell_type": "markdown",
   "metadata": {},
   "source": [
    "### List and Tuple types\n",
    "Lists and tuples is that they can hold different types, making them very flexible"
   ]
  },
  {
   "cell_type": "code",
   "execution_count": 10,
   "metadata": {
    "tags": []
   },
   "outputs": [
    {
     "name": "stdout",
     "output_type": "stream",
     "text": [
      "First element type:  <class 'int'>\n",
      "Second element type:  <class 'bool'>\n",
      "Third element type:  <class 'float'>\n"
     ]
    }
   ],
   "source": [
    "my_list_different_types = [100,True,75.4]\n",
    "\n",
    "print(\"First element type: \", type(my_list_different_types[0]))\n",
    "print(\"Second element type: \", type(my_list_different_types[1]))\n",
    "print(\"Third element type: \", type(my_list_different_types[2]))"
   ]
  },
  {
   "cell_type": "markdown",
   "metadata": {},
   "source": [
    "## Difference between Lists (mutable) vs Tuples (immutable)\n",
    "\n",
    "- Lists are mutable objects: they can be modified after their creation.\n",
    "\n",
    "- Tuples are immutable objects: they cannot be modified after their creation."
   ]
  },
  {
   "cell_type": "markdown",
   "metadata": {},
   "source": [
    "### Adding elements to an existing list\n",
    "\n",
    "Since lists are mutable, it is possible to modify their size using several commands as `append` ,`insert` or `delete`. There are many functions available for list so please do have a look at google"
   ]
  },
  {
   "cell_type": "code",
   "execution_count": 11,
   "metadata": {},
   "outputs": [
    {
     "name": "stdout",
     "output_type": "stream",
     "text": [
      "[1, 2, 3, 5]\n",
      "[10, 1, 2, 3, 5]\n",
      "[10, 2, 3, 5]\n"
     ]
    }
   ],
   "source": [
    "my_list = [1,2,3]\n",
    "\n",
    "my_list.append(5)\n",
    "print(my_list)\n",
    "\n",
    "my_list.insert(0,10) # First argument is the index to insert and the second argument is the value to be added\n",
    "print(my_list)\n",
    "\n",
    "my_list.remove(1) # ELement we want to remove\n",
    "print(my_list)"
   ]
  },
  {
   "cell_type": "code",
   "execution_count": 12,
   "metadata": {},
   "outputs": [
    {
     "name": "stdout",
     "output_type": "stream",
     "text": [
      "[1.1, 2.2, 3.3]\n",
      "[10, 2.2, 3.3]\n"
     ]
    }
   ],
   "source": [
    "my_list = [1.1, 2.2, 3.3]\n",
    "my_copy = my_list\n",
    "print(my_copy)\n",
    "\n",
    "my_copy[0] = 10\n",
    "\n",
    "print(my_copy)"
   ]
  },
  {
   "cell_type": "code",
   "execution_count": 13,
   "metadata": {},
   "outputs": [
    {
     "name": "stdout",
     "output_type": "stream",
     "text": [
      "[10, 2.2, 3.3]\n"
     ]
    }
   ],
   "source": [
    "print(my_list)"
   ]
  },
  {
   "cell_type": "markdown",
   "metadata": {},
   "source": [
    "To avoid this issue we need to make a deepcopy using the copy module as below"
   ]
  },
  {
   "cell_type": "code",
   "execution_count": 14,
   "metadata": {},
   "outputs": [
    {
     "name": "stdout",
     "output_type": "stream",
     "text": [
      "[10, 2.2, 3.3]\n",
      "[1.1, 2.2, 3.3]\n"
     ]
    }
   ],
   "source": [
    "import copy\n",
    "my_list = [1.1, 2.2, 3.3]\n",
    "\n",
    "my_copy = copy.deepcopy(my_list)\n",
    "my_copy[0] = 10\n",
    "\n",
    "print(my_copy)\n",
    "print(my_list)"
   ]
  },
  {
   "cell_type": "markdown",
   "metadata": {},
   "source": [
    "## Loops\n",
    "The for loop is one of the fundamental operation in programming. In the following example, the loop is over an array. Note that the code running inside the loop has an extra indentation level"
   ]
  },
  {
   "cell_type": "code",
   "execution_count": 15,
   "metadata": {
    "tags": []
   },
   "outputs": [
    {
     "name": "stdout",
     "output_type": "stream",
     "text": [
      "loop  0\n",
      "loop  1\n",
      "loop  2\n",
      "loop  3\n",
      "loop  4\n",
      "loop  5\n",
      "loop  6\n",
      "loop  7\n",
      "loop  8\n",
      "loop  9\n",
      "Loop finished\n"
     ]
    }
   ],
   "source": [
    "for i in range(10):\n",
    "    print(\"loop \", i)\n",
    "print(\"Loop finished\")"
   ]
  },
  {
   "cell_type": "code",
   "execution_count": 16,
   "metadata": {
    "tags": [],
    "zanadu": {
     "code_type": ""
    }
   },
   "outputs": [
    {
     "name": "stdout",
     "output_type": "stream",
     "text": [
      "Loop number 0\n",
      "Loop number 1\n",
      "Loop number 2\n",
      "Loop number 3\n",
      "Loop number 4\n",
      "Loop number 5\n",
      "Loop number 6\n",
      "Loop number 7\n",
      "Loop number 8\n",
      "Loop number 9\n",
      "Note that it always starts at 0!!!\n"
     ]
    }
   ],
   "source": [
    "for i in range(10): ## range(10) = [0, 1, 2, 3, 4, 5, 6, 7, 8, 9]\n",
    "    print(\"Loop number\", i)\n",
    "\n",
    "print(\"Note that it always starts at 0!!!\")"
   ]
  },
  {
   "cell_type": "markdown",
   "metadata": {},
   "source": [
    "Carefull!! The value of `i` (or whichever variable name you choose to loop) does not go out of scope and it will keep its last value"
   ]
  },
  {
   "cell_type": "code",
   "execution_count": 17,
   "metadata": {
    "tags": []
   },
   "outputs": [
    {
     "data": {
      "text/plain": [
       "9"
      ]
     },
     "execution_count": 17,
     "metadata": {},
     "output_type": "execute_result"
    }
   ],
   "source": [
    "i"
   ]
  },
  {
   "cell_type": "markdown",
   "metadata": {},
   "source": [
    "## **Tip**:  \n",
    "You can also loop a list or use `enumerate` to loop over the list and index simultaneously"
   ]
  },
  {
   "cell_type": "code",
   "execution_count": 18,
   "metadata": {
    "tags": []
   },
   "outputs": [],
   "source": [
    "myList = ['hello',1,True,1000]"
   ]
  },
  {
   "cell_type": "code",
   "execution_count": 19,
   "metadata": {
    "tags": []
   },
   "outputs": [
    {
     "name": "stdout",
     "output_type": "stream",
     "text": [
      "hello\n",
      "1\n",
      "True\n",
      "1000\n"
     ]
    }
   ],
   "source": [
    "for element in myList: \n",
    "    print(element)"
   ]
  },
  {
   "cell_type": "code",
   "execution_count": 20,
   "metadata": {
    "tags": []
   },
   "outputs": [
    {
     "name": "stdout",
     "output_type": "stream",
     "text": [
      "Element 0 in list is: hello\n",
      "Element 1 in list is: 1\n",
      "Element 2 in list is: True\n",
      "Element 3 in list is: 1000\n",
      "-------\n"
     ]
    }
   ],
   "source": [
    "for (index,element) in enumerate(myList):\n",
    "    print(\"Element\",index,\"in list is:\",element)\n",
    "    \n",
    "print(\"-------\")"
   ]
  },
  {
   "cell_type": "markdown",
   "metadata": {
    "tags": []
   },
   "source": [
    "# List comprehension \n",
    "Another nice feature of lists is that it allows to run a for loop in a single line and output the result into a list\n",
    "\n"
   ]
  },
  {
   "cell_type": "code",
   "execution_count": 21,
   "metadata": {
    "tags": []
   },
   "outputs": [],
   "source": [
    "my_list = [1,2,3,4,5]\n",
    "my_list_squared = []\n",
    "\n",
    "for i in my_list:\n",
    "    isquared = i*i\n",
    "    my_list_squared.append(isquared)"
   ]
  },
  {
   "cell_type": "code",
   "execution_count": 22,
   "metadata": {
    "tags": []
   },
   "outputs": [
    {
     "data": {
      "text/plain": [
       "[1, 4, 9, 16, 25]"
      ]
     },
     "execution_count": 22,
     "metadata": {},
     "output_type": "execute_result"
    }
   ],
   "source": [
    "my_list_squared"
   ]
  },
  {
   "cell_type": "code",
   "execution_count": 23,
   "metadata": {
    "tags": []
   },
   "outputs": [
    {
     "name": "stdout",
     "output_type": "stream",
     "text": [
      "[1, 4, 9, 16, 25]\n"
     ]
    }
   ],
   "source": [
    "my_list_squared = [element**2 for element in my_list]\n",
    "print(my_list_squared)"
   ]
  },
  {
   "cell_type": "markdown",
   "metadata": {},
   "source": [
    "A dictionary is a more advanced type of list which allows one to assign labels and to call elements  of the list by their labels."
   ]
  },
  {
   "cell_type": "code",
   "execution_count": 24,
   "metadata": {
    "tags": []
   },
   "outputs": [],
   "source": [
    "stock_dic = {'AAPL': \n",
    "                     {\"open\":100.1, \"high\":102.5, \"low\": 99.5, \"close\":101.0}, \n",
    "                     'MSFT':\n",
    "                     {\"open\": 55.5, \"high\": 65.5, \"low\": 50.0, \"close\":52.0}}"
   ]
  },
  {
   "cell_type": "code",
   "execution_count": 25,
   "metadata": {
    "tags": []
   },
   "outputs": [
    {
     "name": "stdout",
     "output_type": "stream",
     "text": [
      "{'open': 100.1, 'high': 102.5, 'low': 99.5, 'close': 101.0}\n",
      "AAPL open is : 100.1\n",
      "symbols in my dictionary are: dict_keys(['AAPL', 'MSFT'])\n",
      "AAPL Highest value of the day is  102.5\n",
      "MSFT Highest value of the day is  65.5\n"
     ]
    }
   ],
   "source": [
    "print(stock_dic['AAPL'])\n",
    "\n",
    "print(\"AAPL open is :\", stock_dic[\"AAPL\"][\"open\"])\n",
    "\n",
    "print(\"symbols in my dictionary are:\", stock_dic.keys())\n",
    "\n",
    "for symbol in stock_dic.keys():\n",
    "    print(symbol, \"Highest value of the day is \", stock_dic[symbol][\"high\"])"
   ]
  },
  {
   "cell_type": "markdown",
   "metadata": {},
   "source": [
    "Dictionaries can hold complex data structures, yet have an intuitive access route through keys:"
   ]
  },
  {
   "cell_type": "code",
   "execution_count": 26,
   "metadata": {
    "tags": []
   },
   "outputs": [],
   "source": [
    "stock_op__dic = {'AAPL': \n",
    "                     {\"underlying\":\n",
    "                     {\"open\":100.1, \"high\":102.5, \"low\": 99.5, \"close\":101.0},\n",
    "                     \"options\":\n",
    "                     {\"strike\": 100, \"option_type\": \"Call\", \"price\": 1.5}}, \n",
    "                     'MSFT':\n",
    "                     {\"underlying\":\n",
    "                     {\"open\": 55.5, \"high\": 65.5,\"low\": 50.0, \"close\":52.0},\n",
    "                     \"options\":\n",
    "                     {\"strike\": 50, \"option_type\": \"Put\", \"price\": 2.5}}} "
   ]
  },
  {
   "cell_type": "code",
   "execution_count": 27,
   "metadata": {
    "tags": []
   },
   "outputs": [
    {
     "name": "stdout",
     "output_type": "stream",
     "text": [
      "AAPL Call option with strike 100 has price 1.5\n",
      "MSFT Put option with strike 50 has price 2.5\n"
     ]
    }
   ],
   "source": [
    "for symbol in stock_op__dic.keys():\n",
    "    print(symbol, stock_op__dic[symbol][\"options\"][\"option_type\"],  \n",
    "          \"option with strike\", \n",
    "          stock_op__dic[symbol][\"options\"][\"strike\"],\"has price\", \n",
    "          stock_op__dic[symbol][\"options\"][\"price\"])\n",
    "    \n",
    "    "
   ]
  },
  {
   "cell_type": "markdown",
   "metadata": {
    "tags": []
   },
   "source": [
    "# Conditional expressions (IF/THEN/ELSE statements)"
   ]
  },
  {
   "cell_type": "code",
   "execution_count": 28,
   "metadata": {
    "tags": []
   },
   "outputs": [
    {
     "name": "stdout",
     "output_type": "stream",
     "text": [
      "variable a is strictly greater than 4\n"
     ]
    }
   ],
   "source": [
    "a = 8\n",
    "\n",
    "if a > 4:\n",
    "    print(\"variable a is strictly greater than 4\")\n",
    "else:\n",
    "    print(\"variable a is smaller or equal to 4\")"
   ]
  },
  {
   "cell_type": "markdown",
   "metadata": {
    "tags": []
   },
   "source": [
    "# Functions\n",
    "\n",
    "Python allows to define functions, function take a number of input variables, then will perform a task and will return a number of output variables."
   ]
  },
  {
   "cell_type": "code",
   "execution_count": 29,
   "metadata": {
    "tags": []
   },
   "outputs": [],
   "source": [
    "def myFunction(x, y):\n",
    "    \"\"\"This function outputs the sum of two arguments\n",
    "    x: first argument: float\n",
    "    y: second argument: float\n",
    "    \n",
    "    output: sum of x and y\n",
    "    \"\"\"\n",
    "    myoutput = x + y\n",
    "    \n",
    "    return myoutput"
   ]
  },
  {
   "cell_type": "markdown",
   "metadata": {},
   "source": [
    "Once the function is defined (as we did with `myfunction`) we can use it any time "
   ]
  },
  {
   "cell_type": "code",
   "execution_count": 30,
   "metadata": {
    "tags": []
   },
   "outputs": [
    {
     "data": {
      "text/plain": [
       "11.1"
      ]
     },
     "execution_count": 30,
     "metadata": {},
     "output_type": "execute_result"
    }
   ],
   "source": [
    "myFunction(8,3.1)"
   ]
  },
  {
   "cell_type": "code",
   "execution_count": 31,
   "metadata": {
    "tags": []
   },
   "outputs": [
    {
     "data": {
      "text/plain": [
       "'abcdef'"
      ]
     },
     "execution_count": 31,
     "metadata": {},
     "output_type": "execute_result"
    }
   ],
   "source": [
    "myFunction(\"abc\", \"def\")"
   ]
  },
  {
   "cell_type": "markdown",
   "metadata": {},
   "source": [
    "Let us check the following formula, valid for any integer $n$:\n",
    "$$\n",
    "\\sum_{k=1}^{n} k  = \\frac{n(n+1)}{2}\n",
    "$$"
   ]
  },
  {
   "cell_type": "code",
   "execution_count": 32,
   "metadata": {
    "tags": []
   },
   "outputs": [],
   "source": [
    "def f(x):\n",
    "    return x"
   ]
  },
  {
   "cell_type": "code",
   "execution_count": 33,
   "metadata": {
    "tags": []
   },
   "outputs": [],
   "source": [
    "def sumInteg(n):\n",
    "    res = 0\n",
    "    for k in range(1, n+1): \n",
    "        res = res + k\n",
    "    return res\n",
    "\n",
    "###Using List comprehension we can write the above function in a single line\n",
    "def sumInteg_list_comprehension(n):\n",
    "    return sum([i for i in range(1, n+1)])\n",
    "\n",
    "###Using List comprehension we can write the above function in a single line\n",
    "def sumInteg_list_comprehension2(n):\n",
    "    return sum(range(1, n+1))\n",
    "\n",
    "#Here goes the theoretical formula\n",
    "def sumInteg_Formula(n):\n",
    "    return n*(n+1)/2"
   ]
  },
  {
   "cell_type": "code",
   "execution_count": 34,
   "metadata": {
    "tags": []
   },
   "outputs": [
    {
     "name": "stdout",
     "output_type": "stream",
     "text": [
      "Sum: 28680\n",
      "Sum: 28680\n",
      "Sum: 28680\n",
      "Theoretical: 28680.0\n"
     ]
    }
   ],
   "source": [
    "n = 239\n",
    "print(\"Sum:\", sumInteg(n))\n",
    "print(\"Sum:\", sumInteg_list_comprehension(n))\n",
    "print(\"Sum:\", sumInteg_list_comprehension2(n))\n",
    "print(\"Theoretical:\", sumInteg_Formula(n))"
   ]
  },
  {
   "cell_type": "markdown",
   "metadata": {},
   "source": [
    "### Computation time?"
   ]
  },
  {
   "cell_type": "code",
   "execution_count": 35,
   "metadata": {
    "tags": []
   },
   "outputs": [],
   "source": [
    "import time"
   ]
  },
  {
   "cell_type": "code",
   "execution_count": 36,
   "metadata": {
    "tags": []
   },
   "outputs": [
    {
     "name": "stdout",
     "output_type": "stream",
     "text": [
      "Sum: 50000005000000 0.649\n",
      "Sum list: 50000005000000 0.9112\n",
      "Sum list 2: 50000005000000 0.4254\n",
      "Theoretical: 50000005000000.0 0.0\n"
     ]
    }
   ],
   "source": [
    "n = 10000000\n",
    "\n",
    "t0 = time.time()\n",
    "_sumInteg = sumInteg(n)\n",
    "t1 = time.time() - t0\n",
    "\n",
    "t0 = time.time()\n",
    "_sumInteg_list_comprehension = sumInteg_list_comprehension(n)\n",
    "t2 = time.time() - t0\n",
    "\n",
    "t0 = time.time()\n",
    "_sumInteg_list_comprehension2 = sumInteg_list_comprehension2(n)\n",
    "t3 = time.time() - t0\n",
    "\n",
    "t0 = time.time()\n",
    "_sumInteg_Formula = sumInteg_Formula(n)\n",
    "t5 = time.time() - t0\n",
    "\n",
    "print(\"Sum:\", sumInteg(n), round(t1, 4))\n",
    "print(\"Sum list:\", _sumInteg_list_comprehension, round(t2, 4))\n",
    "print(\"Sum list 2:\", _sumInteg_list_comprehension2, round(t3, 4))\n",
    "print(\"Theoretical:\", _sumInteg_Formula, round(t5, 4))"
   ]
  },
  {
   "cell_type": "code",
   "execution_count": 37,
   "metadata": {
    "tags": []
   },
   "outputs": [
    {
     "name": "stdout",
     "output_type": "stream",
     "text": [
      "f: 200000070000000 1.7497\n",
      "g: 200000070000000 1.2484\n"
     ]
    }
   ],
   "source": [
    "def f(n, a):\n",
    "    res = 0\n",
    "    for k in range(1, n+1): \n",
    "        res = res + (k+a)\n",
    "    return res\n",
    "\n",
    "\n",
    "def g(n, a):\n",
    "    res = 0\n",
    "    for k in range(1, n+1): \n",
    "        res = res + k\n",
    "    return res + n*a\n",
    "\n",
    "\n",
    "\n",
    "n = 20000000\n",
    "a = 3\n",
    "\n",
    "t0 = time.time()\n",
    "ff = f(n,a)\n",
    "t1 = time.time() - t0\n",
    "\n",
    "t0 = time.time()\n",
    "gg = g(n,a)\n",
    "t2 = time.time() - t0\n",
    "\n",
    "\n",
    "print(\"f:\", ff, round(t1, 4))\n",
    "print(\"g:\", gg, round(t2, 4))"
   ]
  },
  {
   "cell_type": "markdown",
   "metadata": {},
   "source": [
    "### Introducing and computing with `numpy`"
   ]
  },
  {
   "cell_type": "code",
   "execution_count": 38,
   "metadata": {
    "tags": []
   },
   "outputs": [],
   "source": [
    "import numpy as np"
   ]
  },
  {
   "cell_type": "markdown",
   "metadata": {},
   "source": [
    "### For mathematical functions"
   ]
  },
  {
   "cell_type": "code",
   "execution_count": 39,
   "metadata": {
    "tags": []
   },
   "outputs": [],
   "source": [
    "x = 0.2"
   ]
  },
  {
   "cell_type": "code",
   "execution_count": 40,
   "metadata": {
    "tags": []
   },
   "outputs": [
    {
     "data": {
      "text/plain": [
       "(0.9800665778412416, 0.19866933079506122, 1.2214027581601699)"
      ]
     },
     "execution_count": 40,
     "metadata": {},
     "output_type": "execute_result"
    }
   ],
   "source": [
    "np.cos(x), np.sin(x), np.exp(x)"
   ]
  },
  {
   "cell_type": "markdown",
   "metadata": {},
   "source": [
    "**Message:** very fast!"
   ]
  },
  {
   "cell_type": "markdown",
   "metadata": {},
   "source": [
    "### Computation time"
   ]
  },
  {
   "cell_type": "code",
   "execution_count": 41,
   "metadata": {
    "tags": []
   },
   "outputs": [],
   "source": [
    "def sumInteg_np(n):\n",
    "    return np.sum(np.linspace(1,n+1, n))"
   ]
  },
  {
   "cell_type": "code",
   "execution_count": 42,
   "metadata": {
    "tags": []
   },
   "outputs": [
    {
     "name": "stdout",
     "output_type": "stream",
     "text": [
      "Sum: 50000005000000 0.6556\n",
      "Sum list: 50000005000000 0.9424\n",
      "Sum list 2: 50000005000000 0.4231\n",
      "Sum numpy: 50000010000000.08 0.0544\n",
      "Theoretical: 50000005000000.0 0.0\n"
     ]
    }
   ],
   "source": [
    "n = 10000000\n",
    "\n",
    "t0 = time.time()\n",
    "_sumInteg = sumInteg(n)\n",
    "t1 = time.time() - t0\n",
    "\n",
    "t0 = time.time()\n",
    "_sumInteg_list_comprehension = sumInteg_list_comprehension(n)\n",
    "t2 = time.time() - t0\n",
    "\n",
    "t0 = time.time()\n",
    "_sumInteg_list_comprehension2 = sumInteg_list_comprehension2(n)\n",
    "t3 = time.time() - t0\n",
    "\n",
    "t0 = time.time()\n",
    "_sumInteg_np = sumInteg_np(n)\n",
    "t4 = time.time() - t0\n",
    "\n",
    "t0 = time.time()\n",
    "_sumInteg_Formula = sumInteg_Formula(n)\n",
    "t5 = time.time() - t0\n",
    "\n",
    "print(\"Sum:\", sumInteg(n), round(t1, 4))\n",
    "print(\"Sum list:\", _sumInteg_list_comprehension, round(t2, 4))\n",
    "print(\"Sum list 2:\", _sumInteg_list_comprehension2, round(t3, 4))\n",
    "print(\"Sum numpy:\", _sumInteg_np, round(t4, 4))\n",
    "print(\"Theoretical:\", _sumInteg_Formula, round(t5, 4))"
   ]
  },
  {
   "cell_type": "code",
   "execution_count": 44,
   "metadata": {
    "tags": []
   },
   "outputs": [],
   "source": [
    "itemised_dict = {\n",
    "    \"fish\": {\"quantity\": 4}, \n",
    "    \"noodles\": {\"quantity\": 5}, \n",
    "    \"dessert\": {\"quantity\": 10}\n",
    "}\n",
    "\n",
    "default_prices = {\n",
    "    \"fish\": {\"price\": 120}, \n",
    "    \"noodles\": {\"price\": 80}, \n",
    "    \"dessert\": {\"price\": 1000}\n",
    "}"
   ]
  },
  {
   "cell_type": "code",
   "execution_count": 45,
   "metadata": {},
   "outputs": [],
   "source": [
    "def dinner_check(itemised_dict, prices_dict = default_prices):\n",
    "    return x**2 + y"
   ]
  },
  {
   "cell_type": "code",
   "execution_count": 48,
   "metadata": {},
   "outputs": [
    {
     "ename": "NameError",
     "evalue": "name 'y' is not defined",
     "output_type": "error",
     "traceback": [
      "\u001b[1;31m---------------------------------------------------------------------------\u001b[0m",
      "\u001b[1;31mNameError\u001b[0m                                 Traceback (most recent call last)",
      "\u001b[1;32m~\\AppData\\Local\\Temp\\ipykernel_17028\\1483123684.py\u001b[0m in \u001b[0;36m<module>\u001b[1;34m\u001b[0m\n\u001b[1;32m----> 1\u001b[1;33m \u001b[0mdinner_check\u001b[0m\u001b[1;33m(\u001b[0m\u001b[0mitemised_dict\u001b[0m\u001b[1;33m)\u001b[0m\u001b[1;33m\u001b[0m\u001b[1;33m\u001b[0m\u001b[0m\n\u001b[0m",
      "\u001b[1;32m~\\AppData\\Local\\Temp\\ipykernel_17028\\4068549084.py\u001b[0m in \u001b[0;36mdinner_check\u001b[1;34m(itemised_dict, prices_dict)\u001b[0m\n\u001b[0;32m      1\u001b[0m \u001b[1;32mdef\u001b[0m \u001b[0mdinner_check\u001b[0m\u001b[1;33m(\u001b[0m\u001b[0mitemised_dict\u001b[0m\u001b[1;33m,\u001b[0m \u001b[0mprices_dict\u001b[0m \u001b[1;33m=\u001b[0m \u001b[0mdefault_prices\u001b[0m\u001b[1;33m)\u001b[0m\u001b[1;33m:\u001b[0m\u001b[1;33m\u001b[0m\u001b[1;33m\u001b[0m\u001b[0m\n\u001b[1;32m----> 2\u001b[1;33m     \u001b[1;32mreturn\u001b[0m \u001b[0mx\u001b[0m\u001b[1;33m**\u001b[0m\u001b[1;36m2\u001b[0m \u001b[1;33m+\u001b[0m \u001b[0my\u001b[0m\u001b[1;33m\u001b[0m\u001b[1;33m\u001b[0m\u001b[0m\n\u001b[0m",
      "\u001b[1;31mNameError\u001b[0m: name 'y' is not defined"
     ]
    }
   ],
   "source": [
    "dinner_check(itemised_dict)"
   ]
  },
  {
   "cell_type": "markdown",
   "metadata": {},
   "source": [
    "## Back to functions"
   ]
  },
  {
   "cell_type": "markdown",
   "metadata": {},
   "source": [
    "A function can take several arguments, and can also take keyword arguments.\n",
    "While the former are compulsory, the latter do not need to be entered when calling the function."
   ]
  },
  {
   "cell_type": "code",
   "execution_count": 49,
   "metadata": {
    "tags": []
   },
   "outputs": [
    {
     "name": "stdout",
     "output_type": "stream",
     "text": [
      "4\n",
      "5\n"
     ]
    }
   ],
   "source": [
    "def myFunction_several(x, a=1, b=0):\n",
    "    return a*x + b\n",
    "\n",
    "print(myFunction_several(1, 4))\n",
    "print(myFunction_several(1, b=4))\n"
   ]
  },
  {
   "cell_type": "code",
   "execution_count": 50,
   "metadata": {
    "tags": []
   },
   "outputs": [
    {
     "ename": "ZeroDivisionError",
     "evalue": "float division by zero",
     "output_type": "error",
     "traceback": [
      "\u001b[1;31m---------------------------------------------------------------------------\u001b[0m",
      "\u001b[1;31mZeroDivisionError\u001b[0m                         Traceback (most recent call last)",
      "\u001b[1;32m~\\AppData\\Local\\Temp\\ipykernel_17028\\2482518061.py\u001b[0m in \u001b[0;36m<module>\u001b[1;34m\u001b[0m\n\u001b[1;32m----> 1\u001b[1;33m \u001b[1;36m1.\u001b[0m\u001b[1;33m/\u001b[0m\u001b[1;36m0\u001b[0m\u001b[1;33m\u001b[0m\u001b[1;33m\u001b[0m\u001b[0m\n\u001b[0m",
      "\u001b[1;31mZeroDivisionError\u001b[0m: float division by zero"
     ]
    }
   ],
   "source": [
    "1./0"
   ]
  },
  {
   "cell_type": "markdown",
   "metadata": {},
   "source": [
    "The nature of the error is useful, but sometimes we don't want the program to stop and would rather just skip this kind of error. This is the use for `try/except`"
   ]
  },
  {
   "cell_type": "code",
   "execution_count": 51,
   "metadata": {
    "tags": []
   },
   "outputs": [],
   "source": [
    "def sum(x):\n",
    "    return x"
   ]
  },
  {
   "cell_type": "code",
   "execution_count": 52,
   "metadata": {
    "tags": []
   },
   "outputs": [
    {
     "data": {
      "text/plain": [
       "range(0, 4)"
      ]
     },
     "execution_count": 52,
     "metadata": {},
     "output_type": "execute_result"
    }
   ],
   "source": [
    "range(4)"
   ]
  },
  {
   "cell_type": "code",
   "execution_count": 53,
   "metadata": {
    "tags": []
   },
   "outputs": [
    {
     "ename": "ZeroDivisionError",
     "evalue": "float division by zero",
     "output_type": "error",
     "traceback": [
      "\u001b[1;31m---------------------------------------------------------------------------\u001b[0m",
      "\u001b[1;31mZeroDivisionError\u001b[0m                         Traceback (most recent call last)",
      "\u001b[1;32m~\\AppData\\Local\\Temp\\ipykernel_17028\\3381498884.py\u001b[0m in \u001b[0;36m<module>\u001b[1;34m\u001b[0m\n\u001b[0;32m      1\u001b[0m \u001b[1;32mfor\u001b[0m \u001b[0mi\u001b[0m \u001b[1;32min\u001b[0m \u001b[0mrange\u001b[0m\u001b[1;33m(\u001b[0m\u001b[1;36m5\u001b[0m\u001b[1;33m)\u001b[0m\u001b[1;33m:\u001b[0m\u001b[1;33m\u001b[0m\u001b[1;33m\u001b[0m\u001b[0m\n\u001b[1;32m----> 2\u001b[1;33m     \u001b[0mprint\u001b[0m\u001b[1;33m(\u001b[0m\u001b[1;36m1.\u001b[0m\u001b[1;33m/\u001b[0m\u001b[0mi\u001b[0m\u001b[1;33m)\u001b[0m\u001b[1;33m\u001b[0m\u001b[1;33m\u001b[0m\u001b[0m\n\u001b[0m",
      "\u001b[1;31mZeroDivisionError\u001b[0m: float division by zero"
     ]
    }
   ],
   "source": [
    "for i in range(5):\n",
    "    print(1./i)"
   ]
  },
  {
   "cell_type": "code",
   "execution_count": 54,
   "metadata": {
    "tags": []
   },
   "outputs": [
    {
     "name": "stdout",
     "output_type": "stream",
     "text": [
      "inf\n",
      "1.0\n",
      "0.5\n",
      "0.3333333333333333\n",
      "0.25\n"
     ]
    },
    {
     "name": "stderr",
     "output_type": "stream",
     "text": [
      "C:\\Users\\lukas\\AppData\\Local\\Temp\\ipykernel_17028\\3833281267.py:2: RuntimeWarning: divide by zero encountered in true_divide\n",
      "  print(1./i)\n"
     ]
    }
   ],
   "source": [
    "for i in np.arange(5):\n",
    "    print(1./i)"
   ]
  },
  {
   "cell_type": "code",
   "execution_count": 55,
   "metadata": {
    "tags": []
   },
   "outputs": [
    {
     "name": "stdout",
     "output_type": "stream",
     "text": [
      "0 0.3333333333333333\n",
      "1 0.5\n",
      "2 1.0\n"
     ]
    },
    {
     "ename": "ZeroDivisionError",
     "evalue": "float division by zero",
     "output_type": "error",
     "traceback": [
      "\u001b[1;31m---------------------------------------------------------------------------\u001b[0m",
      "\u001b[1;31mZeroDivisionError\u001b[0m                         Traceback (most recent call last)",
      "\u001b[1;32m~\\AppData\\Local\\Temp\\ipykernel_17028\\1354812016.py\u001b[0m in \u001b[0;36m<module>\u001b[1;34m\u001b[0m\n\u001b[0;32m      1\u001b[0m \u001b[1;32mfor\u001b[0m \u001b[0mi\u001b[0m \u001b[1;32min\u001b[0m \u001b[0mrange\u001b[0m\u001b[1;33m(\u001b[0m\u001b[1;36m10\u001b[0m\u001b[1;33m)\u001b[0m\u001b[1;33m:\u001b[0m\u001b[1;33m\u001b[0m\u001b[1;33m\u001b[0m\u001b[0m\n\u001b[1;32m----> 2\u001b[1;33m     \u001b[0mprint\u001b[0m\u001b[1;33m(\u001b[0m\u001b[0mi\u001b[0m\u001b[1;33m,\u001b[0m \u001b[1;36m1.0\u001b[0m\u001b[1;33m/\u001b[0m\u001b[1;33m(\u001b[0m\u001b[1;36m3.\u001b[0m\u001b[1;33m-\u001b[0m\u001b[0mi\u001b[0m\u001b[1;33m)\u001b[0m\u001b[1;33m)\u001b[0m\u001b[1;33m\u001b[0m\u001b[1;33m\u001b[0m\u001b[0m\n\u001b[0m",
      "\u001b[1;31mZeroDivisionError\u001b[0m: float division by zero"
     ]
    }
   ],
   "source": [
    "for i in range(10):\n",
    "    print(i, 1.0/(3.-i))"
   ]
  },
  {
   "cell_type": "code",
   "execution_count": 56,
   "metadata": {
    "tags": []
   },
   "outputs": [
    {
     "name": "stdout",
     "output_type": "stream",
     "text": [
      "0 0.3333333333333333\n",
      "1 0.5\n",
      "2 1.0\n",
      "Error detected and index 3 : float division by zero | execution continues\n",
      "4 -1.0\n",
      "5 -0.5\n",
      "6 -0.3333333333333333\n",
      "7 -0.25\n",
      "8 -0.2\n",
      "9 -0.16666666666666666\n"
     ]
    }
   ],
   "source": [
    "for i in range(10):\n",
    "    try:\n",
    "        print(i, 1.0/(3.-i))\n",
    "    except Exception as E:\n",
    "        print(\"Error detected and index\", i,\":\",E,\"| execution continues\")\n",
    "        pass"
   ]
  },
  {
   "cell_type": "markdown",
   "metadata": {},
   "source": [
    "This is very useful as one can record the error message but the code will keep running"
   ]
  },
  {
   "cell_type": "markdown",
   "metadata": {},
   "source": [
    "# Exercises\n",
    "\n",
    "Fill in the following functions"
   ]
  },
  {
   "cell_type": "code",
   "execution_count": null,
   "metadata": {},
   "outputs": [],
   "source": [
    "def compute_areacircle(radius):\n",
    "    \"\"\"\n",
    "    Computes the area of a circle\n",
    "    Input: \n",
    "        radius: float\n",
    "    \"\"\"\n",
    "    \n",
    "    return \n"
   ]
  },
  {
   "cell_type": "code",
   "execution_count": null,
   "metadata": {},
   "outputs": [],
   "source": [
    "def check_palindrome(word):\n",
    "    \"\"\"\n",
    "    Check whether a given word is a palindrome.\n",
    "    Note: a palindrome is a word that reads the same in both directions. For example: \"nan\", \"2002\", ...\n",
    "    Iputs:\n",
    "        word: string\n",
    "    \"\"\"\n",
    "    \n",
    "    return"
   ]
  },
  {
   "cell_type": "code",
   "execution_count": null,
   "metadata": {},
   "outputs": [],
   "source": [
    "def concatenate_lists(list1, list2):\n",
    "    \"\"\"\n",
    "    Concatenate two lists\n",
    "    Inputs:\n",
    "        list1: list\n",
    "        list2: list\n",
    "    \"\"\"\n",
    "    \n",
    "    return "
   ]
  },
  {
   "cell_type": "code",
   "execution_count": null,
   "metadata": {},
   "outputs": [],
   "source": [
    "def extract_digits(number):\n",
    "    \"\"\"\n",
    "    Extract each digit of a given number\n",
    "    Inputs:\n",
    "        number:  int\n",
    "    \"\"\"\n",
    "    \n",
    "    return"
   ]
  }
 ],
 "metadata": {
  "kernelspec": {
   "display_name": "Python 3 (ipykernel)",
   "language": "python",
   "name": "python3"
  },
  "language_info": {
   "codemirror_mode": {
    "name": "ipython",
    "version": 3
   },
   "file_extension": ".py",
   "mimetype": "text/x-python",
   "name": "python",
   "nbconvert_exporter": "python",
   "pygments_lexer": "ipython3",
   "version": "3.9.13"
  },
  "zanadu": {
   "authors": [
    "Antoine Jacquier"
   ],
   "bibliography_data": {},
   "category": "1",
   "clearance": "Internal",
   "group_name": "ImperialMScMathFin",
   "md5": "2121bebe96f4e62db725bd633b355c4a",
   "notebook_id": "B20B0CCC-FB14-4BC5-9BDB-82C8E4FD69DF",
   "python_name": null,
   "reviewer_id": "B81D4EC4-269D-42B3-9975-85BC42EE5712",
   "status": "Approved"
  }
 },
 "nbformat": 4,
 "nbformat_minor": 4
}
