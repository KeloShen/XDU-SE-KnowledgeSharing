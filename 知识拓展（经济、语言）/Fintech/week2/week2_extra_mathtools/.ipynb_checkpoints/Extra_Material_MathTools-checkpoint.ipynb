{
 "cells": [
  {
   "cell_type": "markdown",
   "metadata": {
    "tags": []
   },
   "source": [
    "# **Mathematical tools for Quantitative Finance**\n",
    "---\n",
    "<br>\n",
    " \n",
    "- Copyright (c) Lukas Gonon, 2024. All rights reserved\n",
    "\n",
    "- Author: Lukas Gonon <l.gonon@imperial.ac.uk>\n",
    "\n",
    "- Platform: Tested on Windows 10 with Python 3.9"
   ]
  },
  {
   "cell_type": "markdown",
   "metadata": {},
   "source": [
    "This notebook contains extra material."
   ]
  },
  {
   "cell_type": "code",
   "execution_count": 1,
   "metadata": {
    "tags": []
   },
   "outputs": [],
   "source": [
    "import numpy as np\n",
    "import matplotlib.pylab as plt\n",
    "plt.style.use('dark_background')\n",
    "import time\n",
    "import pandas as pd"
   ]
  },
  {
   "cell_type": "markdown",
   "metadata": {
    "slideshow": {
     "slide_type": "slide"
    }
   },
   "source": [
    "## Session Overview"
   ]
  },
  {
   "cell_type": "markdown",
   "metadata": {},
   "source": [
    "- Vectorisation of functions\n",
    "- Convolutions of functions\n",
    "- Numerical integration\n",
    "- Optimisation and root finding"
   ]
  },
  {
   "cell_type": "markdown",
   "metadata": {
    "slideshow": {
     "slide_type": "slide"
    }
   },
   "source": [
    "## The importance of vectorisation"
   ]
  },
  {
   "cell_type": "markdown",
   "metadata": {},
   "source": [
    "### Reminder on variable types"
   ]
  },
  {
   "cell_type": "code",
   "execution_count": 2,
   "metadata": {
    "tags": []
   },
   "outputs": [
    {
     "name": "stdout",
     "output_type": "stream",
     "text": [
      "range(0, 5) <class 'range'>\n",
      "[0, 1, 2, 3, 4] <class 'list'>\n",
      "[0 1 2 3 4] <class 'numpy.ndarray'>\n"
     ]
    }
   ],
   "source": [
    "xr = range(5)\n",
    "xl = list(xr)\n",
    "xa = np.array(xr)\n",
    "print(xr, type(xr))\n",
    "print(xl, type(xl))\n",
    "print(xa, type(xa))"
   ]
  },
  {
   "cell_type": "code",
   "execution_count": 3,
   "metadata": {
    "tags": []
   },
   "outputs": [
    {
     "name": "stdout",
     "output_type": "stream",
     "text": [
      "0\n",
      "1\n",
      "2\n",
      "3\n",
      "4\n",
      "******************\n",
      "0\n",
      "1\n",
      "2\n",
      "3\n",
      "4\n",
      "******************\n",
      "0\n",
      "1\n",
      "2\n",
      "3\n",
      "4\n"
     ]
    }
   ],
   "source": [
    "for x in xr:\n",
    "    print(x)\n",
    "print(\"******************\")\n",
    "\n",
    "for x in xl:\n",
    "    print(x)\n",
    "    \n",
    "print(\"******************\")\n",
    "for x in xa:\n",
    "    print(x)"
   ]
  },
  {
   "cell_type": "code",
   "execution_count": 8,
   "metadata": {},
   "outputs": [
    {
     "name": "stdout",
     "output_type": "stream",
     "text": [
      "[0 1 2 3 4]  and  [0.  2.1 4.2 6.3 8.4]\n"
     ]
    }
   ],
   "source": [
    "print(xa, \" and \",  2.1*xa)"
   ]
  },
  {
   "cell_type": "code",
   "execution_count": 9,
   "metadata": {
    "tags": []
   },
   "outputs": [
    {
     "ename": "TypeError",
     "evalue": "can't multiply sequence by non-int of type 'float'",
     "output_type": "error",
     "traceback": [
      "\u001b[0;31m---------------------------------------------------------------------------\u001b[0m",
      "\u001b[0;31mTypeError\u001b[0m                                 Traceback (most recent call last)",
      "\u001b[0;32m/var/folders/ly/3n9d71nx23qdhf4_l8q2bjcw0000gn/T/ipykernel_40797/815501148.py\u001b[0m in \u001b[0;36m<module>\u001b[0;34m\u001b[0m\n\u001b[0;32m----> 1\u001b[0;31m \u001b[0mprint\u001b[0m\u001b[0;34m(\u001b[0m\u001b[0mxl\u001b[0m\u001b[0;34m,\u001b[0m \u001b[0;34m\" and \"\u001b[0m\u001b[0;34m,\u001b[0m  \u001b[0;36m2.1\u001b[0m\u001b[0;34m*\u001b[0m\u001b[0mxl\u001b[0m\u001b[0;34m)\u001b[0m\u001b[0;34m\u001b[0m\u001b[0;34m\u001b[0m\u001b[0m\n\u001b[0m",
      "\u001b[0;31mTypeError\u001b[0m: can't multiply sequence by non-int of type 'float'"
     ]
    }
   ],
   "source": [
    "print(xl, \" and \",  2.1*xl)"
   ]
  },
  {
   "cell_type": "code",
   "execution_count": 10,
   "metadata": {
    "tags": []
   },
   "outputs": [
    {
     "ename": "TypeError",
     "evalue": "unsupported operand type(s) for *: 'int' and 'range'",
     "output_type": "error",
     "traceback": [
      "\u001b[0;31m---------------------------------------------------------------------------\u001b[0m",
      "\u001b[0;31mTypeError\u001b[0m                                 Traceback (most recent call last)",
      "\u001b[0;32m/var/folders/ly/3n9d71nx23qdhf4_l8q2bjcw0000gn/T/ipykernel_40797/2058518376.py\u001b[0m in \u001b[0;36m<module>\u001b[0;34m\u001b[0m\n\u001b[0;32m----> 1\u001b[0;31m \u001b[0mprint\u001b[0m\u001b[0;34m(\u001b[0m\u001b[0mxr\u001b[0m\u001b[0;34m,\u001b[0m \u001b[0;34m\" and \"\u001b[0m\u001b[0;34m,\u001b[0m  \u001b[0;36m2\u001b[0m\u001b[0;34m*\u001b[0m\u001b[0mxr\u001b[0m\u001b[0;34m)\u001b[0m\u001b[0;34m\u001b[0m\u001b[0;34m\u001b[0m\u001b[0m\n\u001b[0m",
      "\u001b[0;31mTypeError\u001b[0m: unsupported operand type(s) for *: 'int' and 'range'"
     ]
    }
   ],
   "source": [
    "print(xr, \" and \",  2*xr)"
   ]
  },
  {
   "cell_type": "markdown",
   "metadata": {},
   "source": [
    "TAKE-HOME MESSAGE: \n",
    "- Use np.array() for computations\n",
    "- Use lists and ranges for listing or iterations"
   ]
  },
  {
   "cell_type": "markdown",
   "metadata": {
    "slideshow": {
     "slide_type": "subslide"
    }
   },
   "source": [
    "### Unary functions\n",
    "\n",
    "Consider a simple function $g(x) = \\cos(x)$, that we wish to apply to a vector $(x_i)_{i=1,\\ldots, n}$, for $n$ large.\n",
    "We can either do so by looping over all values of x, or apply the function directly to the vector $x$.\n",
    "A unary function acts on a single argument, such as np.exp(), np.cos(), np.sqrt()....\n",
    "They can however be extended to numpy arrays directly, and map the function to the array."
   ]
  },
  {
   "cell_type": "code",
   "execution_count": 11,
   "metadata": {
    "slideshow": {
     "slide_type": "fragment"
    },
    "tags": []
   },
   "outputs": [],
   "source": [
    "def g(x):\n",
    "    return np.cos(x)"
   ]
  },
  {
   "cell_type": "code",
   "execution_count": 12,
   "metadata": {},
   "outputs": [
    {
     "data": {
      "text/plain": [
       "array([-0.23676813, -0.02852364,  0.75816775,  1.10338269,  0.60163852,\n",
       "        0.84360384, -0.75802623, -0.18300933,  1.52457954,  0.41420994])"
      ]
     },
     "execution_count": 12,
     "metadata": {},
     "output_type": "execute_result"
    }
   ],
   "source": [
    "xx = np.random.normal(0., 1., 10)\n",
    "xx"
   ]
  },
  {
   "cell_type": "code",
   "execution_count": 13,
   "metadata": {},
   "outputs": [
    {
     "data": {
      "text/html": [
       "<div>\n",
       "<style scoped>\n",
       "    .dataframe tbody tr th:only-of-type {\n",
       "        vertical-align: middle;\n",
       "    }\n",
       "\n",
       "    .dataframe tbody tr th {\n",
       "        vertical-align: top;\n",
       "    }\n",
       "\n",
       "    .dataframe thead th {\n",
       "        text-align: right;\n",
       "    }\n",
       "</style>\n",
       "<table border=\"1\" class=\"dataframe\">\n",
       "  <thead>\n",
       "    <tr style=\"text-align: right;\">\n",
       "      <th></th>\n",
       "      <th>Time (seconds)</th>\n",
       "    </tr>\n",
       "  </thead>\n",
       "  <tbody>\n",
       "    <tr>\n",
       "      <th>Loop</th>\n",
       "      <td>1.957955</td>\n",
       "    </tr>\n",
       "    <tr>\n",
       "      <th>cos</th>\n",
       "      <td>0.022975</td>\n",
       "    </tr>\n",
       "    <tr>\n",
       "      <th>g</th>\n",
       "      <td>0.023780</td>\n",
       "    </tr>\n",
       "  </tbody>\n",
       "</table>\n",
       "</div>"
      ],
      "text/plain": [
       "      Time (seconds)\n",
       "Loop        1.957955\n",
       "cos         0.022975\n",
       "g           0.023780"
      ]
     },
     "execution_count": 13,
     "metadata": {},
     "output_type": "execute_result"
    }
   ],
   "source": [
    "n = 1000000\n",
    "xx = np.random.normal(0., 1., n)\n",
    "\n",
    "## Apply the function cos() to a list\n",
    "t0 = time.time()\n",
    "yyLoop = [] ## Creates an empty list\n",
    "for x in xx:\n",
    "    yyLoop.append(g(x)) ## Adds new element to the list\n",
    "dtLoop = time.time() - t0\n",
    "\n",
    "## Apply the vectorised version of the function cos() to a list\n",
    "t0 = time.time()\n",
    "yy1 = np.cos(xx)\n",
    "dt1 = time.time() - t0\n",
    "\n",
    "## Same, but directly to the function g()\n",
    "t0 = time.time()\n",
    "yy2 = g(xx)\n",
    "dt2 = time.time() - t0\n",
    "\n",
    "df = pd.DataFrame([dtLoop, dt1, dt2], index=[\"Loop\", \"cos\", \"g\"], columns=[\"Time (seconds)\"])\n",
    "df.head()"
   ]
  },
  {
   "cell_type": "markdown",
   "metadata": {},
   "source": [
    "Note: these built-in `numpy` functions can be applied (element by element) to arrays of any sizes:"
   ]
  },
  {
   "cell_type": "code",
   "execution_count": 14,
   "metadata": {},
   "outputs": [
    {
     "data": {
      "text/plain": [
       "array([[[0.54926889, 8.83014867, 2.31592455],\n",
       "        [0.76432562, 4.20011802, 0.21849   ],\n",
       "        [1.87398887, 0.45727916, 0.9980549 ]],\n",
       "\n",
       "       [[0.62626372, 3.25242232, 0.27924395],\n",
       "        [3.60829608, 0.63407841, 0.43128918],\n",
       "        [0.65936458, 1.18977361, 1.20608267]],\n",
       "\n",
       "       [[2.60776289, 4.20451977, 0.39712257],\n",
       "        [1.8579173 , 0.2306765 , 0.45946354],\n",
       "        [0.19163207, 1.15438829, 1.37216822]]])"
      ]
     },
     "execution_count": 14,
     "metadata": {},
     "output_type": "execute_result"
    }
   ],
   "source": [
    "xxx = np.random.normal(0., 1.,  (3, 3, 3))\n",
    "yyy = np.exp(xxx)\n",
    "yyy"
   ]
  },
  {
   "cell_type": "markdown",
   "metadata": {},
   "source": [
    "### Binary functions\n",
    "\n",
    "A binary function acts on two arguments, such as np.maximum(), np.multiply(), np.power(). \n",
    "Again, they are naturally extended to functions on arrays by operating component-wise."
   ]
  },
  {
   "cell_type": "code",
   "execution_count": 15,
   "metadata": {},
   "outputs": [
    {
     "name": "stdout",
     "output_type": "stream",
     "text": [
      "xx =  [ 0.37938493 -1.98432854]\n",
      "yy =  [ 0.01993751 -1.36128808]\n"
     ]
    },
    {
     "data": {
      "text/plain": [
       "array([ 0.39932244, -3.34561662])"
      ]
     },
     "execution_count": 15,
     "metadata": {},
     "output_type": "execute_result"
    }
   ],
   "source": [
    "xx = np.random.normal(0., 1., 2)\n",
    "yy = np.random.normal(0., 1., 2)\n",
    "print(\"xx = \", xx)\n",
    "print(\"yy = \", yy)\n",
    "\n",
    "np.add(xx,yy)"
   ]
  },
  {
   "cell_type": "code",
   "execution_count": 16,
   "metadata": {},
   "outputs": [
    {
     "name": "stdout",
     "output_type": "stream",
     "text": [
      "xx = \n",
      "[[-0.89 -0.59]\n",
      " [-0.86  0.6 ]]\n",
      "yy = \n",
      "[[-1.93  0.7 ]]\n",
      "max = \n",
      "[[-0.89  0.7 ]\n",
      " [-0.86  0.7 ]]\n"
     ]
    }
   ],
   "source": [
    "xx = np.random.normal(0., 1., (2,2))\n",
    "yy = np.random.normal(0., 1., (1,2))\n",
    "print(\"xx = \")\n",
    "print(np.round(xx, 2))\n",
    "print(\"yy = \")\n",
    "print(np.round(yy, 2))\n",
    "\n",
    "print(\"max = \")\n",
    "print(np.round(np.maximum(xx, yy), 2))"
   ]
  },
  {
   "cell_type": "markdown",
   "metadata": {},
   "source": [
    "When the two dimensions are not identical, `numpy` operates on shape-like-wise dimensions. This is called broadcasting."
   ]
  },
  {
   "cell_type": "markdown",
   "metadata": {},
   "source": [
    "### Sequential functions\n",
    "\n",
    "They apply to arrays directly, for example np.mean(), np.std(), np.sum(), np.max()."
   ]
  },
  {
   "cell_type": "code",
   "execution_count": 17,
   "metadata": {},
   "outputs": [
    {
     "name": "stdout",
     "output_type": "stream",
     "text": [
      "Sum over a one-dimensional array:  -2.0245625685194852\n",
      "Sum over a multi-dimensional array:  0.7793339284623206\n"
     ]
    }
   ],
   "source": [
    "xx = np.random.normal(0., 1., 10)\n",
    "print(\"Sum over a one-dimensional array: \", np.sum(xx))\n",
    "xx = np.random.normal(0., 1., (4, 6))\n",
    "print(\"Sum over a multi-dimensional array: \", np.sum(xx))"
   ]
  },
  {
   "cell_type": "markdown",
   "metadata": {},
   "source": [
    "*Exercise: Compare np.sum(xx) vs sum(xx) vs loop*"
   ]
  },
  {
   "cell_type": "markdown",
   "metadata": {},
   "source": [
    "#### What about other Python functions???"
   ]
  },
  {
   "cell_type": "code",
   "execution_count": 18,
   "metadata": {},
   "outputs": [],
   "source": [
    "def compareRunTimes(aa):\n",
    "    mm, tt = [], []\n",
    "\n",
    "    t0 = time.time()\n",
    "    m = 0.\n",
    "    for a in aa:\n",
    "        m = m + a\n",
    "    dt = time.time() - t0\n",
    "    mm.append(m)\n",
    "    tt.append(dt)\n",
    "\n",
    "    t0 = time.time()\n",
    "    m = 0.\n",
    "    for a in aa:\n",
    "        m += a\n",
    "    dt = time.time() - t0\n",
    "    mm.append(m)\n",
    "    tt.append(dt)\n",
    "\n",
    "    t0 = time.time()\n",
    "    m = sum(aa)\n",
    "    dt = time.time() - t0\n",
    "    mm.append(m)\n",
    "    tt.append(dt)\n",
    "\n",
    "    t0 = time.time()\n",
    "    m = np.sum(aa, dtype=np.int64)\n",
    "    dt = time.time() - t0\n",
    "    mm.append(m)\n",
    "    tt.append(dt)\n",
    "    \n",
    "    df = pd.DataFrame(list(zip(mm, tt)), index=[\"Loop\", \"Loop2\", \"Built-in\", \"numpy\"], columns = [\"Sum\", \"Time\"])\n",
    "    return df"
   ]
  },
  {
   "cell_type": "code",
   "execution_count": 19,
   "metadata": {},
   "outputs": [],
   "source": [
    "N = 5000000"
   ]
  },
  {
   "cell_type": "code",
   "execution_count": 20,
   "metadata": {},
   "outputs": [
    {
     "name": "stdout",
     "output_type": "stream",
     "text": [
      "Vector of type  <class 'numpy.ndarray'>\n"
     ]
    },
    {
     "data": {
      "text/html": [
       "<div>\n",
       "<style scoped>\n",
       "    .dataframe tbody tr th:only-of-type {\n",
       "        vertical-align: middle;\n",
       "    }\n",
       "\n",
       "    .dataframe tbody tr th {\n",
       "        vertical-align: top;\n",
       "    }\n",
       "\n",
       "    .dataframe thead th {\n",
       "        text-align: right;\n",
       "    }\n",
       "</style>\n",
       "<table border=\"1\" class=\"dataframe\">\n",
       "  <thead>\n",
       "    <tr style=\"text-align: right;\">\n",
       "      <th></th>\n",
       "      <th>Sum</th>\n",
       "      <th>Time</th>\n",
       "    </tr>\n",
       "  </thead>\n",
       "  <tbody>\n",
       "    <tr>\n",
       "      <th>Loop</th>\n",
       "      <td>2.499628e+06</td>\n",
       "      <td>0.798462</td>\n",
       "    </tr>\n",
       "    <tr>\n",
       "      <th>Loop2</th>\n",
       "      <td>2.499628e+06</td>\n",
       "      <td>0.766979</td>\n",
       "    </tr>\n",
       "    <tr>\n",
       "      <th>Built-in</th>\n",
       "      <td>2.499628e+06</td>\n",
       "      <td>0.525851</td>\n",
       "    </tr>\n",
       "    <tr>\n",
       "      <th>numpy</th>\n",
       "      <td>0.000000e+00</td>\n",
       "      <td>0.009338</td>\n",
       "    </tr>\n",
       "  </tbody>\n",
       "</table>\n",
       "</div>"
      ],
      "text/plain": [
       "                   Sum      Time\n",
       "Loop      2.499628e+06  0.798462\n",
       "Loop2     2.499628e+06  0.766979\n",
       "Built-in  2.499628e+06  0.525851\n",
       "numpy     0.000000e+00  0.009338"
      ]
     },
     "execution_count": 20,
     "metadata": {},
     "output_type": "execute_result"
    }
   ],
   "source": [
    "aa = np.random.rand(N) ## Creates a Numpy array of random numbers between 0 and 1\n",
    "print(\"Vector of type \", type(aa))\n",
    "df = compareRunTimes(aa)\n",
    "df.head()"
   ]
  },
  {
   "cell_type": "code",
   "execution_count": 21,
   "metadata": {},
   "outputs": [
    {
     "name": "stdout",
     "output_type": "stream",
     "text": [
      "Vector of type  <class 'range'>\n"
     ]
    },
    {
     "data": {
      "text/html": [
       "<div>\n",
       "<style scoped>\n",
       "    .dataframe tbody tr th:only-of-type {\n",
       "        vertical-align: middle;\n",
       "    }\n",
       "\n",
       "    .dataframe tbody tr th {\n",
       "        vertical-align: top;\n",
       "    }\n",
       "\n",
       "    .dataframe thead th {\n",
       "        text-align: right;\n",
       "    }\n",
       "</style>\n",
       "<table border=\"1\" class=\"dataframe\">\n",
       "  <thead>\n",
       "    <tr style=\"text-align: right;\">\n",
       "      <th></th>\n",
       "      <th>Sum</th>\n",
       "      <th>Time</th>\n",
       "    </tr>\n",
       "  </thead>\n",
       "  <tbody>\n",
       "    <tr>\n",
       "      <th>Loop</th>\n",
       "      <td>1.250000e+13</td>\n",
       "      <td>0.405002</td>\n",
       "    </tr>\n",
       "    <tr>\n",
       "      <th>Loop2</th>\n",
       "      <td>1.250000e+13</td>\n",
       "      <td>0.402535</td>\n",
       "    </tr>\n",
       "    <tr>\n",
       "      <th>Built-in</th>\n",
       "      <td>1.250000e+13</td>\n",
       "      <td>0.128264</td>\n",
       "    </tr>\n",
       "    <tr>\n",
       "      <th>numpy</th>\n",
       "      <td>1.250000e+13</td>\n",
       "      <td>0.875588</td>\n",
       "    </tr>\n",
       "  </tbody>\n",
       "</table>\n",
       "</div>"
      ],
      "text/plain": [
       "                   Sum      Time\n",
       "Loop      1.250000e+13  0.405002\n",
       "Loop2     1.250000e+13  0.402535\n",
       "Built-in  1.250000e+13  0.128264\n",
       "numpy     1.250000e+13  0.875588"
      ]
     },
     "execution_count": 21,
     "metadata": {},
     "output_type": "execute_result"
    }
   ],
   "source": [
    "aa = range(N) ## Creates a range of integers\n",
    "print(\"Vector of type \", type(aa))\n",
    "df = compareRunTimes(aa)\n",
    "df.head()"
   ]
  },
  {
   "cell_type": "code",
   "execution_count": 22,
   "metadata": {},
   "outputs": [
    {
     "name": "stdout",
     "output_type": "stream",
     "text": [
      "Vector of type  <class 'range'>\n"
     ]
    },
    {
     "data": {
      "text/html": [
       "<div>\n",
       "<style scoped>\n",
       "    .dataframe tbody tr th:only-of-type {\n",
       "        vertical-align: middle;\n",
       "    }\n",
       "\n",
       "    .dataframe tbody tr th {\n",
       "        vertical-align: top;\n",
       "    }\n",
       "\n",
       "    .dataframe thead th {\n",
       "        text-align: right;\n",
       "    }\n",
       "</style>\n",
       "<table border=\"1\" class=\"dataframe\">\n",
       "  <thead>\n",
       "    <tr style=\"text-align: right;\">\n",
       "      <th></th>\n",
       "      <th>Sum</th>\n",
       "      <th>Time</th>\n",
       "    </tr>\n",
       "  </thead>\n",
       "  <tbody>\n",
       "    <tr>\n",
       "      <th>Loop</th>\n",
       "      <td>1.250000e+13</td>\n",
       "      <td>0.391193</td>\n",
       "    </tr>\n",
       "    <tr>\n",
       "      <th>Loop2</th>\n",
       "      <td>1.250000e+13</td>\n",
       "      <td>0.400752</td>\n",
       "    </tr>\n",
       "    <tr>\n",
       "      <th>Built-in</th>\n",
       "      <td>1.250000e+13</td>\n",
       "      <td>0.132461</td>\n",
       "    </tr>\n",
       "    <tr>\n",
       "      <th>numpy</th>\n",
       "      <td>1.250000e+13</td>\n",
       "      <td>0.779523</td>\n",
       "    </tr>\n",
       "  </tbody>\n",
       "</table>\n",
       "</div>"
      ],
      "text/plain": [
       "                   Sum      Time\n",
       "Loop      1.250000e+13  0.391193\n",
       "Loop2     1.250000e+13  0.400752\n",
       "Built-in  1.250000e+13  0.132461\n",
       "numpy     1.250000e+13  0.779523"
      ]
     },
     "execution_count": 22,
     "metadata": {},
     "output_type": "execute_result"
    }
   ],
   "source": [
    "aa = range(N) ## Creates a range of integers\n",
    "print(\"Vector of type \", type(aa))\n",
    "df = compareRunTimes(aa)\n",
    "df.head()"
   ]
  },
  {
   "cell_type": "markdown",
   "metadata": {},
   "source": [
    "**Note:** the same holds for *sum*, *max*, *min*, *mean*..."
   ]
  },
  {
   "cell_type": "markdown",
   "metadata": {},
   "source": [
    "Warning `numpy` can return some overflow for integers"
   ]
  },
  {
   "cell_type": "code",
   "execution_count": 23,
   "metadata": {},
   "outputs": [
    {
     "name": "stdout",
     "output_type": "stream",
     "text": [
      "9223372036854775807 9223372036854775808\n",
      "9223372036854775807 -9223372036854775808\n",
      "9223372036854775807 -9223372036854775808\n"
     ]
    }
   ],
   "source": [
    "a = 2**63 - 1\n",
    "\n",
    "ar = np.array(a, dtype=np.int64)\n",
    "ar2 = np.array(a)\n",
    "print(a, a+1)\n",
    "print(ar, ar+1)\n",
    "print(ar2, ar2+1)"
   ]
  },
  {
   "cell_type": "markdown",
   "metadata": {},
   "source": [
    "###  The axis keyword\n",
    "\n",
    "It allows to apply a function to a slice of a multi-dimensional array."
   ]
  },
  {
   "cell_type": "code",
   "execution_count": null,
   "metadata": {},
   "outputs": [],
   "source": []
  },
  {
   "cell_type": "code",
   "execution_count": 24,
   "metadata": {
    "tags": []
   },
   "outputs": [
    {
     "name": "stdout",
     "output_type": "stream",
     "text": [
      "Dimensions of xx:  (4, 10000000)\n"
     ]
    }
   ],
   "source": [
    "xx = np.random.normal(0., 1., (4, 10000000))\n",
    "print(\"Dimensions of xx: \", xx.shape)"
   ]
  },
  {
   "cell_type": "code",
   "execution_count": 25,
   "metadata": {
    "tags": []
   },
   "outputs": [
    {
     "name": "stdout",
     "output_type": "stream",
     "text": [
      "Sum =  [ 5169.1019 -3242.5516  -325.2079 -4585.7736] --- Computation time:  0.07154  seconds\n",
      "Sum2 =  [ 5169.1019 -3242.5516  -325.2079 -4585.7736] --- Computation time:  0.03558  seconds\n"
     ]
    }
   ],
   "source": [
    "t0 = time.time()\n",
    "xSum = []\n",
    "for i in range(xx.shape[0]):\n",
    "    xSum.append(np.sum(xx[i,:]))\n",
    "dt = time.time() - t0\n",
    "print(\"Sum = \", np.round(xSum, 4), \"--- Computation time: \", np.round(dt, 5), \" seconds\")\n",
    "\n",
    "t0 = time.time()\n",
    "xSum2 = np.sum(xx, axis=1) \n",
    "dt = time.time() - t0\n",
    "print(\"Sum2 = \", np.round(xSum2, 4), \"--- Computation time: \", np.round(dt, 5), \" seconds\")"
   ]
  },
  {
   "cell_type": "markdown",
   "metadata": {},
   "source": [
    "Computation times are similar since we only loop over 4 elements. Suppose now the first dimension of xx is large:"
   ]
  },
  {
   "cell_type": "code",
   "execution_count": 26,
   "metadata": {
    "tags": []
   },
   "outputs": [
    {
     "name": "stdout",
     "output_type": "stream",
     "text": [
      "Dimensions of xx:  (100000, 100)\n",
      " Loop Computation time:  0.75923  seconds\n",
      "Numpy Computation time:  0.01104  seconds\n"
     ]
    }
   ],
   "source": [
    "xx = np.random.normal(0., 1., (100000, 100))\n",
    "print(\"Dimensions of xx: \", xx.shape)\n",
    "\n",
    "t0 = time.time()\n",
    "xSum = []\n",
    "for i in range(xx.shape[0]):\n",
    "    xSum.append(np.sum(xx[i,:]))\n",
    "dt = time.time() - t0\n",
    "print(\" Loop Computation time: \", np.round(dt, 5), \" seconds\")\n",
    "\n",
    "t0 = time.time()\n",
    "xSum = np.sum(xx, axis=1) \n",
    "dt = time.time() - t0\n",
    "print(\"Numpy Computation time: \", np.round(dt, 5), \" seconds\")\n"
   ]
  },
  {
   "cell_type": "markdown",
   "metadata": {},
   "source": [
    "### Example: Computing pairwise (Euclidean) distances\n",
    "\n",
    "Consider two two-dimensional arrays $X\\in\\mathbb{R}^{d_x, n}$ and $Y\\in\\mathbb{R}^{d_y, n}$. We wish to compute the Euclidean distance\n",
    "$$\n",
    "D(X, Y)_{j,k} := \\sqrt{\\sum_{i=0}^{n}(X_{j,i}-Y_{k,i})^2},\n",
    "$$\n",
    "considering the $j$-th row of $X$ and the $k$-th row of $Y$.\n",
    "\n",
    "The dimensions can be understood as follows for example:\n",
    "\n",
    "- dx: number of credit lines in Portfolio X\n",
    "- dy: number of credit lines in Portfolio Y\n",
    "- n: number of (daily) observations for each credit line"
   ]
  },
  {
   "cell_type": "code",
   "execution_count": 27,
   "metadata": {},
   "outputs": [],
   "source": [
    "n, dx, dy = 100000, 50, 100\n",
    "X = np.random.normal(0., 1., (dx, n))\n",
    "Y = np.random.normal(0., 1., (dy, n))"
   ]
  },
  {
   "cell_type": "markdown",
   "metadata": {},
   "source": [
    "We first start by fixing one element $(j,k)=(1,1)$"
   ]
  },
  {
   "cell_type": "code",
   "execution_count": 28,
   "metadata": {},
   "outputs": [
    {
     "name": "stdout",
     "output_type": "stream",
     "text": [
      "Distance:  447.95560025374454  --- Computation time:  335.9842300415039\n",
      "Distance:  447.95560025374454  --- Computation time:  31.244754791259766\n"
     ]
    }
   ],
   "source": [
    "j, k = 1, 1\n",
    "t0 = time.time()\n",
    "dist = np.sqrt(np.sum([(x-y)**2 for (x,y) in zip(X[j,:], Y[k,:])]))\n",
    "dt = time.time() - t0\n",
    "print(\"Distance: \", dist, \" --- Computation time: \", dx*dy*dt)\n",
    "\n",
    "t0 = time.time()\n",
    "dist = np.sqrt(np.sum(((X[j,:]- Y[k,:])**2)))\n",
    "dt = time.time() - t0\n",
    "print(\"Distance: \", dist, \" --- Computation time: \", dx*dy*dt)"
   ]
  },
  {
   "cell_type": "markdown",
   "metadata": {},
   "source": [
    "### Broadcasting"
   ]
  },
  {
   "cell_type": "code",
   "execution_count": null,
   "metadata": {},
   "outputs": [],
   "source": [
    "t0 = time.time()\n",
    "X1 = X.reshape(dx, 1, n)\n",
    "Y1 = Y.reshape(1, dy, n)\n",
    "diffs = X1 - Y1\n",
    "dists = np.sqrt(np.sum(diffs**2, axis=2))\n",
    "dt = time.time() - t0\n",
    "print(\"Distance: \", dists[j,k], \" --- Computation time: \", dt)\n",
    "\n",
    "t0 = time.time()\n",
    "dists = np.sqrt(np.sum((X[:, np.newaxis] - Y[np.newaxis])**2, axis=2)) ## same as the reshaping above\n",
    "dt = time.time() - t0\n",
    "print(\"Distance: \", dists[j,k], \" --- Computation time: \", dt)"
   ]
  },
  {
   "cell_type": "markdown",
   "metadata": {},
   "source": [
    "As soon as the dimension $n$ gets large, the computation time becomes too large.\n",
    "\n",
    "Optimised broadcasting:"
   ]
  },
  {
   "cell_type": "code",
   "execution_count": null,
   "metadata": {},
   "outputs": [],
   "source": [
    "t0 = time.time()\n",
    "dists = -2 * np.matmul(X, Y.T)\n",
    "dists +=  np.sum(X**2, axis=1)[:, np.newaxis]\n",
    "dists += np.sum(Y**2, axis=1)\n",
    "di = np.sqrt(dists[j,k])\n",
    "dt = time.time() - t0\n",
    "print(\"Distance: \", di, \" --- Computation time: \", dt)"
   ]
  },
  {
   "cell_type": "markdown",
   "metadata": {},
   "source": [
    "### What about more involved functions?"
   ]
  },
  {
   "cell_type": "code",
   "execution_count": null,
   "metadata": {},
   "outputs": [],
   "source": [
    "def f(x):\n",
    "    if x < 0.:\n",
    "        return np.cos(x)\n",
    "    else:\n",
    "        return np.exp(-x)"
   ]
  },
  {
   "cell_type": "code",
   "execution_count": null,
   "metadata": {},
   "outputs": [],
   "source": [
    "xx = np.random.normal(0.,1., 5)\n",
    "print(xx)\n",
    "f(xx)"
   ]
  },
  {
   "cell_type": "code",
   "execution_count": null,
   "metadata": {},
   "outputs": [],
   "source": [
    "fVec = np.vectorize(f)\n",
    "N = 1000000\n",
    "xx = np.random.normal(0., 1., N)\n",
    "\n",
    "t0 = time.time()\n",
    "yyLoop = []\n",
    "for x in xx:\n",
    "    yyLoop.append(f(x))\n",
    "dtLoop = time.time() - t0\n",
    "\n",
    "t0 = time.time()\n",
    "yyv = fVec(xx)\n",
    "dtv = time.time() - t0\n",
    "\n",
    "t0 = time.time()\n",
    "yyv2 = [f(x) for x in xx]\n",
    "dtv2 = time.time() - t0\n",
    "\n",
    "df = pd.DataFrame([dtLoop, dtv, dtv2], index=[\"Loop\", \"Vec\", \"Iter\"], columns=[\"Time (seconds)\"])\n",
    "df.head()"
   ]
  },
  {
   "cell_type": "markdown",
   "metadata": {},
   "source": [
    "*Note: The vectorize function is provided primarily for convenience, not for performance. The implementation is essentially a `for` loop.*"
   ]
  },
  {
   "cell_type": "markdown",
   "metadata": {},
   "source": [
    "### Convolutions"
   ]
  },
  {
   "cell_type": "code",
   "execution_count": null,
   "metadata": {},
   "outputs": [],
   "source": [
    "def newFunc(g, x):\n",
    "    return g(x) ** 2"
   ]
  },
  {
   "cell_type": "code",
   "execution_count": null,
   "metadata": {},
   "outputs": [],
   "source": [
    "print(\"Calling a numpy function: \", newFunc(np.cos, -2.))\n",
    "print(\"Calling a function defined previously: \", newFunc(f, -2.))"
   ]
  },
  {
   "cell_type": "markdown",
   "metadata": {},
   "source": [
    "## Numerical integration"
   ]
  },
  {
   "cell_type": "code",
   "execution_count": null,
   "metadata": {},
   "outputs": [],
   "source": [
    "from scipy.integrate import quad, simps\n",
    "import matplotlib.pylab as plt\n",
    "import numpy as np"
   ]
  },
  {
   "cell_type": "markdown",
   "metadata": {},
   "source": [
    "GOAL: Integrate\n",
    "$$\n",
    "f_{\\sigma}(x) = \\frac{1}{\\sigma\\sqrt{2\\pi}}\\exp\\left\\{-\\frac{x^2}{2\\sigma^2}\\right\\}.\n",
    "$$\n",
    "This is the probability density function of the Normal distribution with variance $\\sigma^2$ and mean $0$.\n"
   ]
  },
  {
   "cell_type": "markdown",
   "metadata": {},
   "source": [
    "If X is a random variable with Normal/Gaussian distribution with mean $\\mu$ and variance $\\sigma^2$, then for any $x\\in\\mathbb{R}$,\n",
    "\n",
    "$$\n",
    "\\mathbb{P}(X\\leq z) = \\int_{-\\infty}^{z}\\frac{1}{\\sigma\\sqrt{2\\pi}}\\exp\\left\\{-\\frac{(x-\\mu)^2}{2\\sigma^2}\\right\\}dx.\n",
    "$$"
   ]
  },
  {
   "cell_type": "markdown",
   "metadata": {},
   "source": [
    "$A>0$.\n",
    "$$\n",
    "\\int_{-\\infty}^{+\\infty}f_{\\sigma}(x)dx \\approx \\int_{-A}^{+A}f_{\\sigma}(x)dx = 2\\int_{0}^{+A}f_{\\sigma}(x)dx\n",
    "$$"
   ]
  },
  {
   "cell_type": "code",
   "execution_count": null,
   "metadata": {
    "tags": []
   },
   "outputs": [],
   "source": [
    "def f(x, sig):\n",
    "    return np.exp(-x*x / (2.*sig*sig)) / (sig*np.sqrt(2.*np.pi))"
   ]
  },
  {
   "cell_type": "markdown",
   "metadata": {},
   "source": [
    "We wish to integrate the functions on the interval $[-10, 10]$. \n",
    "$$\n",
    "\\int_{-10}^{10}f_{\\sigma}(x) dx\n",
    "$$\n",
    "\n",
    "**First Step: !! ALWAYS PLOT THE FUNCTION TO INTEGRATE !!**"
   ]
  },
  {
   "cell_type": "code",
   "execution_count": null,
   "metadata": {
    "tags": []
   },
   "outputs": [],
   "source": [
    "xMin, xMax = -10., 10.\n",
    "sigma = [1., 2., 8.]\n",
    "xx = np.linspace(xMin, xMax, 1000)\n",
    "plt.figure(figsize=(10,4))\n",
    "ff = []\n",
    "for s in sigma:\n",
    "    ff.append([f(x,s) for x in xx])\n",
    "    plt.plot(xx, ff[-1], label='$\\sigma=$ %.1f' %s)\n",
    "\n",
    "plt.plot(xx, 0.*xx, 'r')\n",
    "plt.title(\"Gaussian densities\")\n",
    "plt.legend(loc='best')\n",
    "plt.show()"
   ]
  },
  {
   "cell_type": "markdown",
   "metadata": {},
   "source": [
    "$$\n",
    "1 = \\int_{-\\infty}^{+\\infty}f_{\\sigma}(x)dx \n",
    "=  \\int_{-a}^{+a}f_{\\sigma}(x)dx + \\text{Error}\n",
    "$$"
   ]
  },
  {
   "cell_type": "markdown",
   "metadata": {},
   "source": [
    "Numerical integration documentation: \n",
    "- Simpson's rule: https://docs.scipy.org/doc/scipy/reference/generated/scipy.integrate.simps.html\n",
    "- Adaptive quadrature: https://docs.scipy.org/doc/scipy/reference/generated/scipy.integrate.quad.html"
   ]
  },
  {
   "cell_type": "code",
   "execution_count": null,
   "metadata": {
    "tags": []
   },
   "outputs": [],
   "source": [
    "from scipy.integrate import quad"
   ]
  },
  {
   "cell_type": "code",
   "execution_count": null,
   "metadata": {
    "tags": []
   },
   "outputs": [],
   "source": [
    "sigma"
   ]
  },
  {
   "cell_type": "code",
   "execution_count": null,
   "metadata": {
    "tags": []
   },
   "outputs": [],
   "source": [
    "print('Numerical integration for f:')\n",
    "\n",
    "a = 20.\n",
    "\n",
    "for i in range(len(sigma)):\n",
    "    print('sigma=', sigma[i])\n",
    "    qf = quad(f, -a, a, args=(sigma[i],))\n",
    "    #qs = simps(ff[i], xx)\n",
    "    print(\"Quadrature: \", qf)\n",
    "    #print(\"Simpson: \", qs)\n",
    "    print(\"***************************\")"
   ]
  },
  {
   "cell_type": "markdown",
   "metadata": {},
   "source": [
    "## Optimisation and root-finding"
   ]
  },
  {
   "cell_type": "markdown",
   "metadata": {},
   "source": [
    "We investigate some of the importants routines within the scipy.optimize package https://docs.scipy.org/doc/scipy/reference/optimize.html"
   ]
  },
  {
   "cell_type": "markdown",
   "metadata": {},
   "source": [
    "### Root finding"
   ]
  },
  {
   "cell_type": "markdown",
   "metadata": {},
   "source": [
    "We are interested in finding the (unique?) solution to the equation\n",
    "$$\n",
    "f(x) = 0,\n",
    "$$\n",
    "over some given interval.\n"
   ]
  },
  {
   "cell_type": "code",
   "execution_count": null,
   "metadata": {
    "tags": []
   },
   "outputs": [],
   "source": [
    "from scipy.optimize import fsolve, root, minimize\n",
    "\n",
    "def f(x):\n",
    "    return x**2 - 1.\n",
    "\n",
    "xx = np.linspace(-2, 4)\n",
    "plt.plot(xx, [0. for x in xx], 'r')\n",
    "plt.plot(xx, f(xx), 'b')\n",
    "plt.show()"
   ]
  },
  {
   "cell_type": "code",
   "execution_count": null,
   "metadata": {
    "tags": []
   },
   "outputs": [],
   "source": [
    "x0temp = 5.*(2.*np.random.rand(1000)-1.) ## random number in [-5, 1]"
   ]
  },
  {
   "cell_type": "code",
   "execution_count": null,
   "metadata": {
    "tags": []
   },
   "outputs": [],
   "source": [
    "xs = []\n",
    "for x0 in x0temp:\n",
    "    xs.append(fsolve(f, x0=x0))\n",
    "    \n",
    "np.min(xs), np.max(xs)"
   ]
  },
  {
   "cell_type": "markdown",
   "metadata": {},
   "source": [
    "Note that this is a local solver, that needs a starting estimate."
   ]
  },
  {
   "cell_type": "code",
   "execution_count": null,
   "metadata": {},
   "outputs": [],
   "source": [
    "xx = np.linspace(-2, 2, 11)\n",
    "ff, ddt = [], []\n",
    "for x0 in xx:\n",
    "    t0 = time.time()\n",
    "    fs = fsolve(f, x0=x0, xtol=1E-20)[0]\n",
    "    dt = np.round(t0 - time.time() - t0, 2)\n",
    "    ff.append(fs)\n",
    "    ddt.append(dt)\n",
    "df = pd.DataFrame(list(zip(xx, ff, ddt)), index=xx, columns = [\"x0\", \"Solution\", \"Time (seconds)\"])\n",
    "df.set_index(\"x0\")\n",
    "print(df)"
   ]
  },
  {
   "cell_type": "markdown",
   "metadata": {},
   "source": [
    "It also works in the multidimensional setting:"
   ]
  },
  {
   "cell_type": "code",
   "execution_count": null,
   "metadata": {},
   "outputs": [],
   "source": [
    "def f(x):\n",
    "    return [x[0]**2+x[1]**2-1., x[0]-x[1]]\n",
    "\n",
    "aa = np.linspace(-1.,1.,1000)\n",
    "cirP = np.sqrt(1.-aa**2)\n",
    "cirM = -np.sqrt(1.-aa**2)\n",
    "lin = [a for a in aa]\n",
    "\n",
    "plt.figure(figsize=(5,5))\n",
    "plt.plot(aa,cirP, 'b')\n",
    "plt.plot(aa,cirM, 'b')\n",
    "plt.plot(aa,lin,'r')\n",
    "plt.show()"
   ]
  },
  {
   "cell_type": "code",
   "execution_count": null,
   "metadata": {},
   "outputs": [],
   "source": [
    "x0 = [.2, .4]\n",
    "\n",
    "print(fsolve(f, x0))"
   ]
  },
  {
   "cell_type": "code",
   "execution_count": null,
   "metadata": {},
   "outputs": [],
   "source": [
    "print(root(f, x0))"
   ]
  },
  {
   "cell_type": "markdown",
   "metadata": {},
   "source": [
    "### Optimisation"
   ]
  },
  {
   "cell_type": "markdown",
   "metadata": {},
   "source": [
    "**Remark:** Root-finding problems can be recast as minimisation problem. For example, solving $f(x) = c$ can be tackled as\n",
    "\\begin{equation*}\n",
    "\\min_{x} \\left[f(x)-c\\right]^2.\n",
    "\\end{equation*}"
   ]
  },
  {
   "cell_type": "markdown",
   "metadata": {},
   "source": [
    "When solving an optimisation problem of the form $\\min_{x}g(x)$, we first need to consider the following question:\n",
    "- Is the objective function $g$ convex?\n",
    "- Is the objective function $g$ smooth, i.e. is its gradient defined everywhere?\n",
    "- Are there constraints?"
   ]
  },
  {
   "cell_type": "markdown",
   "metadata": {},
   "source": [
    "We could also consider \n",
    "$$\n",
    "\\min_{x} |f(x) - c|\n",
    "$$"
   ]
  },
  {
   "cell_type": "markdown",
   "metadata": {},
   "source": [
    "#### One-dimensional optimisation"
   ]
  },
  {
   "cell_type": "markdown",
   "metadata": {},
   "source": [
    "$$\n",
    "\\min_{x} [f(x)-c]^2 = \\min_{x} [x^2-1]^2\n",
    "$$"
   ]
  },
  {
   "cell_type": "code",
   "execution_count": null,
   "metadata": {
    "tags": []
   },
   "outputs": [],
   "source": [
    "from scipy.optimize import minimize_scalar\n",
    "def f(x):\n",
    "    return x*x\n",
    "\n",
    "def f2(x):\n",
    "    c = 1.\n",
    "    return (f(x)-c)**2\n",
    "\n",
    "result = minimize_scalar(f2)\n",
    "print(result)"
   ]
  },
  {
   "cell_type": "code",
   "execution_count": null,
   "metadata": {
    "tags": []
   },
   "outputs": [],
   "source": [
    "print(\"*******************\")\n",
    "result2 = minimize_scalar(f2, bounds=(-5., 5.), method='bounded')\n",
    "print(result2)"
   ]
  },
  {
   "cell_type": "code",
   "execution_count": null,
   "metadata": {},
   "outputs": [],
   "source": []
  },
  {
   "cell_type": "code",
   "execution_count": null,
   "metadata": {},
   "outputs": [],
   "source": []
  },
  {
   "cell_type": "code",
   "execution_count": null,
   "metadata": {},
   "outputs": [],
   "source": []
  }
 ],
 "metadata": {
  "kernelspec": {
   "display_name": "Python 3 (ipykernel)",
   "language": "python",
   "name": "python3"
  },
  "language_info": {
   "codemirror_mode": {
    "name": "ipython",
    "version": 3
   },
   "file_extension": ".py",
   "mimetype": "text/x-python",
   "name": "python",
   "nbconvert_exporter": "python",
   "pygments_lexer": "ipython3",
   "version": "3.9.13"
  },
  "latex_envs": {
   "LaTeX_envs_menu_present": true,
   "autoclose": false,
   "autocomplete": true,
   "bibliofile": "biblio.bib",
   "cite_by": "apalike",
   "current_citInitial": 1,
   "eqLabelWithNumbers": true,
   "eqNumInitial": 1,
   "hotkeys": {
    "equation": "Ctrl-E",
    "itemize": "Ctrl-I"
   },
   "labels_anchors": false,
   "latex_user_defs": false,
   "report_style_numbering": false,
   "user_envs_cfg": false
  },
  "toc": {
   "base_numbering": 1,
   "nav_menu": {},
   "number_sections": true,
   "sideBar": true,
   "skip_h1_title": true,
   "title_cell": "Table of Contents",
   "title_sidebar": "Contents",
   "toc_cell": false,
   "toc_position": {
    "height": "calc(100% - 180px)",
    "left": "10px",
    "top": "150px",
    "width": "164.988px"
   },
   "toc_section_display": true,
   "toc_window_display": true
  }
 },
 "nbformat": 4,
 "nbformat_minor": 4
}
