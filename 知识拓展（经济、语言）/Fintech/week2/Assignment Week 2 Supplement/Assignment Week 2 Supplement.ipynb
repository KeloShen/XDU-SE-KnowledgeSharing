{
 "cells": [
  {
   "cell_type": "markdown",
   "id": "934f4d6e-c951-4e52-aba3-fda6e8628e29",
   "metadata": {},
   "source": [
    "# **Assignment Week 2 Supplementary Code**\n",
    "---\n",
    " \n",
    " \n",
    "- Copyright (c) Lukas Gonon, 2024. All rights reserved\n",
    "\n",
    "- Author: Lukas Gonon <l.gonon@imperial.ac.uk>\n",
    "\n",
    "- Platform: Tested on Windows 10 with Python 3.9"
   ]
  },
  {
   "cell_type": "code",
   "execution_count": null,
   "id": "4a246b4e-9b97-4b1e-bb44-ac08b5edba19",
   "metadata": {
    "tags": []
   },
   "outputs": [],
   "source": [
    "import numpy as np\n",
    "import matplotlib.pylab as plt"
   ]
  },
  {
   "cell_type": "markdown",
   "id": "f67a3070-c958-43b6-a046-f3dc91837eb9",
   "metadata": {
    "tags": []
   },
   "source": [
    "## Question 2"
   ]
  },
  {
   "cell_type": "markdown",
   "id": "4df53003-c649-4519-bf89-cd3d9b53c168",
   "metadata": {},
   "source": [
    " We write a function `estimate_pi(n)` that estimates the number $\\pi$ as follows using the following fact:\n",
    "- Consider the circle centered at the origin $(0,0)$. \n",
    "- Draw samples of points in the square $((-1,-1), (-1,1), (1,1), (1,-1))$ using `numpy.random.rand(n,2)`.\n",
    "- Using the fact that the distance from the origin to the circle (which has radius $1$) is equal to $1$ and that the circle (of radius $1$) has area $\\pi$, determine an estimate of $\\pi$.\n",
    "\n"
   ]
  },
  {
   "cell_type": "code",
   "execution_count": 1,
   "id": "ff505722",
   "metadata": {},
   "outputs": [],
   "source": [
    "import numpy as np\n",
    "import matplotlib.pylab as plt\n",
    "from numpy.random import rand\n",
    "def f_1(n, sample):\n",
    "    area = 0\n",
    "    for i in range(n):\n",
    "        x = 2.*sample[i,0] - 1.\n",
    "        y = 2.*sample[i,1] - 1.\n",
    "        dist = x**2 + y**2\n",
    "        if dist <= 1.:\n",
    "            area +=1\n",
    "    return 4. * (area / n)\n",
    "\n",
    "def f_2(n, sample):\n",
    "    x = 2.*sample[:,0] - 1.\n",
    "    y = 2.*sample[:,1] - 1.\n",
    "    dist = x**2 + y**2\n",
    "    area = 0\n",
    "    for i in range(n):\n",
    "        if dist[i] <= 1.:\n",
    "            area +=1\n",
    "    return 4. * (area / n)\n",
    "\n",
    "def f_3(n, sample):\n",
    "    x = 2.*sample[:,0] - 1.\n",
    "    y = 2.*sample[:,1] - 1.\n",
    "    dist = x**2 + y**2 <= 1.\n",
    "    area = np.sum(dist)\n",
    "    return 4. * (area / n)"
   ]
  },
  {
   "cell_type": "code",
   "execution_count": 2,
   "id": "31cbb7db",
   "metadata": {},
   "outputs": [],
   "source": [
    "def extract_digit(number):\n",
    "    num = str(number)\n",
    "    dig = []\n",
    "    for char in num:\n",
    "        dig.append(char)\n",
    "    return dig"
   ]
  },
  {
   "cell_type": "code",
   "execution_count": 5,
   "id": "31a81cc4",
   "metadata": {},
   "outputs": [
    {
     "name": "stdout",
     "output_type": "stream",
     "text": [
      "['1', '2', '3', '4']\n",
      "<class 'list'>\n",
      "<class 'str'>\n"
     ]
    }
   ],
   "source": [
    "test = extract_digit(1234)\n",
    "print(test)\n",
    "print(type(test))\n",
    "print(type(test[0]))"
   ]
  },
  {
   "cell_type": "markdown",
   "id": "58a95339-cfec-429e-91ff-0a1bf7f59e73",
   "metadata": {},
   "source": [
    "Which of these functions is fastest?"
   ]
  }
 ],
 "metadata": {
  "kernelspec": {
   "display_name": "Python 3 (ipykernel)",
   "language": "python",
   "name": "python3"
  },
  "language_info": {
   "codemirror_mode": {
    "name": "ipython",
    "version": 3
   },
   "file_extension": ".py",
   "mimetype": "text/x-python",
   "name": "python",
   "nbconvert_exporter": "python",
   "pygments_lexer": "ipython3",
   "version": "3.9.13"
  }
 },
 "nbformat": 4,
 "nbformat_minor": 5
}
